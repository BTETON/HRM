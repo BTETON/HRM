{
 "cells": [
  {
   "cell_type": "code",
   "execution_count": 1,
   "metadata": {
    "collapsed": true
   },
   "outputs": [],
   "source": [
    "#https://github.com/nealjean/predicting-poverty/blob/master/scripts/ProcessSurveyData.R\n",
    "#https://github.com/nealjean/predicting-poverty/blob/master/scripts/Fig1.R"
   ]
  },
  {
   "cell_type": "code",
   "execution_count": 1,
   "metadata": {
    "collapsed": true
   },
   "outputs": [],
   "source": [
    "import pandas as pd\n",
    "import numpy as np\n",
    "import matplotlib.pyplot as plt\n",
    "%matplotlib inline\n",
    "import gdal\n",
    "import sys\n",
    "sys.path.append(\"../Code\")\n",
    "sys.path.append(\"../Src\")\n",
    "from img_lib import RasterGrid"
   ]
  },
  {
   "cell_type": "markdown",
   "metadata": {},
   "source": [
    "# Prepare LSMS Data from Uganda 2011-2012"
   ]
  },
  {
   "cell_type": "markdown",
   "metadata": {},
   "source": [
    "## Load and Merge LSMS DataFiles"
   ]
  },
  {
   "cell_type": "code",
   "execution_count": 3,
   "metadata": {
    "collapsed": true
   },
   "outputs": [],
   "source": [
    "# Data Source : http://microdata.worldbank.org/index.php/catalog/2059/datafile/F70"
   ]
  },
  {
   "cell_type": "code",
   "execution_count": 4,
   "metadata": {
    "collapsed": true
   },
   "outputs": [],
   "source": [
    "#hh_data_2013=pd.read_csv(\"../Data/HH/WB/UGA_2013_UNPS_v01_M_CSV/agsec1.csv\")"
   ]
  },
  {
   "cell_type": "code",
   "execution_count": 2,
   "metadata": {
    "collapsed": true
   },
   "outputs": [],
   "source": [
    "hh_data_2011_cons=pd.read_stata(\"../Data/HH/WB/UGA_2011_UNPS_v01_M_STATA/UNPS 2011-12 Consumption Aggregate.dta\")[[\"HHID\",\"welfare\",\"poor\"]]\n",
    "hh_data_2011_coords=pd.read_stata(\"../Data/HH/WB/UGA_2011_UNPS_v01_M_STATA/UNPS_Geovars_1112.dta\")[[\"HHID\",\"lat_mod\",\"lon_mod\",\"urban\"]]\n",
    "hh_data_2011_weights=pd.read_stata(\"../Data/HH/WB/UGA_2011_UNPS_v01_M_STATA/GSEC1.dta\")[[\"HHID\",\"comm\",\"mult\"]]\n",
    "hh_data_2011_assets=pd.read_stata(\"../Data/HH/WB/UGA_2011_UNPS_v01_M_STATA/GSEC9A.dta\")[[\"HHID\",\"h9q3\",\"h9q4\"]]"
   ]
  },
  {
   "cell_type": "code",
   "execution_count": 3,
   "metadata": {
    "collapsed": true
   },
   "outputs": [],
   "source": [
    "hh_data_2011=hh_data_2011_cons.merge(hh_data_2011_coords).merge(hh_data_2011_weights).merge(hh_data_2011_assets)"
   ]
  },
  {
   "cell_type": "code",
   "execution_count": 4,
   "metadata": {},
   "outputs": [
    {
     "data": {
      "text/html": [
       "<div>\n",
       "<style>\n",
       "    .dataframe thead tr:only-child th {\n",
       "        text-align: right;\n",
       "    }\n",
       "\n",
       "    .dataframe thead th {\n",
       "        text-align: left;\n",
       "    }\n",
       "\n",
       "    .dataframe tbody tr th {\n",
       "        vertical-align: top;\n",
       "    }\n",
       "</style>\n",
       "<table border=\"1\" class=\"dataframe\">\n",
       "  <thead>\n",
       "    <tr style=\"text-align: right;\">\n",
       "      <th></th>\n",
       "      <th>HHID</th>\n",
       "      <th>welfare</th>\n",
       "      <th>poor</th>\n",
       "      <th>lat_mod</th>\n",
       "      <th>lon_mod</th>\n",
       "      <th>urban</th>\n",
       "      <th>comm</th>\n",
       "      <th>mult</th>\n",
       "      <th>h9q3</th>\n",
       "      <th>h9q4</th>\n",
       "    </tr>\n",
       "  </thead>\n",
       "  <tbody>\n",
       "    <tr>\n",
       "      <th>0</th>\n",
       "      <td>1013000201</td>\n",
       "      <td>134629.437500</td>\n",
       "      <td>0.0</td>\n",
       "      <td>-0.530627</td>\n",
       "      <td>32.327492</td>\n",
       "      <td>Rural</td>\n",
       "      <td>10130002</td>\n",
       "      <td>1329.515991</td>\n",
       "      <td>2.0</td>\n",
       "      <td>Iron sheets</td>\n",
       "    </tr>\n",
       "    <tr>\n",
       "      <th>1</th>\n",
       "      <td>1013000202</td>\n",
       "      <td>27919.814453</td>\n",
       "      <td>1.0</td>\n",
       "      <td>NaN</td>\n",
       "      <td>NaN</td>\n",
       "      <td>Rural</td>\n",
       "      <td>10130002</td>\n",
       "      <td>7844.594727</td>\n",
       "      <td>1.0</td>\n",
       "      <td>Iron sheets</td>\n",
       "    </tr>\n",
       "    <tr>\n",
       "      <th>2</th>\n",
       "      <td>1013000204</td>\n",
       "      <td>39011.269531</td>\n",
       "      <td>0.0</td>\n",
       "      <td>-0.530627</td>\n",
       "      <td>32.327492</td>\n",
       "      <td>Rural</td>\n",
       "      <td>10130002</td>\n",
       "      <td>2659.031982</td>\n",
       "      <td>1.0</td>\n",
       "      <td>Iron sheets</td>\n",
       "    </tr>\n",
       "    <tr>\n",
       "      <th>3</th>\n",
       "      <td>1013000206</td>\n",
       "      <td>66898.429688</td>\n",
       "      <td>0.0</td>\n",
       "      <td>0.289081</td>\n",
       "      <td>32.560650</td>\n",
       "      <td>Rural</td>\n",
       "      <td>10130002</td>\n",
       "      <td>891.622498</td>\n",
       "      <td>1.0</td>\n",
       "      <td>Iron sheets</td>\n",
       "    </tr>\n",
       "    <tr>\n",
       "      <th>4</th>\n",
       "      <td>1013000210</td>\n",
       "      <td>112471.296875</td>\n",
       "      <td>0.0</td>\n",
       "      <td>-0.530627</td>\n",
       "      <td>32.327492</td>\n",
       "      <td>Rural</td>\n",
       "      <td>10130002</td>\n",
       "      <td>1624.854736</td>\n",
       "      <td>1.0</td>\n",
       "      <td>Iron sheets</td>\n",
       "    </tr>\n",
       "  </tbody>\n",
       "</table>\n",
       "</div>"
      ],
      "text/plain": [
       "         HHID        welfare  poor   lat_mod    lon_mod  urban      comm  \\\n",
       "0  1013000201  134629.437500   0.0 -0.530627  32.327492  Rural  10130002   \n",
       "1  1013000202   27919.814453   1.0       NaN        NaN  Rural  10130002   \n",
       "2  1013000204   39011.269531   0.0 -0.530627  32.327492  Rural  10130002   \n",
       "3  1013000206   66898.429688   0.0  0.289081  32.560650  Rural  10130002   \n",
       "4  1013000210  112471.296875   0.0 -0.530627  32.327492  Rural  10130002   \n",
       "\n",
       "          mult  h9q3         h9q4  \n",
       "0  1329.515991   2.0  Iron sheets  \n",
       "1  7844.594727   1.0  Iron sheets  \n",
       "2  2659.031982   1.0  Iron sheets  \n",
       "3   891.622498   1.0  Iron sheets  \n",
       "4  1624.854736   1.0  Iron sheets  "
      ]
     },
     "execution_count": 4,
     "metadata": {},
     "output_type": "execute_result"
    }
   ],
   "source": [
    "hh_data_2011.head()"
   ]
  },
  {
   "cell_type": "markdown",
   "metadata": {},
   "source": [
    "## Normalize the consumption variable "
   ]
  },
  {
   "cell_type": "code",
   "execution_count": 7,
   "metadata": {
    "collapsed": true
   },
   "outputs": [],
   "source": [
    "# ProcessSurveyData.R : data.frame(hhid = HHID, cons = welfare*118.69/(30*946.89*mean(c(66.68, 71.55))))"
   ]
  },
  {
   "cell_type": "code",
   "execution_count": 8,
   "metadata": {
    "collapsed": true
   },
   "outputs": [],
   "source": [
    "hh_data_2011[\"cons\"] = hh_data_2011[\"welfare\"]*118.69/(30*946.89*np.mean([66.68, 71.55])) # elucidate"
   ]
  },
  {
   "cell_type": "markdown",
   "metadata": {},
   "source": [
    "## Aggregate by Cluster "
   ]
  },
  {
   "cell_type": "code",
   "execution_count": 9,
   "metadata": {},
   "outputs": [
    {
     "data": {
      "text/plain": [
       "644"
      ]
     },
     "execution_count": 9,
     "metadata": {},
     "output_type": "execute_result"
    }
   ],
   "source": [
    "len(hh_data_2011[\"lat_mod\"].unique()) "
   ]
  },
  {
   "cell_type": "code",
   "execution_count": 10,
   "metadata": {},
   "outputs": [
    {
     "data": {
      "text/plain": [
       "320"
      ]
     },
     "execution_count": 10,
     "metadata": {},
     "output_type": "execute_result"
    }
   ],
   "source": [
    "len(hh_data_2011[\"comm\"].unique()) #The comm variable has less unique locations "
   ]
  },
  {
   "cell_type": "code",
   "execution_count": 11,
   "metadata": {
    "collapsed": true
   },
   "outputs": [],
   "source": [
    "hh_data_2011_cluster=hh_data_2011.groupby([\"lat_mod\",\"lon_mod\"])[[\"cons\",\"poor\"]].agg([\"mean\",\"count\"]).reset_index()"
   ]
  },
  {
   "cell_type": "code",
   "execution_count": 12,
   "metadata": {
    "collapsed": true
   },
   "outputs": [],
   "source": [
    "hh_data_2011_cluster.columns=[\"gpsLatitude\",\"gpsLongitude\",\"cons\",\"n\",\"poor\",\"n2\"]"
   ]
  },
  {
   "cell_type": "markdown",
   "metadata": {},
   "source": [
    "### Filter clusters with less than 3 HHs interviewed "
   ]
  },
  {
   "cell_type": "code",
   "execution_count": 13,
   "metadata": {
    "collapsed": true
   },
   "outputs": [],
   "source": [
    "hh_data_2011_cluster_minHH=hh_data_2011_cluster[hh_data_2011_cluster[\"n\"]>2]"
   ]
  },
  {
   "cell_type": "code",
   "execution_count": 14,
   "metadata": {},
   "outputs": [
    {
     "name": "stderr",
     "output_type": "stream",
     "text": [
      "C:\\Users\\lorenzo.riches\\AppData\\Local\\Continuum\\anaconda3\\envs\\py35env\\lib\\site-packages\\ipykernel_launcher.py:1: SettingWithCopyWarning: \n",
      "A value is trying to be set on a copy of a slice from a DataFrame.\n",
      "Try using .loc[row_indexer,col_indexer] = value instead\n",
      "\n",
      "See the caveats in the documentation: http://pandas.pydata.org/pandas-docs/stable/indexing.html#indexing-view-versus-copy\n",
      "  \"\"\"Entry point for launching an IPython kernel.\n"
     ]
    }
   ],
   "source": [
    "hh_data_2011_cluster_minHH[\"poor_majority\"]= np.where(hh_data_2011_cluster_minHH['poor']>=0.5, 1, 0)\n",
    "hh_data_2011_cluster[\"poor_majority\"]= np.where(hh_data_2011_cluster['poor']>=0.5, 1, 0)"
   ]
  },
  {
   "cell_type": "markdown",
   "metadata": {},
   "source": [
    "## Assign GRID coordinates to each cluster to match with Satellite imageries"
   ]
  },
  {
   "cell_type": "code",
   "execution_count": 15,
   "metadata": {
    "collapsed": true
   },
   "outputs": [],
   "source": [
    "GRID = RasterGrid()"
   ]
  },
  {
   "cell_type": "code",
   "execution_count": 16,
   "metadata": {
    "collapsed": true
   },
   "outputs": [],
   "source": [
    "def get_lon_idx(lon):\n",
    "    lon_idx = np.where(GRID.top_left_x_coords < lon)[0][-1]\n",
    "    return lon_idx\n",
    "def get_lat_idx(lat):\n",
    "    lat_idx = np.where(GRID.top_left_y_coords > lat)[0][-1]\n",
    "    return lat_idx"
   ]
  },
  {
   "cell_type": "code",
   "execution_count": 17,
   "metadata": {},
   "outputs": [
    {
     "name": "stderr",
     "output_type": "stream",
     "text": [
      "C:\\Users\\lorenzo.riches\\AppData\\Local\\Continuum\\anaconda3\\envs\\py35env\\lib\\site-packages\\ipykernel_launcher.py:1: SettingWithCopyWarning: \n",
      "A value is trying to be set on a copy of a slice from a DataFrame.\n",
      "Try using .loc[row_indexer,col_indexer] = value instead\n",
      "\n",
      "See the caveats in the documentation: http://pandas.pydata.org/pandas-docs/stable/indexing.html#indexing-view-versus-copy\n",
      "  \"\"\"Entry point for launching an IPython kernel.\n",
      "C:\\Users\\lorenzo.riches\\AppData\\Local\\Continuum\\anaconda3\\envs\\py35env\\lib\\site-packages\\ipykernel_launcher.py:2: SettingWithCopyWarning: \n",
      "A value is trying to be set on a copy of a slice from a DataFrame.\n",
      "Try using .loc[row_indexer,col_indexer] = value instead\n",
      "\n",
      "See the caveats in the documentation: http://pandas.pydata.org/pandas-docs/stable/indexing.html#indexing-view-versus-copy\n",
      "  \n"
     ]
    }
   ],
   "source": [
    "hh_data_2011_cluster_minHH[\"i\"]=hh_data_2011_cluster_minHH[\"gpsLongitude\"].apply(get_lon_idx)\n",
    "hh_data_2011_cluster_minHH[\"j\"]=hh_data_2011_cluster_minHH[\"gpsLatitude\"].apply(get_lat_idx)"
   ]
  },
  {
   "cell_type": "code",
   "execution_count": 18,
   "metadata": {
    "collapsed": true
   },
   "outputs": [],
   "source": [
    "hh_data_2011_cluster_minHH.to_csv(\"../Data/Intermediate_files/hh_data_2011_cluster_minHH.csv\")"
   ]
  }
 ],
 "metadata": {
  "kernelspec": {
   "display_name": "Python 3",
   "language": "python",
   "name": "python3"
  },
  "language_info": {
   "codemirror_mode": {
    "name": "ipython",
    "version": 3
   },
   "file_extension": ".py",
   "mimetype": "text/x-python",
   "name": "python",
   "nbconvert_exporter": "python",
   "pygments_lexer": "ipython3",
   "version": "3.5.4"
  }
 },
 "nbformat": 4,
 "nbformat_minor": 1
}
