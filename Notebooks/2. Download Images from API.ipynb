{
 "cells": [
  {
   "cell_type": "markdown",
   "metadata": {},
   "source": [
    "## Purpose\n",
    "In this notebook we show the standard pipeline for downloading the imagess correspoding to a list of coordinates. The GPS x,y coordinates from the survey csv file are matched to a GRID coordinates system that maps the World in 1km per 1km tile. The base raster file used to define this GRID sytem is currently the Nighlights Tiff file  "
   ]
  },
  {
   "cell_type": "code",
   "execution_count": 1,
   "metadata": {
    "collapsed": true
   },
   "outputs": [],
   "source": [
    "import sys\n",
    "sys.path.append(\"../Src\")\n",
    "from img_lib import RasterGrid"
   ]
  },
  {
   "cell_type": "markdown",
   "metadata": {},
   "source": [
    "### Instantiate the raster object\n",
    "as done in notebook 1 we instantiate the `RasterGrid()` object and prepare the list of `i` and `j` pairs to downlaod the images."
   ]
  },
  {
   "cell_type": "code",
   "execution_count": 2,
   "metadata": {},
   "outputs": [],
   "source": [
    "GRID = RasterGrid()"
   ]
  },
  {
   "cell_type": "markdown",
   "metadata": {},
   "source": [
    "### Check the Configuration "
   ]
  },
  {
   "cell_type": "code",
   "execution_count": 3,
   "metadata": {},
   "outputs": [
    {
     "data": {
      "text/plain": [
       "{'dataset': {'country': 'Uganda',\n",
       "  'filename': 'WB_Uganda_2011_cluster.csv',\n",
       "  'level': 'cluster',\n",
       "  'month': 1,\n",
       "  'source': 'WB',\n",
       "  'year': 2011},\n",
       " 'network': {'layer': 'AvgPool', 'model': 'ResNet50'},\n",
       " 'satellite': {'grid': 'F182013.v4c_web.stable_lights.avg_vis.tif',\n",
       "  'source': 'Google',\n",
       "  'step': 0}}"
      ]
     },
     "execution_count": 3,
     "metadata": {},
     "output_type": "execute_result"
    }
   ],
   "source": [
    "GRID.config"
   ]
  },
  {
   "cell_type": "markdown",
   "metadata": {},
   "source": [
    "### Get the GRID coordinates associated with the survey data"
   ]
  },
  {
   "cell_type": "code",
   "execution_count": 4,
   "metadata": {},
   "outputs": [
    {
     "data": {
      "text/plain": [
       "'WB_Uganda_2011_cluster.csv'"
      ]
     },
     "execution_count": 4,
     "metadata": {},
     "output_type": "execute_result"
    }
   ],
   "source": [
    "GRID.config[\"dataset\"][\"filename\"]"
   ]
  },
  {
   "cell_type": "code",
   "execution_count": 5,
   "metadata": {
    "collapsed": true
   },
   "outputs": [],
   "source": [
    "list_i,list_j=GRID.get_gridcoordinates()"
   ]
  },
  {
   "cell_type": "markdown",
   "metadata": {},
   "source": [
    "### Pull images from the configured API\n",
    "Check the `output_image_dir` and use the `download_images` method. You can overwrite `output_image_dir` and `tile`."
   ]
  },
  {
   "cell_type": "code",
   "execution_count": 6,
   "metadata": {},
   "outputs": [
    {
     "data": {
      "text/plain": [
       "'../Data/Satellite/Google'"
      ]
     },
     "execution_count": 6,
     "metadata": {},
     "output_type": "execute_result"
    }
   ],
   "source": [
    "GRID.output_image_dir"
   ]
  },
  {
   "cell_type": "code",
   "execution_count": 7,
   "metadata": {},
   "outputs": [
    {
     "data": {
      "text/plain": [
       "0"
      ]
     },
     "execution_count": 7,
     "metadata": {},
     "output_type": "execute_result"
    }
   ],
   "source": [
    "GRID.config[\"satellite\"][\"step\"]"
   ]
  },
  {
   "cell_type": "code",
   "execution_count": 8,
   "metadata": {},
   "outputs": [
    {
     "name": "stdout",
     "output_type": "stream",
     "text": [
      "../Data/Satellite/Google/9118_9118/9118_9118.jpg already downloaded\n",
      "10 images downloaded\n",
      "../Data/Satellite/Google/9103_9103/9103_9103.jpg already downloaded\n",
      "20 images downloaded\n",
      "../Data/Satellite/Google/9091_9091/9091_9091.jpg already downloaded\n",
      "../Data/Satellite/Google/9077_9077/9077_9077.jpg already downloaded\n",
      "../Data/Satellite/Google/9067_9067/9067_9067.jpg already downloaded\n",
      "30 images downloaded\n",
      "../Data/Satellite/Google/9066_9066/9066_9066.jpg already downloaded\n",
      "../Data/Satellite/Google/9063_9063/9063_9063.jpg already downloaded\n",
      "../Data/Satellite/Google/9041_9041/9041_9041.jpg already downloaded\n",
      "40 images downloaded\n",
      "../Data/Satellite/Google/9035_9035/9035_9035.jpg already downloaded\n",
      "../Data/Satellite/Google/9035_9035/9035_9035.jpg already downloaded\n",
      "50 images downloaded\n",
      "../Data/Satellite/Google/9018_9018/9018_9018.jpg already downloaded\n",
      "../Data/Satellite/Google/9000_9000/9000_9000.jpg already downloaded\n",
      "60 images downloaded\n",
      "../Data/Satellite/Google/8993_8993/8993_8993.jpg already downloaded\n",
      "../Data/Satellite/Google/8987_8987/8987_8987.jpg already downloaded\n",
      "../Data/Satellite/Google/8983_8983/8983_8983.jpg already downloaded\n",
      "70 images downloaded\n",
      "../Data/Satellite/Google/8974_8974/8974_8974.jpg already downloaded\n",
      "../Data/Satellite/Google/8969_8969/8969_8969.jpg already downloaded\n",
      "../Data/Satellite/Google/8968_8968/8968_8968.jpg already downloaded\n",
      "80 images downloaded\n",
      "../Data/Satellite/Google/8967_8967/8967_8967.jpg already downloaded\n",
      "../Data/Satellite/Google/8966_8966/8966_8966.jpg already downloaded\n",
      "../Data/Satellite/Google/8965_8965/8965_8965.jpg already downloaded\n",
      "../Data/Satellite/Google/8965_8965/8965_8965.jpg already downloaded\n",
      "../Data/Satellite/Google/8964_8964/8964_8964.jpg already downloaded\n",
      "../Data/Satellite/Google/8963_8963/8963_8963.jpg already downloaded\n",
      "90 images downloaded\n",
      "../Data/Satellite/Google/8962_8962/8962_8962.jpg already downloaded\n",
      "../Data/Satellite/Google/8962_8962/8962_8962.jpg already downloaded\n",
      "../Data/Satellite/Google/8962_8962/8962_8962.jpg already downloaded\n",
      "../Data/Satellite/Google/8961_8961/8961_8961.jpg already downloaded\n",
      "../Data/Satellite/Google/8960_8960/8960_8960.jpg already downloaded\n",
      "../Data/Satellite/Google/8960_8960/8960_8960.jpg already downloaded\n",
      "../Data/Satellite/Google/8960_8960/8960_8960.jpg already downloaded\n",
      "100 images downloaded\n",
      "../Data/Satellite/Google/8959_8959/8959_8959.jpg already downloaded\n",
      "../Data/Satellite/Google/8958_8958/8958_8958.jpg already downloaded\n",
      "../Data/Satellite/Google/8958_8958/8958_8958.jpg already downloaded\n",
      "../Data/Satellite/Google/8958_8958/8958_8958.jpg already downloaded\n",
      "../Data/Satellite/Google/8957_8957/8957_8957.jpg already downloaded\n",
      "../Data/Satellite/Google/8957_8957/8957_8957.jpg already downloaded\n",
      "../Data/Satellite/Google/8957_8957/8957_8957.jpg already downloaded\n",
      "110 images downloaded\n",
      "../Data/Satellite/Google/8956_8956/8956_8956.jpg already downloaded\n",
      "../Data/Satellite/Google/8956_8956/8956_8956.jpg already downloaded\n",
      "../Data/Satellite/Google/8956_8956/8956_8956.jpg already downloaded\n",
      "../Data/Satellite/Google/8955_8955/8955_8955.jpg already downloaded\n",
      "../Data/Satellite/Google/8955_8955/8955_8955.jpg already downloaded\n",
      "../Data/Satellite/Google/8955_8955/8955_8955.jpg already downloaded\n",
      "../Data/Satellite/Google/8953_8953/8953_8953.jpg already downloaded\n",
      "120 images downloaded\n",
      "../Data/Satellite/Google/8953_8953/8953_8953.jpg already downloaded\n",
      "../Data/Satellite/Google/8951_8951/8951_8951.jpg already downloaded\n",
      "../Data/Satellite/Google/8949_8949/8949_8949.jpg already downloaded\n",
      "../Data/Satellite/Google/8948_8948/8948_8948.jpg already downloaded\n",
      "../Data/Satellite/Google/8948_8948/8948_8948.jpg already downloaded\n",
      "130 images downloaded\n",
      "../Data/Satellite/Google/8941_8941/8941_8941.jpg already downloaded\n",
      "../Data/Satellite/Google/8935_8935/8935_8935.jpg already downloaded\n",
      "../Data/Satellite/Google/8935_8935/8935_8935.jpg already downloaded\n",
      "140 images downloaded\n",
      "../Data/Satellite/Google/8934_8934/8934_8934.jpg already downloaded\n",
      "../Data/Satellite/Google/8934_8934/8934_8934.jpg already downloaded\n",
      "../Data/Satellite/Google/8931_8931/8931_8931.jpg already downloaded\n",
      "../Data/Satellite/Google/8929_8929/8929_8929.jpg already downloaded\n",
      "../Data/Satellite/Google/8926_8926/8926_8926.jpg already downloaded\n",
      "150 images downloaded\n",
      "../Data/Satellite/Google/8925_8925/8925_8925.jpg already downloaded\n",
      "../Data/Satellite/Google/8925_8925/8925_8925.jpg already downloaded\n",
      "../Data/Satellite/Google/8925_8925/8925_8925.jpg already downloaded\n",
      "../Data/Satellite/Google/8921_8921/8921_8921.jpg already downloaded\n",
      "160 images downloaded\n",
      "../Data/Satellite/Google/8918_8918/8918_8918.jpg already downloaded\n",
      "../Data/Satellite/Google/8918_8918/8918_8918.jpg already downloaded\n",
      "../Data/Satellite/Google/8916_8916/8916_8916.jpg already downloaded\n",
      "../Data/Satellite/Google/8915_8915/8915_8915.jpg already downloaded\n",
      "../Data/Satellite/Google/8915_8915/8915_8915.jpg already downloaded\n",
      "../Data/Satellite/Google/8913_8913/8913_8913.jpg already downloaded\n",
      "170 images downloaded\n",
      "../Data/Satellite/Google/8907_8907/8907_8907.jpg already downloaded\n",
      "../Data/Satellite/Google/8903_8903/8903_8903.jpg already downloaded\n",
      "../Data/Satellite/Google/8901_8901/8901_8901.jpg already downloaded\n",
      "../Data/Satellite/Google/8901_8901/8901_8901.jpg already downloaded\n",
      "180 images downloaded\n",
      "../Data/Satellite/Google/8901_8901/8901_8901.jpg already downloaded\n",
      "../Data/Satellite/Google/8894_8894/8894_8894.jpg already downloaded\n",
      "../Data/Satellite/Google/8889_8889/8889_8889.jpg already downloaded\n",
      "190 images downloaded\n",
      "../Data/Satellite/Google/8878_8878/8878_8878.jpg already downloaded\n",
      "../Data/Satellite/Google/8878_8878/8878_8878.jpg already downloaded\n",
      "../Data/Satellite/Google/8876_8876/8876_8876.jpg already downloaded\n",
      "200 images downloaded\n",
      "../Data/Satellite/Google/8862_8862/8862_8862.jpg already downloaded\n",
      "210 images downloaded\n",
      "../Data/Satellite/Google/8849_8849/8849_8849.jpg already downloaded\n",
      "../Data/Satellite/Google/8835_8835/8835_8835.jpg already downloaded\n",
      "220 images downloaded\n",
      "../Data/Satellite/Google/8827_8827/8827_8827.jpg already downloaded\n",
      "../Data/Satellite/Google/8823_8823/8823_8823.jpg already downloaded\n",
      "230 images downloaded\n",
      "../Data/Satellite/Google/8791_8791/8791_8791.jpg already downloaded\n",
      "240 images downloaded\n",
      "../Data/Satellite/Google/8757_8757/8757_8757.jpg already downloaded\n",
      "250 images downloaded\n",
      "../Data/Satellite/Google/8742_8742/8742_8742.jpg already downloaded\n",
      "260 images downloaded\n",
      "../Data/Satellite/Google/8717_8717/8717_8717.jpg already downloaded\n",
      "../Data/Satellite/Google/8717_8717/8717_8717.jpg already downloaded\n",
      "270 images downloaded\n",
      "../Data/Satellite/Google/8708_8708/8708_8708.jpg already downloaded\n",
      "280 images downloaded\n",
      "290 images downloaded\n",
      "../Data/Satellite/Google/8635_8635/8635_8635.jpg already downloaded\n",
      "../Data/Satellite/Google/8629_8629/8629_8629.jpg already downloaded\n",
      "300 images downloaded\n"
     ]
    }
   ],
   "source": [
    "GRID.download_images(list_i, list_j)"
   ]
  }
 ],
 "metadata": {
  "kernelspec": {
   "display_name": "Python 3",
   "language": "python",
   "name": "python3"
  },
  "language_info": {
   "codemirror_mode": {
    "name": "ipython",
    "version": 3
   },
   "file_extension": ".py",
   "mimetype": "text/x-python",
   "name": "python",
   "nbconvert_exporter": "python",
   "pygments_lexer": "ipython3",
   "version": "3.5.4"
  }
 },
 "nbformat": 4,
 "nbformat_minor": 1
}
