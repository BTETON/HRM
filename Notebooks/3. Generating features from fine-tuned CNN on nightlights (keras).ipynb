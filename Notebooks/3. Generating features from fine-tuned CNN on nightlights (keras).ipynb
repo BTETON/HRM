{
 "cells": [
  {
   "cell_type": "markdown",
   "metadata": {},
   "source": [
    "http://nbviewer.jupyter.org/github/BVLC/caffe/blob/master/examples/00-classification.ipynb\n",
    "\n",
    "https://prateekvjoshi.com/2016/02/23/deep-learning-with-caffe-in-python-part-iv-classifying-an-image/"
   ]
  },
  {
   "cell_type": "code",
   "execution_count": 1,
   "metadata": {
    "collapsed": true
   },
   "outputs": [],
   "source": [
    "import numpy as np\n",
    "import pandas as pd\n",
    "import yaml\n",
    "#from scipy.misc import imread\n",
    "import matplotlib.pyplot as plt\n",
    "%matplotlib inline\n",
    "import h5py\n",
    "import sys\n",
    "sys.path.append('../Src')\n",
    "from nn_extractor import NNExtractor"
   ]
  },
  {
   "cell_type": "code",
   "execution_count": 2,
   "metadata": {
    "collapsed": true
   },
   "outputs": [],
   "source": [
    "# load the config file\n",
    "with open('..\\config.yml', 'r') as cfgfile:\n",
    "    config = yaml.load(cfgfile)"
   ]
  },
  {
   "cell_type": "markdown",
   "metadata": {
    "collapsed": true
   },
   "source": [
    "# All images with n image per cluster"
   ]
  },
  {
   "cell_type": "code",
   "execution_count": 3,
   "metadata": {},
   "outputs": [
    {
     "name": "stderr",
     "output_type": "stream",
     "text": [
      "Using TensorFlow backend.\n"
     ]
    }
   ],
   "source": [
    "# load pre-trained model to be used\n",
    "network = NNExtractor(config)"
   ]
  },
  {
   "cell_type": "code",
   "execution_count": 4,
   "metadata": {},
   "outputs": [
    {
     "name": "stdout",
     "output_type": "stream",
     "text": [
      "tile (i,j) 25158_9094\n",
      "tile (i,j) 25161_9138\n",
      "tile (i,j) 25168_9000\n",
      "tile (i,j) 25172_9161\n",
      "tile (i,j) 25173_9108\n",
      "tile (i,j) 25175_9140\n",
      "tile (i,j) 25176_9110\n",
      "tile (i,j) 25177_9077\n",
      "tile (i,j) 25182_8990\n",
      "tile (i,j) 25194_8993\n",
      "tile (i,j) 25194_9169\n",
      "tile (i,j) 25195_9063\n"
     ]
    }
   ],
   "source": [
    "# extract the features for each image\n",
    "features = network.extract_features()"
   ]
  },
  {
   "cell_type": "code",
   "execution_count": 5,
   "metadata": {},
   "outputs": [
    {
     "data": {
      "text/plain": [
       "(2048, 12)"
      ]
     },
     "execution_count": 5,
     "metadata": {},
     "output_type": "execute_result"
    }
   ],
   "source": [
    "features.shape"
   ]
  },
  {
   "cell_type": "code",
   "execution_count": null,
   "metadata": {
    "collapsed": true
   },
   "outputs": [],
   "source": [
    "features = features.transpose().reset_index()"
   ]
  },
  {
   "cell_type": "code",
   "execution_count": null,
   "metadata": {},
   "outputs": [],
   "source": [
    "features[\"i\"] = features[\"index\"].str.slice(0,5)\n",
    "features[\"j\"] = features[\"index\"].str.slice(6,10)\n",
    "\n",
    "features[\"i\"]=pd.to_numeric(features[\"i\"])\n",
    "features[\"j\"]=pd.to_numeric(features[\"j\"])\n",
    "features.head()"
   ]
  },
  {
   "cell_type": "code",
   "execution_count": null,
   "metadata": {
    "collapsed": true
   },
   "outputs": [],
   "source": [
    "features.to_csv(\"../Data/Intermediate_files/google_sat_CNN_features_lsms_ResNet_tf_last.csv\")"
   ]
  }
 ],
 "metadata": {
  "kernelspec": {
   "display_name": "Python 3",
   "language": "python",
   "name": "python3"
  },
  "language_info": {
   "codemirror_mode": {
    "name": "ipython",
    "version": 3
   },
   "file_extension": ".py",
   "mimetype": "text/x-python",
   "name": "python",
   "nbconvert_exporter": "python",
   "pygments_lexer": "ipython3",
   "version": "3.5.4"
  }
 },
 "nbformat": 4,
 "nbformat_minor": 1
}
