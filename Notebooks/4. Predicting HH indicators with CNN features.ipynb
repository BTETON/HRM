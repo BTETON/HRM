{
 "cells": [
  {
   "cell_type": "code",
   "execution_count": 12,
   "metadata": {
    "collapsed": false
   },
   "outputs": [],
   "source": [
    "import os\n",
    "import pandas as pd \n",
    "import numpy as np\n",
    "import matplotlib.pyplot as plt\n",
    "import statsmodels.api as sm\n",
    "from itertools import cycle\n",
    "from sklearn.linear_model import LinearRegression\n",
    "from sklearn.decomposition import PCA\n",
    "from sklearn.linear_model import Ridge\n",
    "from sklearn import linear_model\n",
    "from sklearn import metrics\n",
    "from sklearn.model_selection import GridSearchCV, cross_val_score, cross_val_predict, KFold, train_test_split\n",
    "from sklearn.metrics import r2_score\n",
    "%matplotlib inline "
   ]
  },
  {
   "cell_type": "markdown",
   "metadata": {},
   "source": [
    "# 1. Preparing Data"
   ]
  },
  {
   "cell_type": "markdown",
   "metadata": {},
   "source": [
    "### Loading HH Data"
   ]
  },
  {
   "cell_type": "code",
   "execution_count": 13,
   "metadata": {
    "collapsed": true
   },
   "outputs": [],
   "source": [
    "#hh_data = pd.read_csv(\"../Data/Intermediate_files/hh_village_coord_fcs.csv\")"
   ]
  },
  {
   "cell_type": "code",
   "execution_count": 14,
   "metadata": {
    "collapsed": true
   },
   "outputs": [],
   "source": [
    "hh_data = pd.read_csv(\"../Data/Intermediate_files/hh_data_2011_cluster_minHH.csv\")"
   ]
  },
  {
   "cell_type": "markdown",
   "metadata": {},
   "source": [
    "### Loading CNN features"
   ]
  },
  {
   "cell_type": "code",
   "execution_count": 15,
   "metadata": {
    "collapsed": true
   },
   "outputs": [],
   "source": [
    "#CNN_features = pd.read_csv(\"../Data/Intermediate_files/google_sat_CNN_features.csv\")"
   ]
  },
  {
   "cell_type": "code",
   "execution_count": 16,
   "metadata": {
    "collapsed": true
   },
   "outputs": [],
   "source": [
    "#CNN_features = pd.read_csv(\"../Data/Intermediate_files/google_sat_CNN_features_lsms.csv\")"
   ]
  },
  {
   "cell_type": "code",
   "execution_count": 17,
   "metadata": {
    "collapsed": false
   },
   "outputs": [],
   "source": [
    "#CNN_features = pd.read_csv(\"../Data/Intermediate_files/google_sat_CNN_features_lsms_VGG16_block4_pool.csv\")"
   ]
  },
  {
   "cell_type": "code",
   "execution_count": 18,
   "metadata": {
    "collapsed": true
   },
   "outputs": [],
   "source": [
    "#CNN_features = pd.read_csv(\"../Data/Intermediate_files/google_sat_CNN_features_lsms_VGGF_caffe_conv7_mean.csv\")"
   ]
  },
  {
   "cell_type": "code",
   "execution_count": 19,
   "metadata": {
    "collapsed": true
   },
   "outputs": [],
   "source": [
    "CNN_features = pd.read_csv(\"../Data/Intermediate_files/google_sat_CNN_features_lsms_VGGF_caffe_conv7_mean_100imagescluster.csv\")"
   ]
  },
  {
   "cell_type": "markdown",
   "metadata": {},
   "source": [
    "### Merging"
   ]
  },
  {
   "cell_type": "code",
   "execution_count": 20,
   "metadata": {
    "collapsed": true
   },
   "outputs": [],
   "source": [
    "data=hh_data.merge(CNN_features,on=[\"i\",\"j\"])"
   ]
  },
  {
   "cell_type": "code",
   "execution_count": 21,
   "metadata": {
    "collapsed": true
   },
   "outputs": [],
   "source": [
    "data = data.sample(frac=1).reset_index(drop=True) #Shuffling the data"
   ]
  },
  {
   "cell_type": "code",
   "execution_count": 22,
   "metadata": {
    "collapsed": false
   },
   "outputs": [],
   "source": [
    "start_features=len(hh_data.columns)+2"
   ]
  },
  {
   "cell_type": "code",
   "execution_count": 23,
   "metadata": {
    "collapsed": true
   },
   "outputs": [],
   "source": [
    "data_features=data.iloc[:,start_features:]"
   ]
  },
  {
   "cell_type": "markdown",
   "metadata": {},
   "source": [
    "### Defining predictors and predicting variables"
   ]
  },
  {
   "cell_type": "code",
   "execution_count": 24,
   "metadata": {
    "collapsed": false
   },
   "outputs": [],
   "source": [
    "y = data[\"cons\"].values #Average normalized consumption per cluster\n",
    "y = y[y > 0]\n",
    "y = np.log(y) #Log-normal distribution"
   ]
  },
  {
   "cell_type": "code",
   "execution_count": 55,
   "metadata": {
    "collapsed": false
   },
   "outputs": [],
   "source": [
    "y2 = data[\"poor_majority\"] #Dummy variable for majority of poor in the cluster"
   ]
  },
  {
   "cell_type": "code",
   "execution_count": 26,
   "metadata": {
    "collapsed": true
   },
   "outputs": [],
   "source": [
    "X=data_features.values"
   ]
  },
  {
   "cell_type": "code",
   "execution_count": 27,
   "metadata": {
    "collapsed": false
   },
   "outputs": [
    {
     "data": {
      "text/plain": [
       "(309, 4096)"
      ]
     },
     "execution_count": 27,
     "metadata": {},
     "output_type": "execute_result"
    }
   ],
   "source": [
    "X.shape"
   ]
  },
  {
   "cell_type": "code",
   "execution_count": 28,
   "metadata": {
    "collapsed": false
   },
   "outputs": [
    {
     "data": {
      "text/plain": [
       "(309,)"
      ]
     },
     "execution_count": 28,
     "metadata": {},
     "output_type": "execute_result"
    }
   ],
   "source": [
    "y.shape"
   ]
  },
  {
   "cell_type": "code",
   "execution_count": 31,
   "metadata": {
    "collapsed": false
   },
   "outputs": [
    {
     "data": {
      "text/plain": [
       "(array([  3.,  14.,  47.,  85.,  70.,  35.,  28.,  20.,   5.,   2.]),\n",
       " array([-0.40340905, -0.02670821,  0.34999262,  0.72669345,  1.10339428,\n",
       "         1.48009511,  1.85679595,  2.23349678,  2.61019761,  2.98689844,\n",
       "         3.36359927]),\n",
       " <a list of 10 Patch objects>)"
      ]
     },
     "execution_count": 31,
     "metadata": {},
     "output_type": "execute_result"
    },
    {
     "data": {
      "image/png": "[encoded data removed]",
      "text/plain": [
       "<matplotlib.figure.Figure at 0x110b02bd0>"
      ]
     },
     "metadata": {},
     "output_type": "display_data"
    }
   ],
   "source": [
    "plt.hist(y)"
   ]
  },
  {
   "cell_type": "code",
   "execution_count": 32,
   "metadata": {
    "collapsed": false
   },
   "outputs": [
    {
     "data": {
      "text/html": [
       "<div>\n",
       "<style>\n",
       "    .dataframe thead tr:only-child th {\n",
       "        text-align: right;\n",
       "    }\n",
       "\n",
       "    .dataframe thead th {\n",
       "        text-align: left;\n",
       "    }\n",
       "\n",
       "    .dataframe tbody tr th {\n",
       "        vertical-align: top;\n",
       "    }\n",
       "</style>\n",
       "<table border=\"1\" class=\"dataframe\">\n",
       "  <thead>\n",
       "    <tr style=\"text-align: right;\">\n",
       "      <th></th>\n",
       "      <th>0</th>\n",
       "      <th>1</th>\n",
       "      <th>2</th>\n",
       "      <th>3</th>\n",
       "      <th>4</th>\n",
       "      <th>5</th>\n",
       "      <th>6</th>\n",
       "      <th>7</th>\n",
       "      <th>8</th>\n",
       "      <th>9</th>\n",
       "      <th>...</th>\n",
       "      <th>4086</th>\n",
       "      <th>4087</th>\n",
       "      <th>4088</th>\n",
       "      <th>4089</th>\n",
       "      <th>4090</th>\n",
       "      <th>4091</th>\n",
       "      <th>4092</th>\n",
       "      <th>4093</th>\n",
       "      <th>4094</th>\n",
       "      <th>4095</th>\n",
       "    </tr>\n",
       "  </thead>\n",
       "  <tbody>\n",
       "    <tr>\n",
       "      <th>0</th>\n",
       "      <td>0.284067</td>\n",
       "      <td>0.038011</td>\n",
       "      <td>0.016822</td>\n",
       "      <td>0.143997</td>\n",
       "      <td>0.390587</td>\n",
       "      <td>0.045573</td>\n",
       "      <td>0.476842</td>\n",
       "      <td>0.029291</td>\n",
       "      <td>0.101495</td>\n",
       "      <td>0.013032</td>\n",
       "      <td>...</td>\n",
       "      <td>0.015087</td>\n",
       "      <td>0.557196</td>\n",
       "      <td>0.000000</td>\n",
       "      <td>1.064649</td>\n",
       "      <td>0.222510</td>\n",
       "      <td>0.470572</td>\n",
       "      <td>0.067106</td>\n",
       "      <td>0.103971</td>\n",
       "      <td>0.088740</td>\n",
       "      <td>0.030557</td>\n",
       "    </tr>\n",
       "    <tr>\n",
       "      <th>1</th>\n",
       "      <td>0.322476</td>\n",
       "      <td>0.025439</td>\n",
       "      <td>0.002845</td>\n",
       "      <td>0.175601</td>\n",
       "      <td>0.401856</td>\n",
       "      <td>0.035674</td>\n",
       "      <td>0.350522</td>\n",
       "      <td>0.001553</td>\n",
       "      <td>0.066945</td>\n",
       "      <td>0.007635</td>\n",
       "      <td>...</td>\n",
       "      <td>0.016341</td>\n",
       "      <td>0.530396</td>\n",
       "      <td>0.000000</td>\n",
       "      <td>1.045707</td>\n",
       "      <td>0.150009</td>\n",
       "      <td>0.475484</td>\n",
       "      <td>0.040809</td>\n",
       "      <td>0.118733</td>\n",
       "      <td>0.129445</td>\n",
       "      <td>0.011645</td>\n",
       "    </tr>\n",
       "    <tr>\n",
       "      <th>2</th>\n",
       "      <td>0.267277</td>\n",
       "      <td>0.007738</td>\n",
       "      <td>0.004844</td>\n",
       "      <td>0.106270</td>\n",
       "      <td>0.391698</td>\n",
       "      <td>0.011633</td>\n",
       "      <td>0.503222</td>\n",
       "      <td>0.002290</td>\n",
       "      <td>0.018247</td>\n",
       "      <td>0.000926</td>\n",
       "      <td>...</td>\n",
       "      <td>0.004716</td>\n",
       "      <td>0.624740</td>\n",
       "      <td>0.000000</td>\n",
       "      <td>1.351610</td>\n",
       "      <td>0.163763</td>\n",
       "      <td>0.625130</td>\n",
       "      <td>0.029655</td>\n",
       "      <td>0.093986</td>\n",
       "      <td>0.065311</td>\n",
       "      <td>0.002003</td>\n",
       "    </tr>\n",
       "    <tr>\n",
       "      <th>3</th>\n",
       "      <td>0.661158</td>\n",
       "      <td>0.118361</td>\n",
       "      <td>0.342491</td>\n",
       "      <td>0.498499</td>\n",
       "      <td>0.507871</td>\n",
       "      <td>0.023105</td>\n",
       "      <td>0.583844</td>\n",
       "      <td>0.087549</td>\n",
       "      <td>0.901327</td>\n",
       "      <td>0.005383</td>\n",
       "      <td>...</td>\n",
       "      <td>0.089079</td>\n",
       "      <td>0.882059</td>\n",
       "      <td>0.000969</td>\n",
       "      <td>0.981167</td>\n",
       "      <td>0.048004</td>\n",
       "      <td>0.177469</td>\n",
       "      <td>0.145399</td>\n",
       "      <td>0.318241</td>\n",
       "      <td>0.682856</td>\n",
       "      <td>0.026480</td>\n",
       "    </tr>\n",
       "    <tr>\n",
       "      <th>4</th>\n",
       "      <td>0.291924</td>\n",
       "      <td>0.068823</td>\n",
       "      <td>0.017631</td>\n",
       "      <td>0.248543</td>\n",
       "      <td>0.326709</td>\n",
       "      <td>0.050860</td>\n",
       "      <td>0.399913</td>\n",
       "      <td>0.020031</td>\n",
       "      <td>0.143854</td>\n",
       "      <td>0.012067</td>\n",
       "      <td>...</td>\n",
       "      <td>0.041486</td>\n",
       "      <td>0.632786</td>\n",
       "      <td>0.000037</td>\n",
       "      <td>0.879723</td>\n",
       "      <td>0.170953</td>\n",
       "      <td>0.401817</td>\n",
       "      <td>0.048103</td>\n",
       "      <td>0.081173</td>\n",
       "      <td>0.164577</td>\n",
       "      <td>0.051656</td>\n",
       "    </tr>\n",
       "  </tbody>\n",
       "</table>\n",
       "<p>5 rows × 4096 columns</p>\n",
       "</div>"
      ],
      "text/plain": [
       "       0         1         2         3         4         5         6     \\\n",
       "0  0.284067  0.038011  0.016822  0.143997  0.390587  0.045573  0.476842   \n",
       "1  0.322476  0.025439  0.002845  0.175601  0.401856  0.035674  0.350522   \n",
       "2  0.267277  0.007738  0.004844  0.106270  0.391698  0.011633  0.503222   \n",
       "3  0.661158  0.118361  0.342491  0.498499  0.507871  0.023105  0.583844   \n",
       "4  0.291924  0.068823  0.017631  0.248543  0.326709  0.050860  0.399913   \n",
       "\n",
       "       7         8         9       ...         4086      4087      4088  \\\n",
       "0  0.029291  0.101495  0.013032    ...     0.015087  0.557196  0.000000   \n",
       "1  0.001553  0.066945  0.007635    ...     0.016341  0.530396  0.000000   \n",
       "2  0.002290  0.018247  0.000926    ...     0.004716  0.624740  0.000000   \n",
       "3  0.087549  0.901327  0.005383    ...     0.089079  0.882059  0.000969   \n",
       "4  0.020031  0.143854  0.012067    ...     0.041486  0.632786  0.000037   \n",
       "\n",
       "       4089      4090      4091      4092      4093      4094      4095  \n",
       "0  1.064649  0.222510  0.470572  0.067106  0.103971  0.088740  0.030557  \n",
       "1  1.045707  0.150009  0.475484  0.040809  0.118733  0.129445  0.011645  \n",
       "2  1.351610  0.163763  0.625130  0.029655  0.093986  0.065311  0.002003  \n",
       "3  0.981167  0.048004  0.177469  0.145399  0.318241  0.682856  0.026480  \n",
       "4  0.879723  0.170953  0.401817  0.048103  0.081173  0.164577  0.051656  \n",
       "\n",
       "[5 rows x 4096 columns]"
      ]
     },
     "execution_count": 32,
     "metadata": {},
     "output_type": "execute_result"
    }
   ],
   "source": [
    "pd.DataFrame(X).head()"
   ]
  },
  {
   "cell_type": "markdown",
   "metadata": {},
   "source": [
    "# 2. Predicting Continuous Indicator"
   ]
  },
  {
   "cell_type": "markdown",
   "metadata": {},
   "source": [
    "## From PCA Components"
   ]
  },
  {
   "cell_type": "code",
   "execution_count": 33,
   "metadata": {
    "collapsed": false
   },
   "outputs": [],
   "source": [
    "model=Ridge()"
   ]
  },
  {
   "cell_type": "code",
   "execution_count": 34,
   "metadata": {
    "collapsed": true
   },
   "outputs": [],
   "source": [
    "alphas = np.array([0.01,0.1,1,5,10,20,30,40,50])"
   ]
  },
  {
   "cell_type": "code",
   "execution_count": 35,
   "metadata": {
    "collapsed": true
   },
   "outputs": [],
   "source": [
    "inner_cv = KFold(n_splits=5, shuffle=True)\n",
    "outer_cv = KFold(n_splits=5, shuffle=True)"
   ]
  },
  {
   "cell_type": "code",
   "execution_count": 36,
   "metadata": {
    "collapsed": true
   },
   "outputs": [],
   "source": [
    "clf = GridSearchCV(estimator=model, param_grid=dict(alpha=alphas), cv=inner_cv)"
   ]
  },
  {
   "cell_type": "code",
   "execution_count": 37,
   "metadata": {
    "collapsed": false
   },
   "outputs": [],
   "source": [
    "pca = PCA(n_components=10)"
   ]
  },
  {
   "cell_type": "code",
   "execution_count": 38,
   "metadata": {
    "collapsed": false
   },
   "outputs": [
    {
     "data": {
      "text/plain": [
       "PCA(copy=True, iterated_power='auto', n_components=10, random_state=None,\n",
       "  svd_solver='auto', tol=0.0, whiten=False)"
      ]
     },
     "execution_count": 38,
     "metadata": {},
     "output_type": "execute_result"
    }
   ],
   "source": [
    "pca.fit(data_features.transpose())"
   ]
  },
  {
   "cell_type": "code",
   "execution_count": 39,
   "metadata": {
    "collapsed": true
   },
   "outputs": [],
   "source": [
    "eigenvectors=pca.components_"
   ]
  },
  {
   "cell_type": "code",
   "execution_count": 40,
   "metadata": {
    "collapsed": false
   },
   "outputs": [
    {
     "data": {
      "text/plain": [
       "(309, 10)"
      ]
     },
     "execution_count": 40,
     "metadata": {},
     "output_type": "execute_result"
    }
   ],
   "source": [
    "X2 = pd.DataFrame(np.transpose(eigenvectors))\n",
    "X2.shape"
   ]
  },
  {
   "cell_type": "code",
   "execution_count": 41,
   "metadata": {
    "collapsed": false
   },
   "outputs": [
    {
     "data": {
      "image/png": "[encoded data removed]",
      "text/plain": [
       "<matplotlib.figure.Figure at 0x1115b89d0>"
      ]
     },
     "metadata": {},
     "output_type": "display_data"
    },
    {
     "data": {
      "image/png": "[encoded data removed]",
      "text/plain": [
       "<matplotlib.figure.Figure at 0x111abce50>"
      ]
     },
     "metadata": {},
     "output_type": "display_data"
    }
   ],
   "source": [
    "for i in range(2):\n",
    "    plt.figure()\n",
    "    plt.scatter(y, eigenvectors[i],  color='black')"
   ]
  },
  {
   "cell_type": "code",
   "execution_count": 42,
   "metadata": {
    "collapsed": false
   },
   "outputs": [
    {
     "name": "stdout",
     "output_type": "stream",
     "text": [
      "R2: 0.40 (+/- 0.15)\n"
     ]
    }
   ],
   "source": [
    "r2 = cross_val_score(clf, X2, y, cv=outer_cv,scoring='r2')\n",
    "print(\"R2: %0.2f (+/- %0.2f)\" % (r2.mean(), r2.std() * 2)) "
   ]
  },
  {
   "cell_type": "code",
   "execution_count": 43,
   "metadata": {
    "collapsed": false
   },
   "outputs": [
    {
     "data": {
      "image/png": "[encoded data removed]",
      "text/plain": [
       "<matplotlib.figure.Figure at 0x111b7b0d0>"
      ]
     },
     "metadata": {},
     "output_type": "display_data"
    }
   ],
   "source": [
    "y_hat = cross_val_predict(clf, X2, y, cv=10)\n",
    "fig, ax = plt.subplots()\n",
    "ax.scatter(y, y_hat, edgecolors=(0, 0, 0))\n",
    "ax.plot([y.min(), y.max()], [y.min(), y.max()], 'k--')\n",
    "ax.set_xlabel('Log consumption expenditures')\n",
    "ax.set_ylabel('Model predictions')\n",
    "plt.show()"
   ]
  },
  {
   "cell_type": "markdown",
   "metadata": {},
   "source": [
    "## From all (4096) features"
   ]
  },
  {
   "cell_type": "code",
   "execution_count": 44,
   "metadata": {
    "collapsed": true
   },
   "outputs": [],
   "source": [
    "model=Ridge()"
   ]
  },
  {
   "cell_type": "code",
   "execution_count": 45,
   "metadata": {
    "collapsed": true
   },
   "outputs": [],
   "source": [
    "alphas = np.array([1,5,10,20,30,40,50])"
   ]
  },
  {
   "cell_type": "code",
   "execution_count": 46,
   "metadata": {
    "collapsed": true
   },
   "outputs": [],
   "source": [
    "inner_cv = KFold(n_splits=5, shuffle=True)\n",
    "outer_cv = KFold(n_splits=5, shuffle=True)"
   ]
  },
  {
   "cell_type": "code",
   "execution_count": 47,
   "metadata": {
    "collapsed": false
   },
   "outputs": [],
   "source": [
    "#Inner Loop \n",
    "clf = GridSearchCV(estimator=model, param_grid=dict(alpha=alphas), cv=inner_cv)"
   ]
  },
  {
   "cell_type": "code",
   "execution_count": 48,
   "metadata": {
    "collapsed": false
   },
   "outputs": [
    {
     "name": "stdout",
     "output_type": "stream",
     "text": [
      "R2: 0.44 (+/- 0.15)\n"
     ]
    }
   ],
   "source": [
    "# Outer Loop\n",
    "r2 = cross_val_score(clf, X, y, cv=outer_cv ,scoring='r2')\n",
    "print(\"R2: %0.2f (+/- %0.2f)\" % (r2.mean(), r2.std() * 2))"
   ]
  },
  {
   "cell_type": "code",
   "execution_count": 49,
   "metadata": {
    "collapsed": false
   },
   "outputs": [
    {
     "data": {
      "text/plain": [
       "array([ 0.52927336,  0.33544039,  0.3663976 ,  0.457522  ,  0.50415378])"
      ]
     },
     "execution_count": 49,
     "metadata": {},
     "output_type": "execute_result"
    }
   ],
   "source": [
    "r2"
   ]
  },
  {
   "cell_type": "code",
   "execution_count": 50,
   "metadata": {
    "collapsed": false
   },
   "outputs": [
    {
     "name": "stdout",
     "output_type": "stream",
     "text": [
      "neg_mean_squared_error: 0.24 (+/- 0.09)\n"
     ]
    }
   ],
   "source": [
    "neg_mean_squared_error = cross_val_score(clf, X, y, cv=outer_cv,scoring='neg_mean_squared_error')\n",
    "print(\"neg_mean_squared_error: %0.2f (+/- %0.2f)\" % (-neg_mean_squared_error.mean(), neg_mean_squared_error.std() * 2)) "
   ]
  },
  {
   "cell_type": "code",
   "execution_count": 51,
   "metadata": {
    "collapsed": false
   },
   "outputs": [
    {
     "data": {
      "text/plain": [
       "array([ 0.30552487,  0.27347175,  0.21047703,  0.17502719,  0.23714026])"
      ]
     },
     "execution_count": 51,
     "metadata": {},
     "output_type": "execute_result"
    }
   ],
   "source": [
    "-neg_mean_squared_error"
   ]
  },
  {
   "cell_type": "code",
   "execution_count": 52,
   "metadata": {
    "collapsed": false
   },
   "outputs": [
    {
     "data": {
      "image/png": "[encoded data removed]",
      "text/plain": [
       "<matplotlib.figure.Figure at 0x111c7f290>"
      ]
     },
     "metadata": {},
     "output_type": "display_data"
    }
   ],
   "source": [
    "y_hat = cross_val_predict(clf, X, y, cv=outer_cv)\n",
    "fig, ax = plt.subplots()\n",
    "ax.scatter(y, y_hat, edgecolors=(0, 0, 0))\n",
    "ax.plot([y.min(), y.max()], [y.min(), y.max()], 'k--')\n",
    "ax.set_xlabel('Log consumption expenditures')\n",
    "ax.set_ylabel('Model predictions')\n",
    "plt.show()"
   ]
  },
  {
   "cell_type": "code",
   "execution_count": 53,
   "metadata": {
    "collapsed": false
   },
   "outputs": [
    {
     "data": {
      "text/plain": [
       "0.42119267860429532"
      ]
     },
     "execution_count": 53,
     "metadata": {},
     "output_type": "execute_result"
    }
   ],
   "source": [
    "r2_score(y,y_hat)"
   ]
  },
  {
   "cell_type": "markdown",
   "metadata": {},
   "source": [
    "# 3. Predicting Dummy Indicator from all features"
   ]
  },
  {
   "cell_type": "code",
   "execution_count": 56,
   "metadata": {
    "collapsed": false
   },
   "outputs": [
    {
     "data": {
      "text/plain": [
       "LogisticRegression(C=1.0, class_weight=None, dual=False, fit_intercept=True,\n",
       "          intercept_scaling=1, max_iter=100, multi_class='ovr', n_jobs=1,\n",
       "          penalty='l2', random_state=None, solver='liblinear', tol=0.0001,\n",
       "          verbose=0, warm_start=False)"
      ]
     },
     "execution_count": 56,
     "metadata": {},
     "output_type": "execute_result"
    }
   ],
   "source": [
    "model = linear_model.LogisticRegression(penalty=\"l2\")\n",
    "model.fit(X, y2) "
   ]
  },
  {
   "cell_type": "code",
   "execution_count": 57,
   "metadata": {
    "collapsed": true
   },
   "outputs": [],
   "source": [
    "cv = KFold(n_splits=10, shuffle=True)"
   ]
  },
  {
   "cell_type": "code",
   "execution_count": 58,
   "metadata": {
    "collapsed": false
   },
   "outputs": [],
   "source": [
    "accuracy = cross_val_score(model, X, y2, cv=cv)\n",
    "f1 = cross_val_score(model, X, y2, cv=cv,scoring='f1')\n",
    "precision = cross_val_score(model, X, y2, cv=cv,scoring='precision')\n",
    "recall= cross_val_score(model, X, y2, cv=cv,scoring='recall')\n",
    "auc= cross_val_score(model, X, y2, cv=cv,scoring='roc_auc')\n",
    "confusion= cross_val_score(model, X, y2, cv=cv,scoring='roc_auc')"
   ]
  },
  {
   "cell_type": "code",
   "execution_count": 59,
   "metadata": {
    "collapsed": false
   },
   "outputs": [
    {
     "name": "stdout",
     "output_type": "stream",
     "text": [
      "Accuracy: 0.77 (+/- 0.11)\n",
      "F1: 0.46 (+/- 0.37)\n",
      "Precision: 0.64 (+/- 0.45)\n",
      "Recall: 0.35 (+/- 0.32)\n",
      "AUC: 0.80 (+/- 0.18)\n"
     ]
    }
   ],
   "source": [
    "scores = cross_val_score(model, X, y2, cv=10,scoring='precision')\n",
    "accuracy_print=(\"Accuracy: %0.2f (+/- %0.2f)\" % (accuracy.mean(), accuracy.std() * 2))\n",
    "f1_print=(\"F1: %0.2f (+/- %0.2f)\" % (f1.mean(), f1.std() * 2))\n",
    "precision_print=(\"Precision: %0.2f (+/- %0.2f)\" % (precision.mean(), precision.std() * 2))\n",
    "recall_print=(\"Recall: %0.2f (+/- %0.2f)\" % (recall.mean(), recall.std() * 2))\n",
    "auc_print=(\"AUC: %0.2f (+/- %0.2f)\" % (auc.mean(), auc.std() * 2))\n",
    "print(os.linesep.join([accuracy_print,f1_print,precision_print,recall_print,auc_print]))"
   ]
  },
  {
   "cell_type": "code",
   "execution_count": 60,
   "metadata": {
    "collapsed": false
   },
   "outputs": [
    {
     "data": {
      "text/plain": [
       "count    309.000000\n",
       "mean       0.258900\n",
       "std        0.438741\n",
       "min        0.000000\n",
       "25%        0.000000\n",
       "50%        0.000000\n",
       "75%        1.000000\n",
       "max        1.000000\n",
       "Name: poor_majority, dtype: float64"
      ]
     },
     "execution_count": 60,
     "metadata": {},
     "output_type": "execute_result"
    }
   ],
   "source": [
    "y2.describe()"
   ]
  },
  {
   "cell_type": "code",
   "execution_count": null,
   "metadata": {
    "collapsed": true
   },
   "outputs": [],
   "source": []
  }
 ],
 "metadata": {
  "kernelspec": {
   "display_name": "Python 2",
   "language": "python",
   "name": "python2"
  },
  "language_info": {
   "codemirror_mode": {
    "name": "ipython",
    "version": 2
   },
   "file_extension": ".py",
   "mimetype": "text/x-python",
   "name": "python",
   "nbconvert_exporter": "python",
   "pygments_lexer": "ipython2",
   "version": "2.7.13"
  }
 },
 "nbformat": 4,
 "nbformat_minor": 1
}
