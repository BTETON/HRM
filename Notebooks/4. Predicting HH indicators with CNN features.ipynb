{
 "cells": [
  {
   "cell_type": "code",
   "execution_count": 1,
   "metadata": {},
   "outputs": [
    {
     "name": "stderr",
     "output_type": "stream",
     "text": [
      "/Users/pasquierjb/anaconda3/envs/hrm/lib/python3.5/site-packages/statsmodels/compat/pandas.py:56: FutureWarning: The pandas.core.datetools module is deprecated and will be removed in a future version. Please use the pandas.tseries module instead.\n",
      "  from pandas.core import datetools\n"
     ]
    }
   ],
   "source": [
    "import os\n",
    "import pandas as pd \n",
    "import numpy as np\n",
    "import matplotlib.pyplot as plt\n",
    "import statsmodels.api as sm\n",
    "from itertools import cycle\n",
    "from sklearn.linear_model import LinearRegression\n",
    "from sklearn.decomposition import PCA\n",
    "from sklearn.linear_model import Ridge\n",
    "from sklearn import linear_model\n",
    "from sklearn import metrics\n",
    "from sklearn.model_selection import GridSearchCV, cross_val_score, cross_val_predict, KFold, train_test_split\n",
    "from sklearn.metrics import r2_score, make_scorer\n",
    "from scipy import stats\n",
    "%matplotlib inline "
   ]
  },
  {
   "cell_type": "markdown",
   "metadata": {},
   "source": [
    "# Load configurations"
   ]
  },
  {
   "cell_type": "code",
   "execution_count": 5,
   "metadata": {},
   "outputs": [
    {
     "data": {
      "text/plain": [
       "{'dataset': {'country': 'Uganda',\n",
       "  'filename': 'WB_Uganda_2011_cluster.csv',\n",
       "  'level': 'cluster',\n",
       "  'month': 1,\n",
       "  'source': 'WB',\n",
       "  'year': 2011},\n",
       " 'network': {'layer': 'AvgPool', 'model': 'ResNet50'},\n",
       " 'satellite': {'grid': 'F182013.v4c_web.stable_lights.avg_vis.tif',\n",
       "  'source': 'Google',\n",
       "  'step': 0}}"
      ]
     },
     "execution_count": 5,
     "metadata": {},
     "output_type": "execute_result"
    }
   ],
   "source": [
    "import yaml\n",
    "\n",
    "with open('../public_config.yml', 'r') as cfgfile:\n",
    "    public_config = yaml.load(cfgfile)\n",
    "\n",
    "public_config"
   ]
  },
  {
   "cell_type": "markdown",
   "metadata": {},
   "source": [
    "# 1. Preparing Data"
   ]
  },
  {
   "cell_type": "markdown",
   "metadata": {},
   "source": [
    "### Loading HH Data"
   ]
  },
  {
   "cell_type": "code",
   "execution_count": 7,
   "metadata": {},
   "outputs": [],
   "source": [
    "hh_data = pd.read_csv(\"../Data/Datasets/{}\".format(public_config[\"dataset\"][\"filename\"]))"
   ]
  },
  {
   "cell_type": "markdown",
   "metadata": {},
   "source": [
    "### Loading CNN features"
   ]
  },
  {
   "cell_type": "code",
   "execution_count": 10,
   "metadata": {},
   "outputs": [],
   "source": [
    "CNN_features = pd.read_csv(\"../Data/Features/{}_{}_{}_{}.csv\".format(public_config[\"dataset\"][\"source\"], \\\n",
    "                                                       public_config[\"dataset\"][\"country\"], \\\n",
    "                                                       public_config[\"network\"][\"model\"], \\\n",
    "                                                       public_config[\"network\"][\"layer\"]))"
   ]
  },
  {
   "cell_type": "markdown",
   "metadata": {},
   "source": [
    "### Merging"
   ]
  },
  {
   "cell_type": "code",
   "execution_count": 11,
   "metadata": {
    "collapsed": true
   },
   "outputs": [],
   "source": [
    "data=hh_data.merge(CNN_features,on=[\"i\",\"j\"])"
   ]
  },
  {
   "cell_type": "code",
   "execution_count": 12,
   "metadata": {
    "collapsed": true
   },
   "outputs": [],
   "source": [
    "data = data.sample(frac=1, random_state=1783).reset_index(drop=True) #Shuffling the data"
   ]
  },
  {
   "cell_type": "code",
   "execution_count": 13,
   "metadata": {},
   "outputs": [],
   "source": [
    "start_features=len(hh_data.columns)+2"
   ]
  },
  {
   "cell_type": "code",
   "execution_count": 14,
   "metadata": {
    "collapsed": true
   },
   "outputs": [],
   "source": [
    "data_features=data.iloc[:,start_features:]"
   ]
  },
  {
   "cell_type": "markdown",
   "metadata": {},
   "source": [
    "### Defining predictors and predicting variables"
   ]
  },
  {
   "cell_type": "code",
   "execution_count": 15,
   "metadata": {},
   "outputs": [],
   "source": [
    "y = data[\"cons\"].values #Average normalized consumption per cluster\n",
    "y = y[y > 0]\n",
    "y = np.log(y) #Log-normal distribution"
   ]
  },
  {
   "cell_type": "code",
   "execution_count": 16,
   "metadata": {},
   "outputs": [],
   "source": [
    "y2 = data[\"poor_majority\"] #Dummy variable for majority of poor in the cluster"
   ]
  },
  {
   "cell_type": "code",
   "execution_count": 17,
   "metadata": {
    "collapsed": true
   },
   "outputs": [],
   "source": [
    "X=data_features.values"
   ]
  },
  {
   "cell_type": "code",
   "execution_count": 18,
   "metadata": {},
   "outputs": [
    {
     "data": {
      "text/plain": [
       "(309, 2048)"
      ]
     },
     "execution_count": 18,
     "metadata": {},
     "output_type": "execute_result"
    }
   ],
   "source": [
    "X.shape"
   ]
  },
  {
   "cell_type": "code",
   "execution_count": 19,
   "metadata": {},
   "outputs": [
    {
     "data": {
      "text/plain": [
       "(309,)"
      ]
     },
     "execution_count": 19,
     "metadata": {},
     "output_type": "execute_result"
    }
   ],
   "source": [
    "y.shape"
   ]
  },
  {
   "cell_type": "code",
   "execution_count": 20,
   "metadata": {},
   "outputs": [
    {
     "data": {
      "text/plain": [
       "(array([  3.,  14.,  47.,  85.,  70.,  35.,  28.,  20.,   5.,   2.]),\n",
       " array([-0.40340905, -0.02670821,  0.34999262,  0.72669345,  1.10339428,\n",
       "         1.48009511,  1.85679595,  2.23349678,  2.61019761,  2.98689844,\n",
       "         3.36359927]),\n",
       " <a list of 10 Patch objects>)"
      ]
     },
     "execution_count": 20,
     "metadata": {},
     "output_type": "execute_result"
    },
    {
     "data": {
      "image/png": "[encoded data removed]",
      "text/plain": [
       "<matplotlib.figure.Figure at 0x1c137ecda0>"
      ]
     },
     "metadata": {},
     "output_type": "display_data"
    }
   ],
   "source": [
    "plt.hist(y)"
   ]
  },
  {
   "cell_type": "code",
   "execution_count": 36,
   "metadata": {},
   "outputs": [
    {
     "data": {
      "text/html": [
       "<div>\n",
       "<style>\n",
       "    .dataframe thead tr:only-child th {\n",
       "        text-align: right;\n",
       "    }\n",
       "\n",
       "    .dataframe thead th {\n",
       "        text-align: left;\n",
       "    }\n",
       "\n",
       "    .dataframe tbody tr th {\n",
       "        vertical-align: top;\n",
       "    }\n",
       "</style>\n",
       "<table border=\"1\" class=\"dataframe\">\n",
       "  <thead>\n",
       "    <tr style=\"text-align: right;\">\n",
       "      <th></th>\n",
       "      <th>0</th>\n",
       "      <th>1</th>\n",
       "      <th>2</th>\n",
       "      <th>3</th>\n",
       "      <th>4</th>\n",
       "      <th>5</th>\n",
       "      <th>6</th>\n",
       "      <th>7</th>\n",
       "      <th>8</th>\n",
       "      <th>9</th>\n",
       "      <th>...</th>\n",
       "      <th>2038</th>\n",
       "      <th>2039</th>\n",
       "      <th>2040</th>\n",
       "      <th>2041</th>\n",
       "      <th>2042</th>\n",
       "      <th>2043</th>\n",
       "      <th>2044</th>\n",
       "      <th>2045</th>\n",
       "      <th>2046</th>\n",
       "      <th>2047</th>\n",
       "    </tr>\n",
       "  </thead>\n",
       "  <tbody>\n",
       "    <tr>\n",
       "      <th>0</th>\n",
       "      <td>0.165888</td>\n",
       "      <td>0.083010</td>\n",
       "      <td>0.032106</td>\n",
       "      <td>0.000000</td>\n",
       "      <td>0.000000</td>\n",
       "      <td>0.0</td>\n",
       "      <td>0.000000</td>\n",
       "      <td>0.000000</td>\n",
       "      <td>0.015369</td>\n",
       "      <td>0.066508</td>\n",
       "      <td>...</td>\n",
       "      <td>0.0</td>\n",
       "      <td>0.000000</td>\n",
       "      <td>0.00000</td>\n",
       "      <td>0.000000</td>\n",
       "      <td>0.00000</td>\n",
       "      <td>0.000000</td>\n",
       "      <td>0.000000</td>\n",
       "      <td>0.004585</td>\n",
       "      <td>0.000000</td>\n",
       "      <td>0.000000</td>\n",
       "    </tr>\n",
       "    <tr>\n",
       "      <th>1</th>\n",
       "      <td>0.109186</td>\n",
       "      <td>0.248636</td>\n",
       "      <td>0.104278</td>\n",
       "      <td>0.086860</td>\n",
       "      <td>0.000000</td>\n",
       "      <td>0.0</td>\n",
       "      <td>0.000000</td>\n",
       "      <td>0.000000</td>\n",
       "      <td>0.000000</td>\n",
       "      <td>0.000000</td>\n",
       "      <td>...</td>\n",
       "      <td>0.0</td>\n",
       "      <td>0.000000</td>\n",
       "      <td>0.00000</td>\n",
       "      <td>0.091570</td>\n",
       "      <td>0.00000</td>\n",
       "      <td>0.055476</td>\n",
       "      <td>0.002005</td>\n",
       "      <td>0.202621</td>\n",
       "      <td>0.000000</td>\n",
       "      <td>0.000000</td>\n",
       "    </tr>\n",
       "    <tr>\n",
       "      <th>2</th>\n",
       "      <td>0.200448</td>\n",
       "      <td>0.110161</td>\n",
       "      <td>0.064544</td>\n",
       "      <td>0.280621</td>\n",
       "      <td>0.002024</td>\n",
       "      <td>0.0</td>\n",
       "      <td>0.059367</td>\n",
       "      <td>0.021337</td>\n",
       "      <td>0.616359</td>\n",
       "      <td>0.118111</td>\n",
       "      <td>...</td>\n",
       "      <td>0.0</td>\n",
       "      <td>0.028854</td>\n",
       "      <td>0.20544</td>\n",
       "      <td>0.086443</td>\n",
       "      <td>0.00000</td>\n",
       "      <td>0.228114</td>\n",
       "      <td>0.442958</td>\n",
       "      <td>0.187212</td>\n",
       "      <td>0.000000</td>\n",
       "      <td>0.000000</td>\n",
       "    </tr>\n",
       "    <tr>\n",
       "      <th>3</th>\n",
       "      <td>0.157340</td>\n",
       "      <td>0.999639</td>\n",
       "      <td>0.089045</td>\n",
       "      <td>1.063644</td>\n",
       "      <td>0.000000</td>\n",
       "      <td>0.0</td>\n",
       "      <td>0.000000</td>\n",
       "      <td>0.000000</td>\n",
       "      <td>0.449742</td>\n",
       "      <td>0.000000</td>\n",
       "      <td>...</td>\n",
       "      <td>0.0</td>\n",
       "      <td>0.000000</td>\n",
       "      <td>0.00000</td>\n",
       "      <td>0.000000</td>\n",
       "      <td>0.00784</td>\n",
       "      <td>0.209024</td>\n",
       "      <td>0.095671</td>\n",
       "      <td>0.118751</td>\n",
       "      <td>0.000000</td>\n",
       "      <td>0.079408</td>\n",
       "    </tr>\n",
       "    <tr>\n",
       "      <th>4</th>\n",
       "      <td>0.010588</td>\n",
       "      <td>0.176742</td>\n",
       "      <td>0.131168</td>\n",
       "      <td>0.063431</td>\n",
       "      <td>0.000000</td>\n",
       "      <td>0.0</td>\n",
       "      <td>0.092633</td>\n",
       "      <td>0.000000</td>\n",
       "      <td>0.016088</td>\n",
       "      <td>0.000000</td>\n",
       "      <td>...</td>\n",
       "      <td>0.0</td>\n",
       "      <td>0.000000</td>\n",
       "      <td>0.00000</td>\n",
       "      <td>0.000000</td>\n",
       "      <td>0.00000</td>\n",
       "      <td>0.071738</td>\n",
       "      <td>0.148764</td>\n",
       "      <td>0.490005</td>\n",
       "      <td>0.013786</td>\n",
       "      <td>0.000000</td>\n",
       "    </tr>\n",
       "  </tbody>\n",
       "</table>\n",
       "<p>5 rows × 2048 columns</p>\n",
       "</div>"
      ],
      "text/plain": [
       "       0         1         2         3         4     5         6         7     \\\n",
       "0  0.165888  0.083010  0.032106  0.000000  0.000000   0.0  0.000000  0.000000   \n",
       "1  0.109186  0.248636  0.104278  0.086860  0.000000   0.0  0.000000  0.000000   \n",
       "2  0.200448  0.110161  0.064544  0.280621  0.002024   0.0  0.059367  0.021337   \n",
       "3  0.157340  0.999639  0.089045  1.063644  0.000000   0.0  0.000000  0.000000   \n",
       "4  0.010588  0.176742  0.131168  0.063431  0.000000   0.0  0.092633  0.000000   \n",
       "\n",
       "       8         9       ...     2038      2039     2040      2041     2042  \\\n",
       "0  0.015369  0.066508    ...      0.0  0.000000  0.00000  0.000000  0.00000   \n",
       "1  0.000000  0.000000    ...      0.0  0.000000  0.00000  0.091570  0.00000   \n",
       "2  0.616359  0.118111    ...      0.0  0.028854  0.20544  0.086443  0.00000   \n",
       "3  0.449742  0.000000    ...      0.0  0.000000  0.00000  0.000000  0.00784   \n",
       "4  0.016088  0.000000    ...      0.0  0.000000  0.00000  0.000000  0.00000   \n",
       "\n",
       "       2043      2044      2045      2046      2047  \n",
       "0  0.000000  0.000000  0.004585  0.000000  0.000000  \n",
       "1  0.055476  0.002005  0.202621  0.000000  0.000000  \n",
       "2  0.228114  0.442958  0.187212  0.000000  0.000000  \n",
       "3  0.209024  0.095671  0.118751  0.000000  0.079408  \n",
       "4  0.071738  0.148764  0.490005  0.013786  0.000000  \n",
       "\n",
       "[5 rows x 2048 columns]"
      ]
     },
     "execution_count": 36,
     "metadata": {},
     "output_type": "execute_result"
    }
   ],
   "source": [
    "pd.DataFrame(X).head()"
   ]
  },
  {
   "cell_type": "markdown",
   "metadata": {},
   "source": [
    "# 2. Predicting Continuous Indicator"
   ]
  },
  {
   "cell_type": "code",
   "execution_count": 37,
   "metadata": {
    "collapsed": true
   },
   "outputs": [],
   "source": [
    "alphas = np.array([0.01,0.1,1,5,10,20,30,40,50])"
   ]
  },
  {
   "cell_type": "code",
   "execution_count": 38,
   "metadata": {
    "collapsed": true
   },
   "outputs": [],
   "source": [
    "model=Ridge()"
   ]
  },
  {
   "cell_type": "code",
   "execution_count": 39,
   "metadata": {
    "collapsed": true
   },
   "outputs": [],
   "source": [
    "inner_cv = KFold(n_splits=5, shuffle=True, random_state=1673)\n",
    "outer_cv = KFold(n_splits=5, shuffle=True, random_state=75788)"
   ]
  },
  {
   "cell_type": "code",
   "execution_count": 40,
   "metadata": {
    "collapsed": true
   },
   "outputs": [],
   "source": [
    "def r2_pearson(ground_truth, predictions):\n",
    "    r2_pearson=stats.pearsonr(ground_truth, predictions)[0] ** 2\n",
    "    return r2_pearson\n",
    "r2_pearson = make_scorer(r2_pearson, greater_is_better=True)"
   ]
  },
  {
   "cell_type": "code",
   "execution_count": 41,
   "metadata": {},
   "outputs": [],
   "source": [
    "#Inner cross-validation loop\n",
    "clf = GridSearchCV(estimator=model, param_grid=dict(alpha=alphas), cv=inner_cv, scoring=r2_pearson)"
   ]
  },
  {
   "cell_type": "markdown",
   "metadata": {},
   "source": [
    "## From PCA Components"
   ]
  },
  {
   "cell_type": "code",
   "execution_count": 42,
   "metadata": {},
   "outputs": [],
   "source": [
    "pca = PCA(n_components=10)"
   ]
  },
  {
   "cell_type": "code",
   "execution_count": 43,
   "metadata": {},
   "outputs": [
    {
     "data": {
      "text/plain": [
       "PCA(copy=True, iterated_power='auto', n_components=10, random_state=None,\n",
       "  svd_solver='auto', tol=0.0, whiten=False)"
      ]
     },
     "execution_count": 43,
     "metadata": {},
     "output_type": "execute_result"
    }
   ],
   "source": [
    "pca.fit(data_features.transpose())"
   ]
  },
  {
   "cell_type": "code",
   "execution_count": 44,
   "metadata": {
    "collapsed": true
   },
   "outputs": [],
   "source": [
    "eigenvectors=pca.components_"
   ]
  },
  {
   "cell_type": "code",
   "execution_count": 45,
   "metadata": {},
   "outputs": [
    {
     "data": {
      "text/plain": [
       "(309, 10)"
      ]
     },
     "execution_count": 45,
     "metadata": {},
     "output_type": "execute_result"
    }
   ],
   "source": [
    "X2 = pd.DataFrame(np.transpose(eigenvectors))\n",
    "X2.shape"
   ]
  },
  {
   "cell_type": "code",
   "execution_count": 46,
   "metadata": {},
   "outputs": [
    {
     "data": {
      "image/png": "[encoded data removed]",
      "text/plain": [
       "<matplotlib.figure.Figure at 0x1c13dcac18>"
      ]
     },
     "metadata": {},
     "output_type": "display_data"
    },
    {
     "data": {
      "image/png": "[encoded data removed]",
      "text/plain": [
       "<matplotlib.figure.Figure at 0x1c13c13828>"
      ]
     },
     "metadata": {},
     "output_type": "display_data"
    }
   ],
   "source": [
    "for i in range(2):\n",
    "    plt.figure()\n",
    "    plt.scatter(y, eigenvectors[i],  color='black')"
   ]
  },
  {
   "cell_type": "code",
   "execution_count": 56,
   "metadata": {},
   "outputs": [
    {
     "name": "stdout",
     "output_type": "stream",
     "text": [
      "r2 (pearson): 0.35 (+/- 0.09)\n"
     ]
    }
   ],
   "source": [
    "# Outer Loop with r2 (Pearson)\n",
    "r2 = cross_val_score(clf, X2, y, cv=outer_cv ,scoring=r2_pearson)\n",
    "print(\"r2 (pearson): %0.2f (+/- %0.2f)\" % (r2.mean(), r2.std() * 2)) "
   ]
  },
  {
   "cell_type": "code",
   "execution_count": 57,
   "metadata": {},
   "outputs": [
    {
     "name": "stdout",
     "output_type": "stream",
     "text": [
      "R2: 0.19 (+/- 0.28)\n"
     ]
    }
   ],
   "source": [
    "# Outer Loop with R2\n",
    "r2 = cross_val_score(clf, X2, y, cv=outer_cv ,scoring='r2')\n",
    "print(\"R2: %0.2f (+/- %0.2f)\" % (r2.mean(), r2.std() * 2))"
   ]
  },
  {
   "cell_type": "code",
   "execution_count": 49,
   "metadata": {},
   "outputs": [
    {
     "data": {
      "image/png": "[encoded data removed]",
      "text/plain": [
       "<matplotlib.figure.Figure at 0x1c13dbff60>"
      ]
     },
     "metadata": {},
     "output_type": "display_data"
    }
   ],
   "source": [
    "y_hat = cross_val_predict(clf, X2, y, cv=outer_cv)\n",
    "fig, ax = plt.subplots()\n",
    "ax.scatter(y, y_hat, edgecolors=(0, 0, 0))\n",
    "ax.plot([y.min(), y.max()], [y.min(), y.max()], 'k--')\n",
    "ax.set_xlabel('Log consumption expenditures')\n",
    "ax.set_ylabel('Model predictions')\n",
    "plt.show()"
   ]
  },
  {
   "cell_type": "markdown",
   "metadata": {},
   "source": [
    "## From all (4096) features"
   ]
  },
  {
   "cell_type": "code",
   "execution_count": 50,
   "metadata": {
    "collapsed": true
   },
   "outputs": [],
   "source": [
    "alphas = np.array([1,5,10,20,30,40,50])"
   ]
  },
  {
   "cell_type": "code",
   "execution_count": 51,
   "metadata": {},
   "outputs": [
    {
     "name": "stdout",
     "output_type": "stream",
     "text": [
      "r2 (pearson): 0.38 (+/- 0.15)\n"
     ]
    }
   ],
   "source": [
    "# Outer Loop with r2 (Pearson)\n",
    "r2 = cross_val_score(clf, X, y, cv=outer_cv ,scoring=r2_pearson)\n",
    "print(\"r2 (pearson): %0.2f (+/- %0.2f)\" % (r2.mean(), r2.std() * 2))"
   ]
  },
  {
   "cell_type": "code",
   "execution_count": 52,
   "metadata": {},
   "outputs": [
    {
     "data": {
      "text/plain": [
       "array([ 0.41347773,  0.50407295,  0.36627695,  0.26542207,  0.36558303])"
      ]
     },
     "execution_count": 52,
     "metadata": {},
     "output_type": "execute_result"
    }
   ],
   "source": [
    "r2"
   ]
  },
  {
   "cell_type": "code",
   "execution_count": 53,
   "metadata": {},
   "outputs": [
    {
     "name": "stdout",
     "output_type": "stream",
     "text": [
      "R2: 0.31 (+/- 0.20)\n"
     ]
    }
   ],
   "source": [
    "# Outer Loop with R2\n",
    "R2 = cross_val_score(clf, X, y, cv=outer_cv ,scoring='r2')\n",
    "print(\"R2: %0.2f (+/- %0.2f)\" % (R2.mean(), R2.std() * 2))"
   ]
  },
  {
   "cell_type": "code",
   "execution_count": 54,
   "metadata": {},
   "outputs": [
    {
     "data": {
      "text/plain": [
       "array([ 0.38119058,  0.46541601,  0.29678602,  0.21037747,  0.2030125 ])"
      ]
     },
     "execution_count": 54,
     "metadata": {},
     "output_type": "execute_result"
    }
   ],
   "source": [
    "R2"
   ]
  },
  {
   "cell_type": "code",
   "execution_count": 58,
   "metadata": {},
   "outputs": [
    {
     "name": "stdout",
     "output_type": "stream",
     "text": [
      "neg_mean_squared_error: 0.27 (+/- 0.04)\n"
     ]
    }
   ],
   "source": [
    "neg_mean_squared_error = cross_val_score(clf, X, y, cv=outer_cv,scoring='neg_mean_squared_error')\n",
    "print(\"neg_mean_squared_error: %0.2f (+/- %0.2f)\" % (-neg_mean_squared_error.mean(), neg_mean_squared_error.std() * 2)) "
   ]
  },
  {
   "cell_type": "code",
   "execution_count": 61,
   "metadata": {},
   "outputs": [
    {
     "data": {
      "text/plain": [
       "array([ 0.25592034,  0.28178149,  0.26240351,  0.29735724,  0.2498313 ])"
      ]
     },
     "execution_count": 61,
     "metadata": {},
     "output_type": "execute_result"
    }
   ],
   "source": [
    "-neg_mean_squared_error"
   ]
  },
  {
   "cell_type": "code",
   "execution_count": 62,
   "metadata": {},
   "outputs": [
    {
     "data": {
      "image/png": "[encoded data removed]",
      "text/plain": [
       "<matplotlib.figure.Figure at 0x1c138b3da0>"
      ]
     },
     "metadata": {},
     "output_type": "display_data"
    }
   ],
   "source": [
    "y_hat = cross_val_predict(clf, X, y, cv=outer_cv)\n",
    "fig, ax = plt.subplots()\n",
    "ax.scatter(y, y_hat, edgecolors=(0, 0, 0))\n",
    "ax.plot([y.min(), y.max()], [y.min(), y.max()], 'k--')\n",
    "ax.set_xlabel('Log consumption expenditures')\n",
    "ax.set_ylabel('Model predictions')\n",
    "plt.show()"
   ]
  },
  {
   "cell_type": "code",
   "execution_count": 63,
   "metadata": {},
   "outputs": [
    {
     "data": {
      "text/plain": [
       "0.3366220833396969"
      ]
     },
     "execution_count": 63,
     "metadata": {},
     "output_type": "execute_result"
    }
   ],
   "source": [
    "r2_score(y,y_hat)"
   ]
  },
  {
   "cell_type": "code",
   "execution_count": 64,
   "metadata": {},
   "outputs": [
    {
     "data": {
      "text/plain": [
       "0.37677381537248728"
      ]
     },
     "execution_count": 64,
     "metadata": {},
     "output_type": "execute_result"
    }
   ],
   "source": [
    "stats.pearsonr(y,y_hat)[0] ** 2"
   ]
  },
  {
   "cell_type": "markdown",
   "metadata": {},
   "source": [
    "# 3. Predicting Dummy Indicator from all features"
   ]
  },
  {
   "cell_type": "code",
   "execution_count": 65,
   "metadata": {},
   "outputs": [
    {
     "data": {
      "text/plain": [
       "LogisticRegression(C=1.0, class_weight=None, dual=False, fit_intercept=True,\n",
       "          intercept_scaling=1, max_iter=100, multi_class='ovr', n_jobs=1,\n",
       "          penalty='l2', random_state=None, solver='liblinear', tol=0.0001,\n",
       "          verbose=0, warm_start=False)"
      ]
     },
     "execution_count": 65,
     "metadata": {},
     "output_type": "execute_result"
    }
   ],
   "source": [
    "model = linear_model.LogisticRegression(penalty=\"l2\")\n",
    "model.fit(X, y2) "
   ]
  },
  {
   "cell_type": "code",
   "execution_count": 66,
   "metadata": {
    "collapsed": true
   },
   "outputs": [],
   "source": [
    "cv = KFold(n_splits=10, shuffle=True, random_state=167)"
   ]
  },
  {
   "cell_type": "code",
   "execution_count": 67,
   "metadata": {},
   "outputs": [],
   "source": [
    "accuracy = cross_val_score(model, X, y2, cv=cv)\n",
    "f1 = cross_val_score(model, X, y2, cv=cv,scoring='f1')\n",
    "precision = cross_val_score(model, X, y2, cv=cv,scoring='precision')\n",
    "recall= cross_val_score(model, X, y2, cv=cv,scoring='recall')\n",
    "auc= cross_val_score(model, X, y2, cv=cv,scoring='roc_auc')\n",
    "confusion= cross_val_score(model, X, y2, cv=cv,scoring='roc_auc')"
   ]
  },
  {
   "cell_type": "code",
   "execution_count": 68,
   "metadata": {},
   "outputs": [
    {
     "name": "stdout",
     "output_type": "stream",
     "text": [
      "Accuracy: 0.79 (+/- 0.09)\n",
      "F1: 0.53 (+/- 0.26)\n",
      "Precision: 0.62 (+/- 0.37)\n",
      "Recall: 0.49 (+/- 0.30)\n",
      "AUC: 0.82 (+/- 0.14)\n"
     ]
    }
   ],
   "source": [
    "scores = cross_val_score(model, X, y2, cv=10,scoring='precision')\n",
    "accuracy_print=(\"Accuracy: %0.2f (+/- %0.2f)\" % (accuracy.mean(), accuracy.std() * 2))\n",
    "f1_print=(\"F1: %0.2f (+/- %0.2f)\" % (f1.mean(), f1.std() * 2))\n",
    "precision_print=(\"Precision: %0.2f (+/- %0.2f)\" % (precision.mean(), precision.std() * 2))\n",
    "recall_print=(\"Recall: %0.2f (+/- %0.2f)\" % (recall.mean(), recall.std() * 2))\n",
    "auc_print=(\"AUC: %0.2f (+/- %0.2f)\" % (auc.mean(), auc.std() * 2))\n",
    "print(os.linesep.join([accuracy_print,f1_print,precision_print,recall_print,auc_print]))"
   ]
  },
  {
   "cell_type": "code",
   "execution_count": 69,
   "metadata": {},
   "outputs": [
    {
     "data": {
      "text/plain": [
       "count    309.000000\n",
       "mean       0.258900\n",
       "std        0.438741\n",
       "min        0.000000\n",
       "25%        0.000000\n",
       "50%        0.000000\n",
       "75%        1.000000\n",
       "max        1.000000\n",
       "Name: poor_majority, dtype: float64"
      ]
     },
     "execution_count": 69,
     "metadata": {},
     "output_type": "execute_result"
    }
   ],
   "source": [
    "y2.describe()"
   ]
  },
  {
   "cell_type": "code",
   "execution_count": null,
   "metadata": {
    "collapsed": true
   },
   "outputs": [],
   "source": []
  }
 ],
 "metadata": {
  "kernelspec": {
   "display_name": "Python 3",
   "language": "python",
   "name": "python3"
  },
  "language_info": {
   "codemirror_mode": {
    "name": "ipython",
    "version": 3
   },
   "file_extension": ".py",
   "mimetype": "text/x-python",
   "name": "python",
   "nbconvert_exporter": "python",
   "pygments_lexer": "ipython3",
   "version": "3.5.4"
  }
 },
 "nbformat": 4,
 "nbformat_minor": 1
}
