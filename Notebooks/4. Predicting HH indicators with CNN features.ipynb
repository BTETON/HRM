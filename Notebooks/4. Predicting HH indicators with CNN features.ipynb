{
 "cells": [
  {
   "cell_type": "code",
   "execution_count": 282,
   "metadata": {
    "collapsed": false
   },
   "outputs": [],
   "source": [
    "import os\n",
    "import pandas as pd \n",
    "import numpy as np\n",
    "import matplotlib.pyplot as plt\n",
    "import statsmodels.api as sm\n",
    "from itertools import cycle\n",
    "from sklearn.linear_model import LinearRegression\n",
    "from sklearn.model_selection import train_test_split\n",
    "from sklearn.model_selection import cross_val_score, cross_val_predict\n",
    "from sklearn.decomposition import PCA\n",
    "from sklearn.linear_model import Ridge\n",
    "from sklearn import linear_model\n",
    "from sklearn import metrics\n",
    "from sklearn.model_selection import StratifiedKFold\n",
    "%matplotlib inline "
   ]
  },
  {
   "cell_type": "markdown",
   "metadata": {},
   "source": [
    "# 1. Preparing Data"
   ]
  },
  {
   "cell_type": "markdown",
   "metadata": {},
   "source": [
    "### Loading HH Data"
   ]
  },
  {
   "cell_type": "code",
   "execution_count": 283,
   "metadata": {
    "collapsed": true
   },
   "outputs": [],
   "source": [
    "hh_village_coord_fcs = pd.read_csv(\"../Data/Intermediate_files/hh_village_coord_fcs.csv\")"
   ]
  },
  {
   "cell_type": "code",
   "execution_count": 284,
   "metadata": {
    "collapsed": true
   },
   "outputs": [],
   "source": [
    "hh_data_2011_cluster_minHH = pd.read_csv(\"../Data/Intermediate_files/hh_data_2011_cluster_minHH.csv\")"
   ]
  },
  {
   "cell_type": "markdown",
   "metadata": {},
   "source": [
    "### Loading CNN features"
   ]
  },
  {
   "cell_type": "code",
   "execution_count": 285,
   "metadata": {
    "collapsed": true
   },
   "outputs": [],
   "source": [
    "#google_sat_CNN_features = pd.read_csv(\"../Data/Intermediate_files/google_sat_CNN_features.csv\")"
   ]
  },
  {
   "cell_type": "code",
   "execution_count": 286,
   "metadata": {
    "collapsed": true
   },
   "outputs": [],
   "source": [
    "#google_sat_CNN_features_lsms = pd.read_csv(\"../Data/Intermediate_files/google_sat_CNN_features_lsms.csv\")"
   ]
  },
  {
   "cell_type": "code",
   "execution_count": 287,
   "metadata": {
    "collapsed": false
   },
   "outputs": [],
   "source": [
    "#google_sat_CNN_features_lsms_VGG16_block4_pool = pd.read_csv(\"../Data/Intermediate_files/google_sat_CNN_features_lsms_VGG16_block4_pool.csv\")"
   ]
  },
  {
   "cell_type": "code",
   "execution_count": 288,
   "metadata": {
    "collapsed": true
   },
   "outputs": [],
   "source": [
    "#google_sat_CNN_features_lsms_VGGF_caffe_conv7_mean = pd.read_csv(\"../Data/Intermediate_files/google_sat_CNN_features_lsms_VGGF_caffe_conv7_mean.csv\")"
   ]
  },
  {
   "cell_type": "code",
   "execution_count": 289,
   "metadata": {
    "collapsed": true
   },
   "outputs": [],
   "source": [
    "google_sat_CNN_features_lsms_VGGF_caffe_conv7_mean_100imagescluster = pd.read_csv(\"../Data/Intermediate_files/google_sat_CNN_features_lsms_VGGF_caffe_conv7_mean_100imagescluster.csv\")"
   ]
  },
  {
   "cell_type": "markdown",
   "metadata": {},
   "source": [
    "### Merging"
   ]
  },
  {
   "cell_type": "code",
   "execution_count": 290,
   "metadata": {
    "collapsed": true
   },
   "outputs": [],
   "source": [
    "data=hh_data_2011_cluster_minHH.merge(google_sat_CNN_features_lsms_VGGF_caffe_conv7_mean_100imagescluster,on=[\"i\",\"j\"])"
   ]
  },
  {
   "cell_type": "code",
   "execution_count": 291,
   "metadata": {
    "collapsed": true
   },
   "outputs": [],
   "source": [
    "start_features=len(hh_data_2011_cluster_minHH.columns)+2"
   ]
  },
  {
   "cell_type": "code",
   "execution_count": 292,
   "metadata": {
    "collapsed": true
   },
   "outputs": [],
   "source": [
    "data_features=data.iloc[:,start_features:]"
   ]
  },
  {
   "cell_type": "markdown",
   "metadata": {},
   "source": [
    "### Defining predictors and predicting variables"
   ]
  },
  {
   "cell_type": "code",
   "execution_count": 293,
   "metadata": {
    "collapsed": false
   },
   "outputs": [],
   "source": [
    "y = data[\"cons\"] #Average normalized consumption per cluster\n",
    "y = y[y > 0]\n",
    "y = np.log(y) #Log-normal distribution"
   ]
  },
  {
   "cell_type": "code",
   "execution_count": 294,
   "metadata": {
    "collapsed": true
   },
   "outputs": [],
   "source": [
    "y2 = data[\"poor_majority\"] #Dummy variable for majority of poor in the cluster"
   ]
  },
  {
   "cell_type": "code",
   "execution_count": 295,
   "metadata": {
    "collapsed": true
   },
   "outputs": [],
   "source": [
    "X=data_features"
   ]
  },
  {
   "cell_type": "code",
   "execution_count": 296,
   "metadata": {
    "collapsed": false
   },
   "outputs": [
    {
     "data": {
      "text/plain": [
       "<matplotlib.axes._subplots.AxesSubplot at 0x142325ed0>"
      ]
     },
     "execution_count": 296,
     "metadata": {},
     "output_type": "execute_result"
    },
    {
     "data": {
      "image/png": "[encoded data removed]",
      "text/plain": [
       "<matplotlib.figure.Figure at 0x110006650>"
      ]
     },
     "metadata": {},
     "output_type": "display_data"
    }
   ],
   "source": [
    "y.hist()"
   ]
  },
  {
   "cell_type": "code",
   "execution_count": 297,
   "metadata": {
    "collapsed": false
   },
   "outputs": [
    {
     "data": {
      "text/html": [
       "<div>\n",
       "<style>\n",
       "    .dataframe thead tr:only-child th {\n",
       "        text-align: right;\n",
       "    }\n",
       "\n",
       "    .dataframe thead th {\n",
       "        text-align: left;\n",
       "    }\n",
       "\n",
       "    .dataframe tbody tr th {\n",
       "        vertical-align: top;\n",
       "    }\n",
       "</style>\n",
       "<table border=\"1\" class=\"dataframe\">\n",
       "  <thead>\n",
       "    <tr style=\"text-align: right;\">\n",
       "      <th></th>\n",
       "      <th>0</th>\n",
       "      <th>1</th>\n",
       "      <th>2</th>\n",
       "      <th>3</th>\n",
       "      <th>4</th>\n",
       "      <th>5</th>\n",
       "      <th>6</th>\n",
       "      <th>7</th>\n",
       "      <th>8</th>\n",
       "      <th>9</th>\n",
       "      <th>...</th>\n",
       "      <th>4086</th>\n",
       "      <th>4087</th>\n",
       "      <th>4088</th>\n",
       "      <th>4089</th>\n",
       "      <th>4090</th>\n",
       "      <th>4091</th>\n",
       "      <th>4092</th>\n",
       "      <th>4093</th>\n",
       "      <th>4094</th>\n",
       "      <th>4095</th>\n",
       "    </tr>\n",
       "  </thead>\n",
       "  <tbody>\n",
       "    <tr>\n",
       "      <th>0</th>\n",
       "      <td>0.291924</td>\n",
       "      <td>0.068823</td>\n",
       "      <td>0.017631</td>\n",
       "      <td>0.248543</td>\n",
       "      <td>0.326709</td>\n",
       "      <td>0.050860</td>\n",
       "      <td>0.399913</td>\n",
       "      <td>0.020031</td>\n",
       "      <td>0.143854</td>\n",
       "      <td>0.012067</td>\n",
       "      <td>...</td>\n",
       "      <td>0.041486</td>\n",
       "      <td>0.632786</td>\n",
       "      <td>0.000037</td>\n",
       "      <td>0.879723</td>\n",
       "      <td>0.170953</td>\n",
       "      <td>0.401817</td>\n",
       "      <td>0.048103</td>\n",
       "      <td>0.081173</td>\n",
       "      <td>0.164577</td>\n",
       "      <td>0.051656</td>\n",
       "    </tr>\n",
       "    <tr>\n",
       "      <th>1</th>\n",
       "      <td>0.262870</td>\n",
       "      <td>0.081398</td>\n",
       "      <td>0.012684</td>\n",
       "      <td>0.190422</td>\n",
       "      <td>0.308329</td>\n",
       "      <td>0.045846</td>\n",
       "      <td>0.331663</td>\n",
       "      <td>0.030801</td>\n",
       "      <td>0.122497</td>\n",
       "      <td>0.010185</td>\n",
       "      <td>...</td>\n",
       "      <td>0.050007</td>\n",
       "      <td>0.488522</td>\n",
       "      <td>0.000000</td>\n",
       "      <td>0.736051</td>\n",
       "      <td>0.185541</td>\n",
       "      <td>0.344004</td>\n",
       "      <td>0.043975</td>\n",
       "      <td>0.075466</td>\n",
       "      <td>0.133451</td>\n",
       "      <td>0.061188</td>\n",
       "    </tr>\n",
       "    <tr>\n",
       "      <th>2</th>\n",
       "      <td>0.332226</td>\n",
       "      <td>0.036973</td>\n",
       "      <td>0.013022</td>\n",
       "      <td>0.205900</td>\n",
       "      <td>0.384501</td>\n",
       "      <td>0.059003</td>\n",
       "      <td>0.392832</td>\n",
       "      <td>0.010993</td>\n",
       "      <td>0.104263</td>\n",
       "      <td>0.005208</td>\n",
       "      <td>...</td>\n",
       "      <td>0.025200</td>\n",
       "      <td>0.578562</td>\n",
       "      <td>0.000531</td>\n",
       "      <td>0.981637</td>\n",
       "      <td>0.163697</td>\n",
       "      <td>0.418472</td>\n",
       "      <td>0.059499</td>\n",
       "      <td>0.083191</td>\n",
       "      <td>0.170706</td>\n",
       "      <td>0.047975</td>\n",
       "    </tr>\n",
       "    <tr>\n",
       "      <th>3</th>\n",
       "      <td>0.344775</td>\n",
       "      <td>0.073419</td>\n",
       "      <td>0.021959</td>\n",
       "      <td>0.243460</td>\n",
       "      <td>0.371201</td>\n",
       "      <td>0.037094</td>\n",
       "      <td>0.451379</td>\n",
       "      <td>0.014772</td>\n",
       "      <td>0.199083</td>\n",
       "      <td>0.005553</td>\n",
       "      <td>...</td>\n",
       "      <td>0.049265</td>\n",
       "      <td>0.718210</td>\n",
       "      <td>0.000000</td>\n",
       "      <td>0.970162</td>\n",
       "      <td>0.161915</td>\n",
       "      <td>0.483167</td>\n",
       "      <td>0.047791</td>\n",
       "      <td>0.133360</td>\n",
       "      <td>0.243238</td>\n",
       "      <td>0.015733</td>\n",
       "    </tr>\n",
       "    <tr>\n",
       "      <th>4</th>\n",
       "      <td>0.317799</td>\n",
       "      <td>0.047743</td>\n",
       "      <td>0.022632</td>\n",
       "      <td>0.213685</td>\n",
       "      <td>0.363133</td>\n",
       "      <td>0.032384</td>\n",
       "      <td>0.424504</td>\n",
       "      <td>0.011410</td>\n",
       "      <td>0.121238</td>\n",
       "      <td>0.031045</td>\n",
       "      <td>...</td>\n",
       "      <td>0.032528</td>\n",
       "      <td>0.576067</td>\n",
       "      <td>0.003322</td>\n",
       "      <td>0.923956</td>\n",
       "      <td>0.152044</td>\n",
       "      <td>0.379146</td>\n",
       "      <td>0.060154</td>\n",
       "      <td>0.106679</td>\n",
       "      <td>0.149290</td>\n",
       "      <td>0.046884</td>\n",
       "    </tr>\n",
       "  </tbody>\n",
       "</table>\n",
       "<p>5 rows × 4096 columns</p>\n",
       "</div>"
      ],
      "text/plain": [
       "          0         1         2         3         4         5         6  \\\n",
       "0  0.291924  0.068823  0.017631  0.248543  0.326709  0.050860  0.399913   \n",
       "1  0.262870  0.081398  0.012684  0.190422  0.308329  0.045846  0.331663   \n",
       "2  0.332226  0.036973  0.013022  0.205900  0.384501  0.059003  0.392832   \n",
       "3  0.344775  0.073419  0.021959  0.243460  0.371201  0.037094  0.451379   \n",
       "4  0.317799  0.047743  0.022632  0.213685  0.363133  0.032384  0.424504   \n",
       "\n",
       "          7         8         9    ...         4086      4087      4088  \\\n",
       "0  0.020031  0.143854  0.012067    ...     0.041486  0.632786  0.000037   \n",
       "1  0.030801  0.122497  0.010185    ...     0.050007  0.488522  0.000000   \n",
       "2  0.010993  0.104263  0.005208    ...     0.025200  0.578562  0.000531   \n",
       "3  0.014772  0.199083  0.005553    ...     0.049265  0.718210  0.000000   \n",
       "4  0.011410  0.121238  0.031045    ...     0.032528  0.576067  0.003322   \n",
       "\n",
       "       4089      4090      4091      4092      4093      4094      4095  \n",
       "0  0.879723  0.170953  0.401817  0.048103  0.081173  0.164577  0.051656  \n",
       "1  0.736051  0.185541  0.344004  0.043975  0.075466  0.133451  0.061188  \n",
       "2  0.981637  0.163697  0.418472  0.059499  0.083191  0.170706  0.047975  \n",
       "3  0.970162  0.161915  0.483167  0.047791  0.133360  0.243238  0.015733  \n",
       "4  0.923956  0.152044  0.379146  0.060154  0.106679  0.149290  0.046884  \n",
       "\n",
       "[5 rows x 4096 columns]"
      ]
     },
     "execution_count": 297,
     "metadata": {},
     "output_type": "execute_result"
    }
   ],
   "source": [
    "X.head()"
   ]
  },
  {
   "cell_type": "markdown",
   "metadata": {},
   "source": [
    "# 2. Predicting Continuous Indicator"
   ]
  },
  {
   "cell_type": "markdown",
   "metadata": {},
   "source": [
    "## From PCA Components"
   ]
  },
  {
   "cell_type": "code",
   "execution_count": 298,
   "metadata": {
    "collapsed": true
   },
   "outputs": [],
   "source": [
    "alpha=1.0 # Choosing the regularization parameter by hand\n",
    "clf = Ridge(alpha)"
   ]
  },
  {
   "cell_type": "code",
   "execution_count": 299,
   "metadata": {
    "collapsed": true
   },
   "outputs": [],
   "source": [
    "pca = PCA(n_components=10)"
   ]
  },
  {
   "cell_type": "code",
   "execution_count": 300,
   "metadata": {
    "collapsed": false
   },
   "outputs": [
    {
     "data": {
      "text/plain": [
       "PCA(copy=True, iterated_power='auto', n_components=10, random_state=None,\n",
       "  svd_solver='auto', tol=0.0, whiten=False)"
      ]
     },
     "execution_count": 300,
     "metadata": {},
     "output_type": "execute_result"
    }
   ],
   "source": [
    "pca.fit(data_features.transpose())"
   ]
  },
  {
   "cell_type": "code",
   "execution_count": 301,
   "metadata": {
    "collapsed": true
   },
   "outputs": [],
   "source": [
    "eigenvectors=pca.components_"
   ]
  },
  {
   "cell_type": "code",
   "execution_count": 302,
   "metadata": {
    "collapsed": false
   },
   "outputs": [
    {
     "data": {
      "text/plain": [
       "(309, 10)"
      ]
     },
     "execution_count": 302,
     "metadata": {},
     "output_type": "execute_result"
    }
   ],
   "source": [
    "X2 = pd.DataFrame(np.transpose(eigenvectors))\n",
    "X2.shape"
   ]
  },
  {
   "cell_type": "code",
   "execution_count": 303,
   "metadata": {
    "collapsed": false
   },
   "outputs": [
    {
     "data": {
      "image/png": "[encoded data removed]",
      "text/plain": [
       "<matplotlib.figure.Figure at 0x1110e69d0>"
      ]
     },
     "metadata": {},
     "output_type": "display_data"
    },
    {
     "data": {
      "image/png": "[encoded data removed]",
      "text/plain": [
       "<matplotlib.figure.Figure at 0x111234b50>"
      ]
     },
     "metadata": {},
     "output_type": "display_data"
    }
   ],
   "source": [
    "for i in range(2):\n",
    "    plt.figure()\n",
    "    plt.scatter(y, eigenvectors[i],  color='black')"
   ]
  },
  {
   "cell_type": "code",
   "execution_count": 304,
   "metadata": {
    "collapsed": false
   },
   "outputs": [
    {
     "name": "stdout",
     "output_type": "stream",
     "text": [
      "R2: -0.10 (+/- 0.34)\n"
     ]
    }
   ],
   "source": [
    "r2 = cross_val_score(clf, X2, y, cv=10,scoring='r2')\n",
    "print(\"R2: %0.2f (+/- %0.2f)\" % (r2.mean(), r2.std() * 2)) "
   ]
  },
  {
   "cell_type": "code",
   "execution_count": 305,
   "metadata": {
    "collapsed": false
   },
   "outputs": [
    {
     "data": {
      "image/png": "[encoded data removed]",
      "text/plain": [
       "<matplotlib.figure.Figure at 0x129d20410>"
      ]
     },
     "metadata": {},
     "output_type": "display_data"
    }
   ],
   "source": [
    "y_hat = cross_val_predict(clf, X2, y, cv=10)\n",
    "fig, ax = plt.subplots()\n",
    "ax.scatter(y, y_hat, edgecolors=(0, 0, 0))\n",
    "ax.plot([y.min(), y.max()], [y.min(), y.max()], 'k--')\n",
    "ax.set_xlabel('Log consumption expenditures')\n",
    "ax.set_ylabel('Model predictions')\n",
    "plt.show()"
   ]
  },
  {
   "cell_type": "markdown",
   "metadata": {},
   "source": [
    "## From all (4096) features"
   ]
  },
  {
   "cell_type": "code",
   "execution_count": 306,
   "metadata": {
    "collapsed": true
   },
   "outputs": [],
   "source": [
    "alpha=4.0 # Choosing the regularization parameter by hand\n",
    "clf = Ridge(alpha)"
   ]
  },
  {
   "cell_type": "code",
   "execution_count": 307,
   "metadata": {
    "collapsed": false
   },
   "outputs": [
    {
     "name": "stdout",
     "output_type": "stream",
     "text": [
      "R2: 0.05 (+/- 0.46)\n"
     ]
    }
   ],
   "source": [
    "r2 = cross_val_score(clf, X, y, cv=10,scoring='r2')\n",
    "print(\"R2: %0.2f (+/- %0.2f)\" % (r2.mean(), r2.std() * 2)) "
   ]
  },
  {
   "cell_type": "code",
   "execution_count": 308,
   "metadata": {
    "collapsed": false
   },
   "outputs": [
    {
     "name": "stdout",
     "output_type": "stream",
     "text": [
      "neg_mean_squared_error: -0.25 (+/- 0.10)\n"
     ]
    }
   ],
   "source": [
    "neg_mean_squared_error = cross_val_score(clf, X, y, cv=10,scoring='neg_mean_squared_error')\n",
    "print(\"neg_mean_squared_error: %0.2f (+/- %0.2f)\" % (neg_mean_squared_error.mean(), neg_mean_squared_error.std() * 2)) "
   ]
  },
  {
   "cell_type": "code",
   "execution_count": 309,
   "metadata": {
    "collapsed": false
   },
   "outputs": [
    {
     "data": {
      "image/png": "[encoded data removed]",
      "text/plain": [
       "<matplotlib.figure.Figure at 0x11185aa50>"
      ]
     },
     "metadata": {},
     "output_type": "display_data"
    }
   ],
   "source": [
    "y_hat = cross_val_predict(clf, X, y, cv=10)\n",
    "fig, ax = plt.subplots()\n",
    "ax.scatter(y, y_hat, edgecolors=(0, 0, 0))\n",
    "ax.plot([y.min(), y.max()], [y.min(), y.max()], 'k--')\n",
    "ax.set_xlabel('Log consumption expenditures')\n",
    "ax.set_ylabel('Model predictions')\n",
    "plt.show()"
   ]
  },
  {
   "cell_type": "markdown",
   "metadata": {},
   "source": [
    "# 3. Predicting Dummy Indicator from all features"
   ]
  },
  {
   "cell_type": "code",
   "execution_count": 310,
   "metadata": {
    "collapsed": false
   },
   "outputs": [
    {
     "data": {
      "text/plain": [
       "LogisticRegression(C=1.0, class_weight=None, dual=False, fit_intercept=True,\n",
       "          intercept_scaling=1, max_iter=100, multi_class='ovr', n_jobs=1,\n",
       "          penalty='l2', random_state=None, solver='liblinear', tol=0.0001,\n",
       "          verbose=0, warm_start=False)"
      ]
     },
     "execution_count": 310,
     "metadata": {},
     "output_type": "execute_result"
    }
   ],
   "source": [
    "model = linear_model.LogisticRegression(penalty=\"l2\")\n",
    "model.fit(X, y2) "
   ]
  },
  {
   "cell_type": "code",
   "execution_count": 311,
   "metadata": {
    "collapsed": false
   },
   "outputs": [],
   "source": [
    "accuracy = cross_val_score(model, X, y2, cv=10)\n",
    "f1 = cross_val_score(model, X, y2, cv=10,scoring='f1')\n",
    "precision = cross_val_score(model, X, y2, cv=10,scoring='precision')\n",
    "recall= cross_val_score(model, X, y2, cv=10,scoring='recall')\n",
    "auc= cross_val_score(model, X, y2, cv=10,scoring='roc_auc')\n",
    "confusion= cross_val_score(model, X, y2, cv=10,scoring='roc_auc')"
   ]
  },
  {
   "cell_type": "code",
   "execution_count": 312,
   "metadata": {
    "collapsed": false
   },
   "outputs": [
    {
     "name": "stdout",
     "output_type": "stream",
     "text": [
      "Accuracy: 0.74 (+/- 0.15)\n",
      "F1: 0.35 (+/- 0.47)\n",
      "Precision: 0.54 (+/- 0.75)\n",
      "Recall: 0.33 (+/- 0.51)\n",
      "AUC: 0.75 (+/- 0.29)\n"
     ]
    }
   ],
   "source": [
    "scores = cross_val_score(model, X, y2, cv=10,scoring='precision')\n",
    "accuracy_print=(\"Accuracy: %0.2f (+/- %0.2f)\" % (accuracy.mean(), accuracy.std() * 2))\n",
    "f1_print=(\"F1: %0.2f (+/- %0.2f)\" % (f1.mean(), f1.std() * 2))\n",
    "precision_print=(\"Precision: %0.2f (+/- %0.2f)\" % (precision.mean(), precision.std() * 2))\n",
    "recall_print=(\"Recall: %0.2f (+/- %0.2f)\" % (recall.mean(), recall.std() * 2))\n",
    "auc_print=(\"AUC: %0.2f (+/- %0.2f)\" % (auc.mean(), auc.std() * 2))\n",
    "print(os.linesep.join([accuracy_print,f1_print,precision_print,recall_print,auc_print]))"
   ]
  }
 ],
 "metadata": {
  "kernelspec": {
   "display_name": "Python 2",
   "language": "python",
   "name": "python2"
  },
  "language_info": {
   "codemirror_mode": {
    "name": "ipython",
    "version": 2
   },
   "file_extension": ".py",
   "mimetype": "text/x-python",
   "name": "python",
   "nbconvert_exporter": "python",
   "pygments_lexer": "ipython2",
   "version": "2.7.13"
  }
 },
 "nbformat": 4,
 "nbformat_minor": 1
}
