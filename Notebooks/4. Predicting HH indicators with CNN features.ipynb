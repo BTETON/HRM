{
 "cells": [
  {
   "cell_type": "code",
   "execution_count": 317,
   "metadata": {
    "collapsed": false
   },
   "outputs": [],
   "source": [
    "import os\n",
    "import pandas as pd \n",
    "import numpy as np\n",
    "import matplotlib.pyplot as plt\n",
    "import statsmodels.api as sm\n",
    "from itertools import cycle\n",
    "from sklearn.linear_model import LinearRegression\n",
    "from sklearn.decomposition import PCA\n",
    "from sklearn.linear_model import Ridge\n",
    "from sklearn import linear_model\n",
    "from sklearn import metrics\n",
    "from sklearn.model_selection import GridSearchCV, cross_val_score, cross_val_predict, KFold, train_test_split\n",
    "from sklearn.metrics import r2_score, make_scorer\n",
    "from scipy import stats\n",
    "%matplotlib inline "
   ]
  },
  {
   "cell_type": "markdown",
   "metadata": {},
   "source": [
    "# 1. Preparing Data"
   ]
  },
  {
   "cell_type": "markdown",
   "metadata": {},
   "source": [
    "### Loading HH Data"
   ]
  },
  {
   "cell_type": "code",
   "execution_count": 318,
   "metadata": {
    "collapsed": true
   },
   "outputs": [],
   "source": [
    "#hh_data = pd.read_csv(\"../Data/Intermediate_files/hh_village_coord_fcs.csv\")"
   ]
  },
  {
   "cell_type": "code",
   "execution_count": 319,
   "metadata": {
    "collapsed": true
   },
   "outputs": [],
   "source": [
    "hh_data = pd.read_csv(\"../Data/Intermediate_files/hh_data_2011_cluster_minHH.csv\")"
   ]
  },
  {
   "cell_type": "markdown",
   "metadata": {},
   "source": [
    "### Loading CNN features"
   ]
  },
  {
   "cell_type": "code",
   "execution_count": 320,
   "metadata": {
    "collapsed": true
   },
   "outputs": [],
   "source": [
    "#CNN_features = pd.read_csv(\"../Data/Intermediate_files/google_sat_CNN_features.csv\")"
   ]
  },
  {
   "cell_type": "code",
   "execution_count": 321,
   "metadata": {
    "collapsed": true
   },
   "outputs": [],
   "source": [
    "#CNN_features = pd.read_csv(\"../Data/Intermediate_files/google_sat_CNN_features_lsms.csv\")"
   ]
  },
  {
   "cell_type": "code",
   "execution_count": 322,
   "metadata": {
    "collapsed": false
   },
   "outputs": [],
   "source": [
    "#CNN_features = pd.read_csv(\"../Data/Intermediate_files/google_sat_CNN_features_lsms_VGG16_block4_pool.csv\")"
   ]
  },
  {
   "cell_type": "code",
   "execution_count": 323,
   "metadata": {
    "collapsed": true
   },
   "outputs": [],
   "source": [
    "#CNN_features = pd.read_csv(\"../Data/Intermediate_files/google_sat_CNN_features_lsms_VGGF_caffe_conv7_mean.csv\")"
   ]
  },
  {
   "cell_type": "code",
   "execution_count": 324,
   "metadata": {
    "collapsed": true
   },
   "outputs": [],
   "source": [
    "CNN_features = pd.read_csv(\"../Data/Intermediate_files/google_sat_CNN_features_lsms_VGGF_caffe_conv7_mean_100imagescluster.csv\")"
   ]
  },
  {
   "cell_type": "markdown",
   "metadata": {},
   "source": [
    "### Merging"
   ]
  },
  {
   "cell_type": "code",
   "execution_count": 325,
   "metadata": {
    "collapsed": true
   },
   "outputs": [],
   "source": [
    "data=hh_data.merge(CNN_features,on=[\"i\",\"j\"])"
   ]
  },
  {
   "cell_type": "code",
   "execution_count": 326,
   "metadata": {
    "collapsed": true
   },
   "outputs": [],
   "source": [
    "data = data.sample(frac=1, random_state=1783).reset_index(drop=True) #Shuffling the data"
   ]
  },
  {
   "cell_type": "code",
   "execution_count": 327,
   "metadata": {
    "collapsed": false
   },
   "outputs": [],
   "source": [
    "start_features=len(hh_data.columns)+2"
   ]
  },
  {
   "cell_type": "code",
   "execution_count": 328,
   "metadata": {
    "collapsed": true
   },
   "outputs": [],
   "source": [
    "data_features=data.iloc[:,start_features:]"
   ]
  },
  {
   "cell_type": "markdown",
   "metadata": {},
   "source": [
    "### Defining predictors and predicting variables"
   ]
  },
  {
   "cell_type": "code",
   "execution_count": 329,
   "metadata": {
    "collapsed": false
   },
   "outputs": [],
   "source": [
    "y = data[\"cons\"].values #Average normalized consumption per cluster\n",
    "y = y[y > 0]\n",
    "y = np.log(y) #Log-normal distribution"
   ]
  },
  {
   "cell_type": "code",
   "execution_count": 330,
   "metadata": {
    "collapsed": false
   },
   "outputs": [],
   "source": [
    "y2 = data[\"poor_majority\"] #Dummy variable for majority of poor in the cluster"
   ]
  },
  {
   "cell_type": "code",
   "execution_count": 331,
   "metadata": {
    "collapsed": true
   },
   "outputs": [],
   "source": [
    "X=data_features.values"
   ]
  },
  {
   "cell_type": "code",
   "execution_count": 332,
   "metadata": {
    "collapsed": false
   },
   "outputs": [
    {
     "data": {
      "text/plain": [
       "(309, 4096)"
      ]
     },
     "execution_count": 332,
     "metadata": {},
     "output_type": "execute_result"
    }
   ],
   "source": [
    "X.shape"
   ]
  },
  {
   "cell_type": "code",
   "execution_count": 333,
   "metadata": {
    "collapsed": false
   },
   "outputs": [
    {
     "data": {
      "text/plain": [
       "(309,)"
      ]
     },
     "execution_count": 333,
     "metadata": {},
     "output_type": "execute_result"
    }
   ],
   "source": [
    "y.shape"
   ]
  },
  {
   "cell_type": "code",
   "execution_count": 334,
   "metadata": {
    "collapsed": false
   },
   "outputs": [
    {
     "data": {
      "text/plain": [
       "(array([  3.,  14.,  47.,  85.,  70.,  35.,  28.,  20.,   5.,   2.]),\n",
       " array([-0.40340905, -0.02670821,  0.34999262,  0.72669345,  1.10339428,\n",
       "         1.48009511,  1.85679595,  2.23349678,  2.61019761,  2.98689844,\n",
       "         3.36359927]),\n",
       " <a list of 10 Patch objects>)"
      ]
     },
     "execution_count": 334,
     "metadata": {},
     "output_type": "execute_result"
    },
    {
     "data": {
      "image/png": "[encoded data removed]",
      "text/plain": [
       "<matplotlib.figure.Figure at 0x10eb0b710>"
      ]
     },
     "metadata": {},
     "output_type": "display_data"
    }
   ],
   "source": [
    "plt.hist(y)"
   ]
  },
  {
   "cell_type": "code",
   "execution_count": 335,
   "metadata": {
    "collapsed": false
   },
   "outputs": [
    {
     "data": {
      "text/html": [
       "<div>\n",
       "<style>\n",
       "    .dataframe thead tr:only-child th {\n",
       "        text-align: right;\n",
       "    }\n",
       "\n",
       "    .dataframe thead th {\n",
       "        text-align: left;\n",
       "    }\n",
       "\n",
       "    .dataframe tbody tr th {\n",
       "        vertical-align: top;\n",
       "    }\n",
       "</style>\n",
       "<table border=\"1\" class=\"dataframe\">\n",
       "  <thead>\n",
       "    <tr style=\"text-align: right;\">\n",
       "      <th></th>\n",
       "      <th>0</th>\n",
       "      <th>1</th>\n",
       "      <th>2</th>\n",
       "      <th>3</th>\n",
       "      <th>4</th>\n",
       "      <th>5</th>\n",
       "      <th>6</th>\n",
       "      <th>7</th>\n",
       "      <th>8</th>\n",
       "      <th>9</th>\n",
       "      <th>...</th>\n",
       "      <th>4086</th>\n",
       "      <th>4087</th>\n",
       "      <th>4088</th>\n",
       "      <th>4089</th>\n",
       "      <th>4090</th>\n",
       "      <th>4091</th>\n",
       "      <th>4092</th>\n",
       "      <th>4093</th>\n",
       "      <th>4094</th>\n",
       "      <th>4095</th>\n",
       "    </tr>\n",
       "  </thead>\n",
       "  <tbody>\n",
       "    <tr>\n",
       "      <th>0</th>\n",
       "      <td>0.431038</td>\n",
       "      <td>0.077483</td>\n",
       "      <td>0.092553</td>\n",
       "      <td>0.261941</td>\n",
       "      <td>0.363410</td>\n",
       "      <td>0.048217</td>\n",
       "      <td>0.380750</td>\n",
       "      <td>0.023896</td>\n",
       "      <td>0.356066</td>\n",
       "      <td>0.007566</td>\n",
       "      <td>...</td>\n",
       "      <td>0.053955</td>\n",
       "      <td>0.530246</td>\n",
       "      <td>0.000108</td>\n",
       "      <td>0.893542</td>\n",
       "      <td>0.122487</td>\n",
       "      <td>0.313626</td>\n",
       "      <td>0.102110</td>\n",
       "      <td>0.167905</td>\n",
       "      <td>0.272255</td>\n",
       "      <td>0.027515</td>\n",
       "    </tr>\n",
       "    <tr>\n",
       "      <th>1</th>\n",
       "      <td>0.428459</td>\n",
       "      <td>0.063750</td>\n",
       "      <td>0.089325</td>\n",
       "      <td>0.252737</td>\n",
       "      <td>0.419013</td>\n",
       "      <td>0.048156</td>\n",
       "      <td>0.385741</td>\n",
       "      <td>0.023259</td>\n",
       "      <td>0.315964</td>\n",
       "      <td>0.008038</td>\n",
       "      <td>...</td>\n",
       "      <td>0.030032</td>\n",
       "      <td>0.528919</td>\n",
       "      <td>0.001333</td>\n",
       "      <td>0.958313</td>\n",
       "      <td>0.161219</td>\n",
       "      <td>0.364889</td>\n",
       "      <td>0.127361</td>\n",
       "      <td>0.173445</td>\n",
       "      <td>0.252023</td>\n",
       "      <td>0.043384</td>\n",
       "    </tr>\n",
       "    <tr>\n",
       "      <th>2</th>\n",
       "      <td>0.385637</td>\n",
       "      <td>0.086354</td>\n",
       "      <td>0.120632</td>\n",
       "      <td>0.282507</td>\n",
       "      <td>0.445009</td>\n",
       "      <td>0.060340</td>\n",
       "      <td>0.520475</td>\n",
       "      <td>0.096587</td>\n",
       "      <td>0.366569</td>\n",
       "      <td>0.027334</td>\n",
       "      <td>...</td>\n",
       "      <td>0.085380</td>\n",
       "      <td>0.731123</td>\n",
       "      <td>0.002758</td>\n",
       "      <td>1.004187</td>\n",
       "      <td>0.188414</td>\n",
       "      <td>0.319978</td>\n",
       "      <td>0.085559</td>\n",
       "      <td>0.159509</td>\n",
       "      <td>0.308257</td>\n",
       "      <td>0.040254</td>\n",
       "    </tr>\n",
       "    <tr>\n",
       "      <th>3</th>\n",
       "      <td>0.353024</td>\n",
       "      <td>0.039933</td>\n",
       "      <td>0.009876</td>\n",
       "      <td>0.182106</td>\n",
       "      <td>0.407607</td>\n",
       "      <td>0.037106</td>\n",
       "      <td>0.432121</td>\n",
       "      <td>0.004294</td>\n",
       "      <td>0.104090</td>\n",
       "      <td>0.005595</td>\n",
       "      <td>...</td>\n",
       "      <td>0.016546</td>\n",
       "      <td>0.570199</td>\n",
       "      <td>0.000000</td>\n",
       "      <td>1.113124</td>\n",
       "      <td>0.152739</td>\n",
       "      <td>0.482899</td>\n",
       "      <td>0.049401</td>\n",
       "      <td>0.136552</td>\n",
       "      <td>0.152211</td>\n",
       "      <td>0.018855</td>\n",
       "    </tr>\n",
       "    <tr>\n",
       "      <th>4</th>\n",
       "      <td>0.327865</td>\n",
       "      <td>0.060838</td>\n",
       "      <td>0.028629</td>\n",
       "      <td>0.165845</td>\n",
       "      <td>0.335859</td>\n",
       "      <td>0.032065</td>\n",
       "      <td>0.372110</td>\n",
       "      <td>0.009725</td>\n",
       "      <td>0.125366</td>\n",
       "      <td>0.016100</td>\n",
       "      <td>...</td>\n",
       "      <td>0.023363</td>\n",
       "      <td>0.513886</td>\n",
       "      <td>0.000000</td>\n",
       "      <td>0.920871</td>\n",
       "      <td>0.179212</td>\n",
       "      <td>0.421113</td>\n",
       "      <td>0.077887</td>\n",
       "      <td>0.131257</td>\n",
       "      <td>0.144615</td>\n",
       "      <td>0.041710</td>\n",
       "    </tr>\n",
       "  </tbody>\n",
       "</table>\n",
       "<p>5 rows × 4096 columns</p>\n",
       "</div>"
      ],
      "text/plain": [
       "       0         1         2         3         4         5         6     \\\n",
       "0  0.431038  0.077483  0.092553  0.261941  0.363410  0.048217  0.380750   \n",
       "1  0.428459  0.063750  0.089325  0.252737  0.419013  0.048156  0.385741   \n",
       "2  0.385637  0.086354  0.120632  0.282507  0.445009  0.060340  0.520475   \n",
       "3  0.353024  0.039933  0.009876  0.182106  0.407607  0.037106  0.432121   \n",
       "4  0.327865  0.060838  0.028629  0.165845  0.335859  0.032065  0.372110   \n",
       "\n",
       "       7         8         9       ...         4086      4087      4088  \\\n",
       "0  0.023896  0.356066  0.007566    ...     0.053955  0.530246  0.000108   \n",
       "1  0.023259  0.315964  0.008038    ...     0.030032  0.528919  0.001333   \n",
       "2  0.096587  0.366569  0.027334    ...     0.085380  0.731123  0.002758   \n",
       "3  0.004294  0.104090  0.005595    ...     0.016546  0.570199  0.000000   \n",
       "4  0.009725  0.125366  0.016100    ...     0.023363  0.513886  0.000000   \n",
       "\n",
       "       4089      4090      4091      4092      4093      4094      4095  \n",
       "0  0.893542  0.122487  0.313626  0.102110  0.167905  0.272255  0.027515  \n",
       "1  0.958313  0.161219  0.364889  0.127361  0.173445  0.252023  0.043384  \n",
       "2  1.004187  0.188414  0.319978  0.085559  0.159509  0.308257  0.040254  \n",
       "3  1.113124  0.152739  0.482899  0.049401  0.136552  0.152211  0.018855  \n",
       "4  0.920871  0.179212  0.421113  0.077887  0.131257  0.144615  0.041710  \n",
       "\n",
       "[5 rows x 4096 columns]"
      ]
     },
     "execution_count": 335,
     "metadata": {},
     "output_type": "execute_result"
    }
   ],
   "source": [
    "pd.DataFrame(X).head()"
   ]
  },
  {
   "cell_type": "markdown",
   "metadata": {},
   "source": [
    "# 2. Predicting Continuous Indicator"
   ]
  },
  {
   "cell_type": "code",
   "execution_count": 336,
   "metadata": {
    "collapsed": true
   },
   "outputs": [],
   "source": [
    "model=Ridge()"
   ]
  },
  {
   "cell_type": "code",
   "execution_count": 337,
   "metadata": {
    "collapsed": true
   },
   "outputs": [],
   "source": [
    "inner_cv = KFold(n_splits=5, shuffle=True, random_state=1673)\n",
    "outer_cv = KFold(n_splits=5, shuffle=True, random_state=75788)"
   ]
  },
  {
   "cell_type": "code",
   "execution_count": 338,
   "metadata": {
    "collapsed": true
   },
   "outputs": [],
   "source": [
    "def r2_pearson(ground_truth, predictions):\n",
    "    r2_pearson=stats.pearsonr(ground_truth, predictions)[0] ** 2\n",
    "    return r2_pearson\n",
    "r2_pearson = make_scorer(r2_pearson, greater_is_better=True)"
   ]
  },
  {
   "cell_type": "code",
   "execution_count": 339,
   "metadata": {
    "collapsed": true
   },
   "outputs": [],
   "source": [
    "#Inner cross-validation loop\n",
    "clf = GridSearchCV(estimator=model, param_grid=dict(alpha=alphas), cv=inner_cv, scoring=r2_pearson)"
   ]
  },
  {
   "cell_type": "markdown",
   "metadata": {},
   "source": [
    "## From PCA Components"
   ]
  },
  {
   "cell_type": "code",
   "execution_count": 340,
   "metadata": {
    "collapsed": true
   },
   "outputs": [],
   "source": [
    "alphas = np.array([0.01,0.1,1,5,10,20,30,40,50])"
   ]
  },
  {
   "cell_type": "code",
   "execution_count": 341,
   "metadata": {
    "collapsed": false
   },
   "outputs": [],
   "source": [
    "pca = PCA(n_components=10)"
   ]
  },
  {
   "cell_type": "code",
   "execution_count": 342,
   "metadata": {
    "collapsed": false
   },
   "outputs": [
    {
     "data": {
      "text/plain": [
       "PCA(copy=True, iterated_power='auto', n_components=10, random_state=None,\n",
       "  svd_solver='auto', tol=0.0, whiten=False)"
      ]
     },
     "execution_count": 342,
     "metadata": {},
     "output_type": "execute_result"
    }
   ],
   "source": [
    "pca.fit(data_features.transpose())"
   ]
  },
  {
   "cell_type": "code",
   "execution_count": 343,
   "metadata": {
    "collapsed": true
   },
   "outputs": [],
   "source": [
    "eigenvectors=pca.components_"
   ]
  },
  {
   "cell_type": "code",
   "execution_count": 344,
   "metadata": {
    "collapsed": false
   },
   "outputs": [
    {
     "data": {
      "text/plain": [
       "(309, 10)"
      ]
     },
     "execution_count": 344,
     "metadata": {},
     "output_type": "execute_result"
    }
   ],
   "source": [
    "X2 = pd.DataFrame(np.transpose(eigenvectors))\n",
    "X2.shape"
   ]
  },
  {
   "cell_type": "code",
   "execution_count": 345,
   "metadata": {
    "collapsed": false
   },
   "outputs": [
    {
     "data": {
      "image/png": "[encoded data removed]",
      "text/plain": [
       "<matplotlib.figure.Figure at 0x10ee8a910>"
      ]
     },
     "metadata": {},
     "output_type": "display_data"
    },
    {
     "data": {
      "image/png": "[encoded data removed]",
      "text/plain": [
       "<matplotlib.figure.Figure at 0x10ee831d0>"
      ]
     },
     "metadata": {},
     "output_type": "display_data"
    }
   ],
   "source": [
    "for i in range(2):\n",
    "    plt.figure()\n",
    "    plt.scatter(y, eigenvectors[i],  color='black')"
   ]
  },
  {
   "cell_type": "code",
   "execution_count": 346,
   "metadata": {
    "collapsed": false
   },
   "outputs": [
    {
     "name": "stdout",
     "output_type": "stream",
     "text": [
      "r2 (pearson): 0.44 (+/- 0.07)\n"
     ]
    }
   ],
   "source": [
    "# Outer Loop with r2 (Pearson)\n",
    "r2 = cross_val_score(clf, X, y, cv=outer_cv ,scoring=r2_pearson)\n",
    "print(\"r2 (pearson): %0.2f (+/- %0.2f)\" % (r2.mean(), r2.std() * 2)) "
   ]
  },
  {
   "cell_type": "code",
   "execution_count": 347,
   "metadata": {
    "collapsed": false
   },
   "outputs": [
    {
     "name": "stdout",
     "output_type": "stream",
     "text": [
      "R2: 0.42 (+/- 0.08)\n"
     ]
    }
   ],
   "source": [
    "# Outer Loop with R2\n",
    "r2 = cross_val_score(clf, X, y, cv=outer_cv ,scoring='r2')\n",
    "print(\"R2: %0.2f (+/- %0.2f)\" % (r2.mean(), r2.std() * 2))"
   ]
  },
  {
   "cell_type": "code",
   "execution_count": 348,
   "metadata": {
    "collapsed": false
   },
   "outputs": [
    {
     "data": {
      "image/png": "[encoded data removed]",
      "text/plain": [
       "<matplotlib.figure.Figure at 0x10dca2590>"
      ]
     },
     "metadata": {},
     "output_type": "display_data"
    }
   ],
   "source": [
    "y_hat = cross_val_predict(clf, X2, y, cv=outer_cv)\n",
    "fig, ax = plt.subplots()\n",
    "ax.scatter(y, y_hat, edgecolors=(0, 0, 0))\n",
    "ax.plot([y.min(), y.max()], [y.min(), y.max()], 'k--')\n",
    "ax.set_xlabel('Log consumption expenditures')\n",
    "ax.set_ylabel('Model predictions')\n",
    "plt.show()"
   ]
  },
  {
   "cell_type": "markdown",
   "metadata": {},
   "source": [
    "## From all (4096) features"
   ]
  },
  {
   "cell_type": "code",
   "execution_count": 349,
   "metadata": {
    "collapsed": true
   },
   "outputs": [],
   "source": [
    "alphas = np.array([1,5,10,20,30,40,50])"
   ]
  },
  {
   "cell_type": "code",
   "execution_count": 350,
   "metadata": {
    "collapsed": false
   },
   "outputs": [
    {
     "name": "stdout",
     "output_type": "stream",
     "text": [
      "r2 (pearson): 0.44 (+/- 0.07)\n"
     ]
    }
   ],
   "source": [
    "# Outer Loop with r2 (Pearson)\n",
    "r2 = cross_val_score(clf, X, y, cv=outer_cv ,scoring=r2_pearson)\n",
    "print(\"r2 (pearson): %0.2f (+/- %0.2f)\" % (r2.mean(), r2.std() * 2))"
   ]
  },
  {
   "cell_type": "code",
   "execution_count": 351,
   "metadata": {
    "collapsed": false
   },
   "outputs": [
    {
     "data": {
      "text/plain": [
       "array([ 0.41252763,  0.43675519,  0.38383315,  0.48026134,  0.47227525])"
      ]
     },
     "execution_count": 351,
     "metadata": {},
     "output_type": "execute_result"
    }
   ],
   "source": [
    "r2"
   ]
  },
  {
   "cell_type": "code",
   "execution_count": 352,
   "metadata": {
    "collapsed": false
   },
   "outputs": [
    {
     "name": "stdout",
     "output_type": "stream",
     "text": [
      "R2: 0.42 (+/- 0.08)\n"
     ]
    }
   ],
   "source": [
    "# Outer Loop with R2\n",
    "R2 = cross_val_score(clf, X, y, cv=outer_cv ,scoring='r2')\n",
    "print(\"R2: %0.2f (+/- %0.2f)\" % (R2.mean(), R2.std() * 2))"
   ]
  },
  {
   "cell_type": "code",
   "execution_count": 353,
   "metadata": {
    "collapsed": false
   },
   "outputs": [
    {
     "data": {
      "text/plain": [
       "array([ 0.40299439,  0.41051703,  0.3582438 ,  0.46818944,  0.46583258])"
      ]
     },
     "execution_count": 353,
     "metadata": {},
     "output_type": "execute_result"
    }
   ],
   "source": [
    "R2"
   ]
  },
  {
   "cell_type": "code",
   "execution_count": 354,
   "metadata": {
    "collapsed": false
   },
   "outputs": [
    {
     "name": "stdout",
     "output_type": "stream",
     "text": [
      "neg_mean_squared_error: 0.23 (+/- 0.10)\n"
     ]
    }
   ],
   "source": [
    "neg_mean_squared_error = cross_val_score(clf, X, y, cv=outer_cv,scoring='neg_mean_squared_error')\n",
    "print(\"neg_mean_squared_error: %0.2f (+/- %0.2f)\" % (-neg_mean_squared_error.mean(), neg_mean_squared_error.std() * 2)) "
   ]
  },
  {
   "cell_type": "code",
   "execution_count": 355,
   "metadata": {
    "collapsed": false
   },
   "outputs": [
    {
     "data": {
      "text/plain": [
       "array([ 0.24690297,  0.31071898,  0.23947061,  0.20027002,  0.16744521])"
      ]
     },
     "execution_count": 355,
     "metadata": {},
     "output_type": "execute_result"
    }
   ],
   "source": [
    "-neg_mean_squared_error"
   ]
  },
  {
   "cell_type": "code",
   "execution_count": 356,
   "metadata": {
    "collapsed": false
   },
   "outputs": [
    {
     "data": {
      "image/png": "[encoded data removed]",
      "text/plain": [
       "<matplotlib.figure.Figure at 0x1105cea90>"
      ]
     },
     "metadata": {},
     "output_type": "display_data"
    }
   ],
   "source": [
    "y_hat = cross_val_predict(clf, X, y, cv=outer_cv)\n",
    "fig, ax = plt.subplots()\n",
    "ax.scatter(y, y_hat, edgecolors=(0, 0, 0))\n",
    "ax.plot([y.min(), y.max()], [y.min(), y.max()], 'k--')\n",
    "ax.set_xlabel('Log consumption expenditures')\n",
    "ax.set_ylabel('Model predictions')\n",
    "plt.show()"
   ]
  },
  {
   "cell_type": "code",
   "execution_count": 357,
   "metadata": {
    "collapsed": false
   },
   "outputs": [
    {
     "data": {
      "text/plain": [
       "0.42608753076829609"
      ]
     },
     "execution_count": 357,
     "metadata": {},
     "output_type": "execute_result"
    }
   ],
   "source": [
    "r2_score(y,y_hat)"
   ]
  },
  {
   "cell_type": "code",
   "execution_count": 358,
   "metadata": {
    "collapsed": false
   },
   "outputs": [
    {
     "data": {
      "text/plain": [
       "0.42620539453641487"
      ]
     },
     "execution_count": 358,
     "metadata": {},
     "output_type": "execute_result"
    }
   ],
   "source": [
    "stats.pearsonr(y,y_hat)[0] ** 2"
   ]
  },
  {
   "cell_type": "markdown",
   "metadata": {},
   "source": [
    "# 3. Predicting Dummy Indicator from all features"
   ]
  },
  {
   "cell_type": "code",
   "execution_count": 359,
   "metadata": {
    "collapsed": false
   },
   "outputs": [
    {
     "data": {
      "text/plain": [
       "LogisticRegression(C=1.0, class_weight=None, dual=False, fit_intercept=True,\n",
       "          intercept_scaling=1, max_iter=100, multi_class='ovr', n_jobs=1,\n",
       "          penalty='l2', random_state=None, solver='liblinear', tol=0.0001,\n",
       "          verbose=0, warm_start=False)"
      ]
     },
     "execution_count": 359,
     "metadata": {},
     "output_type": "execute_result"
    }
   ],
   "source": [
    "model = linear_model.LogisticRegression(penalty=\"l2\")\n",
    "model.fit(X, y2) "
   ]
  },
  {
   "cell_type": "code",
   "execution_count": 360,
   "metadata": {
    "collapsed": true
   },
   "outputs": [],
   "source": [
    "cv = KFold(n_splits=10, shuffle=True, random_state=167)"
   ]
  },
  {
   "cell_type": "code",
   "execution_count": 361,
   "metadata": {
    "collapsed": false
   },
   "outputs": [],
   "source": [
    "accuracy = cross_val_score(model, X, y2, cv=cv)\n",
    "f1 = cross_val_score(model, X, y2, cv=cv,scoring='f1')\n",
    "precision = cross_val_score(model, X, y2, cv=cv,scoring='precision')\n",
    "recall= cross_val_score(model, X, y2, cv=cv,scoring='recall')\n",
    "auc= cross_val_score(model, X, y2, cv=cv,scoring='roc_auc')\n",
    "confusion= cross_val_score(model, X, y2, cv=cv,scoring='roc_auc')"
   ]
  },
  {
   "cell_type": "code",
   "execution_count": 362,
   "metadata": {
    "collapsed": false
   },
   "outputs": [
    {
     "name": "stdout",
     "output_type": "stream",
     "text": [
      "Accuracy: 0.79 (+/- 0.12)\n",
      "F1: 0.47 (+/- 0.22)\n",
      "Precision: 0.68 (+/- 0.34)\n",
      "Recall: 0.38 (+/- 0.25)\n",
      "AUC: 0.80 (+/- 0.14)\n"
     ]
    }
   ],
   "source": [
    "scores = cross_val_score(model, X, y2, cv=10,scoring='precision')\n",
    "accuracy_print=(\"Accuracy: %0.2f (+/- %0.2f)\" % (accuracy.mean(), accuracy.std() * 2))\n",
    "f1_print=(\"F1: %0.2f (+/- %0.2f)\" % (f1.mean(), f1.std() * 2))\n",
    "precision_print=(\"Precision: %0.2f (+/- %0.2f)\" % (precision.mean(), precision.std() * 2))\n",
    "recall_print=(\"Recall: %0.2f (+/- %0.2f)\" % (recall.mean(), recall.std() * 2))\n",
    "auc_print=(\"AUC: %0.2f (+/- %0.2f)\" % (auc.mean(), auc.std() * 2))\n",
    "print(os.linesep.join([accuracy_print,f1_print,precision_print,recall_print,auc_print]))"
   ]
  },
  {
   "cell_type": "code",
   "execution_count": 363,
   "metadata": {
    "collapsed": false
   },
   "outputs": [
    {
     "data": {
      "text/plain": [
       "count    309.000000\n",
       "mean       0.258900\n",
       "std        0.438741\n",
       "min        0.000000\n",
       "25%        0.000000\n",
       "50%        0.000000\n",
       "75%        1.000000\n",
       "max        1.000000\n",
       "Name: poor_majority, dtype: float64"
      ]
     },
     "execution_count": 363,
     "metadata": {},
     "output_type": "execute_result"
    }
   ],
   "source": [
    "y2.describe()"
   ]
  }
 ],
 "metadata": {
  "kernelspec": {
   "display_name": "Python 2",
   "language": "python",
   "name": "python2"
  },
  "language_info": {
   "codemirror_mode": {
    "name": "ipython",
    "version": 2
   },
   "file_extension": ".py",
   "mimetype": "text/x-python",
   "name": "python",
   "nbconvert_exporter": "python",
   "pygments_lexer": "ipython2",
   "version": "2.7.13"
  }
 },
 "nbformat": 4,
 "nbformat_minor": 1
}
