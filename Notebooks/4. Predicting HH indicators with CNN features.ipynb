{
 "cells": [
  {
   "cell_type": "code",
   "execution_count": 3,
   "metadata": {},
   "outputs": [
    {
     "name": "stderr",
     "output_type": "stream",
     "text": [
      "/Users/pasquierjb/anaconda3/envs/hrm/lib/python3.5/site-packages/statsmodels/compat/pandas.py:56: FutureWarning: The pandas.core.datetools module is deprecated and will be removed in a future version. Please use the pandas.tseries module instead.\n",
      "  from pandas.core import datetools\n"
     ]
    }
   ],
   "source": [
    "import os\n",
    "import pandas as pd \n",
    "import numpy as np\n",
    "\n",
    "import statsmodels.api as sm\n",
    "from itertools import cycle\n",
    "from sklearn.linear_model import LinearRegression\n",
    "from sklearn.decomposition import PCA\n",
    "from sklearn.linear_model import Ridge\n",
    "from sklearn import linear_model\n",
    "from sklearn import metrics\n",
    "from sklearn.model_selection import GridSearchCV, cross_val_score, cross_val_predict, KFold, train_test_split\n",
    "from sklearn.metrics import r2_score, make_scorer\n",
    "from scipy import stats\n",
    "import matplotlib.pyplot as plt\n",
    "%matplotlib inline "
   ]
  },
  {
   "cell_type": "markdown",
   "metadata": {},
   "source": [
    "# Load configurations"
   ]
  },
  {
   "cell_type": "code",
   "execution_count": 4,
   "metadata": {},
   "outputs": [
    {
     "data": {
      "text/plain": [
       "{'dataset': {'country': 'Uganda',\n",
       "  'filename': 'WB_Uganda_2011_cluster.csv',\n",
       "  'level': 'cluster',\n",
       "  'month': 1,\n",
       "  'source': 'WB',\n",
       "  'year': 2011},\n",
       " 'network': {'layer': 'AvgPool', 'model': 'ResNet50'},\n",
       " 'satellite': {'grid': 'F182013.v4c_web.stable_lights.avg_vis.tif',\n",
       "  'source': 'Google',\n",
       "  'step': 0}}"
      ]
     },
     "execution_count": 4,
     "metadata": {},
     "output_type": "execute_result"
    }
   ],
   "source": [
    "import yaml\n",
    "\n",
    "with open('../public_config.yml', 'r') as cfgfile:\n",
    "    public_config = yaml.load(cfgfile)\n",
    "\n",
    "public_config"
   ]
  },
  {
   "cell_type": "markdown",
   "metadata": {},
   "source": [
    "# 1. Preparing Data"
   ]
  },
  {
   "cell_type": "markdown",
   "metadata": {},
   "source": [
    "### Loading HH Data"
   ]
  },
  {
   "cell_type": "code",
   "execution_count": 5,
   "metadata": {
    "collapsed": true
   },
   "outputs": [],
   "source": [
    "#hh_data = pd.read_csv(\"../Data/Datasets/{}\".format(public_config[\"dataset\"][\"filename\"]))"
   ]
  },
  {
   "cell_type": "code",
   "execution_count": 6,
   "metadata": {
    "collapsed": true
   },
   "outputs": [],
   "source": [
    "hh_data = pd.read_csv(\"../Data/Satellite/Sentinel/vam_uganda_karamoja_2016_maxNDVI_1km.csv\")"
   ]
  },
  {
   "cell_type": "code",
   "execution_count": 7,
   "metadata": {},
   "outputs": [
    {
     "data": {
      "text/html": [
       "<div>\n",
       "<style>\n",
       "    .dataframe thead tr:only-child th {\n",
       "        text-align: right;\n",
       "    }\n",
       "\n",
       "    .dataframe thead th {\n",
       "        text-align: left;\n",
       "    }\n",
       "\n",
       "    .dataframe tbody tr th {\n",
       "        vertical-align: top;\n",
       "    }\n",
       "</style>\n",
       "<table border=\"1\" class=\"dataframe\">\n",
       "  <thead>\n",
       "    <tr style=\"text-align: right;\">\n",
       "      <th></th>\n",
       "      <th>index</th>\n",
       "      <th>village</th>\n",
       "      <th>Latitude</th>\n",
       "      <th>Longitude</th>\n",
       "      <th>asset_score</th>\n",
       "      <th>FCS</th>\n",
       "      <th>n</th>\n",
       "      <th>i</th>\n",
       "      <th>j</th>\n",
       "      <th>mean_maxNDVI_2016_1km</th>\n",
       "    </tr>\n",
       "  </thead>\n",
       "  <tbody>\n",
       "    <tr>\n",
       "      <th>0</th>\n",
       "      <td>0</td>\n",
       "      <td>Abim East</td>\n",
       "      <td>2.708589</td>\n",
       "      <td>33.665483</td>\n",
       "      <td>3.100000</td>\n",
       "      <td>44.050000</td>\n",
       "      <td>10</td>\n",
       "      <td>25640</td>\n",
       "      <td>8675</td>\n",
       "      <td>0.656347</td>\n",
       "    </tr>\n",
       "    <tr>\n",
       "      <th>1</th>\n",
       "      <td>1</td>\n",
       "      <td>Acan Penino</td>\n",
       "      <td>2.848594</td>\n",
       "      <td>33.694574</td>\n",
       "      <td>2.111111</td>\n",
       "      <td>35.750000</td>\n",
       "      <td>18</td>\n",
       "      <td>25643</td>\n",
       "      <td>8658</td>\n",
       "      <td>0.689287</td>\n",
       "    </tr>\n",
       "    <tr>\n",
       "      <th>2</th>\n",
       "      <td>2</td>\n",
       "      <td>Acek Abuk</td>\n",
       "      <td>2.746334</td>\n",
       "      <td>33.673905</td>\n",
       "      <td>2.000000</td>\n",
       "      <td>41.111111</td>\n",
       "      <td>9</td>\n",
       "      <td>25641</td>\n",
       "      <td>8670</td>\n",
       "      <td>0.670488</td>\n",
       "    </tr>\n",
       "    <tr>\n",
       "      <th>3</th>\n",
       "      <td>4</td>\n",
       "      <td>Adipala</td>\n",
       "      <td>2.450002</td>\n",
       "      <td>34.322738</td>\n",
       "      <td>0.300000</td>\n",
       "      <td>26.525000</td>\n",
       "      <td>20</td>\n",
       "      <td>25719</td>\n",
       "      <td>8706</td>\n",
       "      <td>0.418286</td>\n",
       "    </tr>\n",
       "    <tr>\n",
       "      <th>4</th>\n",
       "      <td>5</td>\n",
       "      <td>Agule</td>\n",
       "      <td>2.493331</td>\n",
       "      <td>33.897964</td>\n",
       "      <td>1.947368</td>\n",
       "      <td>22.842105</td>\n",
       "      <td>19</td>\n",
       "      <td>25668</td>\n",
       "      <td>8701</td>\n",
       "      <td>0.567810</td>\n",
       "    </tr>\n",
       "  </tbody>\n",
       "</table>\n",
       "</div>"
      ],
      "text/plain": [
       "   index      village  Latitude  Longitude  asset_score        FCS   n      i  \\\n",
       "0      0    Abim East  2.708589  33.665483     3.100000  44.050000  10  25640   \n",
       "1      1  Acan Penino  2.848594  33.694574     2.111111  35.750000  18  25643   \n",
       "2      2    Acek Abuk  2.746334  33.673905     2.000000  41.111111   9  25641   \n",
       "3      4      Adipala  2.450002  34.322738     0.300000  26.525000  20  25719   \n",
       "4      5        Agule  2.493331  33.897964     1.947368  22.842105  19  25668   \n",
       "\n",
       "      j  mean_maxNDVI_2016_1km  \n",
       "0  8675               0.656347  \n",
       "1  8658               0.689287  \n",
       "2  8670               0.670488  \n",
       "3  8706               0.418286  \n",
       "4  8701               0.567810  "
      ]
     },
     "execution_count": 7,
     "metadata": {},
     "output_type": "execute_result"
    }
   ],
   "source": [
    "hh_data.head()"
   ]
  },
  {
   "cell_type": "code",
   "execution_count": 8,
   "metadata": {},
   "outputs": [
    {
     "data": {
      "text/plain": [
       "0.03051340407722063"
      ]
     },
     "execution_count": 8,
     "metadata": {},
     "output_type": "execute_result"
    }
   ],
   "source": [
    "hh_data[\"mean_maxNDVI_2016_1km\"].corr(hh_data[\"FCS\"])"
   ]
  },
  {
   "cell_type": "markdown",
   "metadata": {},
   "source": [
    "### Loading CNN features"
   ]
  },
  {
   "cell_type": "code",
   "execution_count": 9,
   "metadata": {
    "collapsed": true
   },
   "outputs": [],
   "source": [
    "CNN_features = pd.read_csv(\"../Data/Features/{}_{}_{}_{}.csv\".format(public_config[\"dataset\"][\"source\"], \\\n",
    "                                                       public_config[\"dataset\"][\"country\"], \\\n",
    "                                                       public_config[\"network\"][\"model\"], \\\n",
    "                                                       public_config[\"network\"][\"layer\"]))"
   ]
  },
  {
   "cell_type": "code",
   "execution_count": 10,
   "metadata": {
    "collapsed": true
   },
   "outputs": [],
   "source": [
    "file=\"/Users/pasquierjb/Google Drive/WFP_Shared/Projects/Back_ups /HRM_backup/Data/Intermediate_files/bing_sat_CNN_features_vam_ResNet_tf_last.csv\"\n",
    "CNN_features = pd.read_csv(file)"
   ]
  },
  {
   "cell_type": "markdown",
   "metadata": {},
   "source": [
    "### Loading Additional Features"
   ]
  },
  {
   "cell_type": "code",
   "execution_count": 11,
   "metadata": {
    "collapsed": true
   },
   "outputs": [],
   "source": [
    "#NDVI = pd.read_csv(\""
   ]
  },
  {
   "cell_type": "markdown",
   "metadata": {},
   "source": [
    "### Merging"
   ]
  },
  {
   "cell_type": "code",
   "execution_count": 12,
   "metadata": {
    "collapsed": true
   },
   "outputs": [],
   "source": [
    "data=hh_data.merge(CNN_features,on=[\"i\",\"j\"])"
   ]
  },
  {
   "cell_type": "code",
   "execution_count": 13,
   "metadata": {
    "collapsed": true
   },
   "outputs": [],
   "source": [
    "data = data.sample(frac=1, random_state=1783).reset_index(drop=True) #Shuffling the data"
   ]
  },
  {
   "cell_type": "code",
   "execution_count": 14,
   "metadata": {
    "collapsed": true
   },
   "outputs": [],
   "source": [
    "start_features=len(hh_data.columns)+2"
   ]
  },
  {
   "cell_type": "code",
   "execution_count": 15,
   "metadata": {
    "collapsed": true
   },
   "outputs": [],
   "source": [
    "data_features=data.iloc[:,start_features:]"
   ]
  },
  {
   "cell_type": "code",
   "execution_count": 16,
   "metadata": {},
   "outputs": [
    {
     "data": {
      "text/html": [
       "<div>\n",
       "<style>\n",
       "    .dataframe thead tr:only-child th {\n",
       "        text-align: right;\n",
       "    }\n",
       "\n",
       "    .dataframe thead th {\n",
       "        text-align: left;\n",
       "    }\n",
       "\n",
       "    .dataframe tbody tr th {\n",
       "        vertical-align: top;\n",
       "    }\n",
       "</style>\n",
       "<table border=\"1\" class=\"dataframe\">\n",
       "  <thead>\n",
       "    <tr style=\"text-align: right;\">\n",
       "      <th></th>\n",
       "      <th>0</th>\n",
       "      <th>1</th>\n",
       "      <th>2</th>\n",
       "      <th>3</th>\n",
       "      <th>4</th>\n",
       "      <th>5</th>\n",
       "      <th>6</th>\n",
       "      <th>7</th>\n",
       "      <th>8</th>\n",
       "      <th>9</th>\n",
       "      <th>...</th>\n",
       "      <th>2038</th>\n",
       "      <th>2039</th>\n",
       "      <th>2040</th>\n",
       "      <th>2041</th>\n",
       "      <th>2042</th>\n",
       "      <th>2043</th>\n",
       "      <th>2044</th>\n",
       "      <th>2045</th>\n",
       "      <th>2046</th>\n",
       "      <th>2047</th>\n",
       "    </tr>\n",
       "  </thead>\n",
       "  <tbody>\n",
       "    <tr>\n",
       "      <th>0</th>\n",
       "      <td>0.851058</td>\n",
       "      <td>0.534559</td>\n",
       "      <td>0.168120</td>\n",
       "      <td>0.011578</td>\n",
       "      <td>0.046766</td>\n",
       "      <td>0.081729</td>\n",
       "      <td>0.149118</td>\n",
       "      <td>0.001147</td>\n",
       "      <td>0.005397</td>\n",
       "      <td>0.002196</td>\n",
       "      <td>...</td>\n",
       "      <td>0.000000</td>\n",
       "      <td>0.000000</td>\n",
       "      <td>0.108957</td>\n",
       "      <td>0.002891</td>\n",
       "      <td>0.064581</td>\n",
       "      <td>1.130369</td>\n",
       "      <td>0.036919</td>\n",
       "      <td>0.477293</td>\n",
       "      <td>0.254624</td>\n",
       "      <td>0.035668</td>\n",
       "    </tr>\n",
       "    <tr>\n",
       "      <th>1</th>\n",
       "      <td>0.273183</td>\n",
       "      <td>0.377056</td>\n",
       "      <td>0.032655</td>\n",
       "      <td>0.953597</td>\n",
       "      <td>0.006501</td>\n",
       "      <td>0.000000</td>\n",
       "      <td>0.000000</td>\n",
       "      <td>0.083926</td>\n",
       "      <td>0.000000</td>\n",
       "      <td>0.002928</td>\n",
       "      <td>...</td>\n",
       "      <td>0.000000</td>\n",
       "      <td>0.000000</td>\n",
       "      <td>0.000000</td>\n",
       "      <td>0.048215</td>\n",
       "      <td>0.006943</td>\n",
       "      <td>0.050562</td>\n",
       "      <td>0.011586</td>\n",
       "      <td>2.898155</td>\n",
       "      <td>0.025612</td>\n",
       "      <td>0.115990</td>\n",
       "    </tr>\n",
       "    <tr>\n",
       "      <th>2</th>\n",
       "      <td>0.773727</td>\n",
       "      <td>0.499619</td>\n",
       "      <td>0.482391</td>\n",
       "      <td>0.224194</td>\n",
       "      <td>0.166067</td>\n",
       "      <td>0.000000</td>\n",
       "      <td>0.021172</td>\n",
       "      <td>0.010604</td>\n",
       "      <td>0.000000</td>\n",
       "      <td>0.024432</td>\n",
       "      <td>...</td>\n",
       "      <td>0.000725</td>\n",
       "      <td>0.000000</td>\n",
       "      <td>0.000599</td>\n",
       "      <td>0.000000</td>\n",
       "      <td>0.000000</td>\n",
       "      <td>0.356096</td>\n",
       "      <td>0.003666</td>\n",
       "      <td>0.523456</td>\n",
       "      <td>0.066297</td>\n",
       "      <td>0.165208</td>\n",
       "    </tr>\n",
       "    <tr>\n",
       "      <th>3</th>\n",
       "      <td>0.258952</td>\n",
       "      <td>1.006318</td>\n",
       "      <td>0.348424</td>\n",
       "      <td>0.067091</td>\n",
       "      <td>0.014995</td>\n",
       "      <td>0.036087</td>\n",
       "      <td>0.003191</td>\n",
       "      <td>0.032351</td>\n",
       "      <td>0.000000</td>\n",
       "      <td>0.000000</td>\n",
       "      <td>...</td>\n",
       "      <td>0.035567</td>\n",
       "      <td>0.003120</td>\n",
       "      <td>0.024583</td>\n",
       "      <td>0.071973</td>\n",
       "      <td>0.082299</td>\n",
       "      <td>0.820550</td>\n",
       "      <td>0.022809</td>\n",
       "      <td>0.810718</td>\n",
       "      <td>0.054079</td>\n",
       "      <td>0.287897</td>\n",
       "    </tr>\n",
       "    <tr>\n",
       "      <th>4</th>\n",
       "      <td>0.834517</td>\n",
       "      <td>0.532984</td>\n",
       "      <td>0.098913</td>\n",
       "      <td>0.043069</td>\n",
       "      <td>0.082437</td>\n",
       "      <td>0.000629</td>\n",
       "      <td>0.134732</td>\n",
       "      <td>0.024592</td>\n",
       "      <td>0.000000</td>\n",
       "      <td>0.000000</td>\n",
       "      <td>...</td>\n",
       "      <td>0.000000</td>\n",
       "      <td>0.009285</td>\n",
       "      <td>0.018177</td>\n",
       "      <td>0.000000</td>\n",
       "      <td>0.160182</td>\n",
       "      <td>0.683553</td>\n",
       "      <td>0.001051</td>\n",
       "      <td>0.340110</td>\n",
       "      <td>0.153021</td>\n",
       "      <td>0.045013</td>\n",
       "    </tr>\n",
       "  </tbody>\n",
       "</table>\n",
       "<p>5 rows × 2048 columns</p>\n",
       "</div>"
      ],
      "text/plain": [
       "          0         1         2         3         4         5         6  \\\n",
       "0  0.851058  0.534559  0.168120  0.011578  0.046766  0.081729  0.149118   \n",
       "1  0.273183  0.377056  0.032655  0.953597  0.006501  0.000000  0.000000   \n",
       "2  0.773727  0.499619  0.482391  0.224194  0.166067  0.000000  0.021172   \n",
       "3  0.258952  1.006318  0.348424  0.067091  0.014995  0.036087  0.003191   \n",
       "4  0.834517  0.532984  0.098913  0.043069  0.082437  0.000629  0.134732   \n",
       "\n",
       "          7         8         9    ...         2038      2039      2040  \\\n",
       "0  0.001147  0.005397  0.002196    ...     0.000000  0.000000  0.108957   \n",
       "1  0.083926  0.000000  0.002928    ...     0.000000  0.000000  0.000000   \n",
       "2  0.010604  0.000000  0.024432    ...     0.000725  0.000000  0.000599   \n",
       "3  0.032351  0.000000  0.000000    ...     0.035567  0.003120  0.024583   \n",
       "4  0.024592  0.000000  0.000000    ...     0.000000  0.009285  0.018177   \n",
       "\n",
       "       2041      2042      2043      2044      2045      2046      2047  \n",
       "0  0.002891  0.064581  1.130369  0.036919  0.477293  0.254624  0.035668  \n",
       "1  0.048215  0.006943  0.050562  0.011586  2.898155  0.025612  0.115990  \n",
       "2  0.000000  0.000000  0.356096  0.003666  0.523456  0.066297  0.165208  \n",
       "3  0.071973  0.082299  0.820550  0.022809  0.810718  0.054079  0.287897  \n",
       "4  0.000000  0.160182  0.683553  0.001051  0.340110  0.153021  0.045013  \n",
       "\n",
       "[5 rows x 2048 columns]"
      ]
     },
     "execution_count": 16,
     "metadata": {},
     "output_type": "execute_result"
    }
   ],
   "source": [
    "data_features.head()"
   ]
  },
  {
   "cell_type": "markdown",
   "metadata": {},
   "source": [
    "### Defining predictors and predicting variables"
   ]
  },
  {
   "cell_type": "code",
   "execution_count": 17,
   "metadata": {
    "collapsed": true
   },
   "outputs": [],
   "source": [
    "y = data[\"FCS\"].values #Average normalized consumption per cluster\n",
    "#y = y[y > 0]\n",
    "#y = np.log(y) #Log-normal distribution"
   ]
  },
  {
   "cell_type": "code",
   "execution_count": 18,
   "metadata": {
    "collapsed": true
   },
   "outputs": [],
   "source": [
    "#y2 = data[\"poor_majority\"] #Dummy variable for majority of poor in the cluster"
   ]
  },
  {
   "cell_type": "code",
   "execution_count": 19,
   "metadata": {
    "collapsed": true
   },
   "outputs": [],
   "source": [
    "X=data_features.values"
   ]
  },
  {
   "cell_type": "code",
   "execution_count": 291,
   "metadata": {
    "collapsed": true
   },
   "outputs": [],
   "source": [
    "NDVI=data[\"mean_maxNDVI_2016_1km\"].values\n",
    "#NDVI=data[\"mean_meanNDVI_2016_1km\"].values"
   ]
  },
  {
   "cell_type": "code",
   "execution_count": 292,
   "metadata": {
    "collapsed": true
   },
   "outputs": [],
   "source": [
    "X_NDVI=pd.concat([pd.DataFrame(X),pd.DataFrame(NDVI)],axis=1).values"
   ]
  },
  {
   "cell_type": "code",
   "execution_count": 293,
   "metadata": {},
   "outputs": [
    {
     "data": {
      "text/plain": [
       "(224, 2049)"
      ]
     },
     "execution_count": 293,
     "metadata": {},
     "output_type": "execute_result"
    }
   ],
   "source": [
    "X_NDVI.shape"
   ]
  },
  {
   "cell_type": "code",
   "execution_count": 294,
   "metadata": {},
   "outputs": [
    {
     "data": {
      "text/plain": [
       "(224, 2048)"
      ]
     },
     "execution_count": 294,
     "metadata": {},
     "output_type": "execute_result"
    }
   ],
   "source": [
    "X.shape"
   ]
  },
  {
   "cell_type": "code",
   "execution_count": 295,
   "metadata": {},
   "outputs": [
    {
     "data": {
      "text/plain": [
       "(224,)"
      ]
     },
     "execution_count": 295,
     "metadata": {},
     "output_type": "execute_result"
    }
   ],
   "source": [
    "y.shape"
   ]
  },
  {
   "cell_type": "code",
   "execution_count": 296,
   "metadata": {},
   "outputs": [
    {
     "data": {
      "text/plain": [
       "(array([ 10.,  33.,  55.,  49.,  32.,  27.,   7.,   5.,   4.,   2.]),\n",
       " array([ 16.88888889,  22.91666667,  28.94444445,  34.97222222,\n",
       "         41.        ,  47.02777778,  53.05555556,  59.08333334,\n",
       "         65.11111111,  71.13888889,  77.16666667]),\n",
       " <a list of 10 Patch objects>)"
      ]
     },
     "execution_count": 296,
     "metadata": {},
     "output_type": "execute_result"
    },
    {
     "data": {
      "image/png": "[encoded data removed]",
      "text/plain": [
       "<matplotlib.figure.Figure at 0x1101970b8>"
      ]
     },
     "metadata": {},
     "output_type": "display_data"
    }
   ],
   "source": [
    "plt.hist(y)"
   ]
  },
  {
   "cell_type": "code",
   "execution_count": 297,
   "metadata": {},
   "outputs": [
    {
     "data": {
      "text/html": [
       "<div>\n",
       "<style>\n",
       "    .dataframe thead tr:only-child th {\n",
       "        text-align: right;\n",
       "    }\n",
       "\n",
       "    .dataframe thead th {\n",
       "        text-align: left;\n",
       "    }\n",
       "\n",
       "    .dataframe tbody tr th {\n",
       "        vertical-align: top;\n",
       "    }\n",
       "</style>\n",
       "<table border=\"1\" class=\"dataframe\">\n",
       "  <thead>\n",
       "    <tr style=\"text-align: right;\">\n",
       "      <th></th>\n",
       "      <th>0</th>\n",
       "      <th>1</th>\n",
       "      <th>2</th>\n",
       "      <th>3</th>\n",
       "      <th>4</th>\n",
       "      <th>5</th>\n",
       "      <th>6</th>\n",
       "      <th>7</th>\n",
       "      <th>8</th>\n",
       "      <th>9</th>\n",
       "      <th>...</th>\n",
       "      <th>2038</th>\n",
       "      <th>2039</th>\n",
       "      <th>2040</th>\n",
       "      <th>2041</th>\n",
       "      <th>2042</th>\n",
       "      <th>2043</th>\n",
       "      <th>2044</th>\n",
       "      <th>2045</th>\n",
       "      <th>2046</th>\n",
       "      <th>2047</th>\n",
       "    </tr>\n",
       "  </thead>\n",
       "  <tbody>\n",
       "    <tr>\n",
       "      <th>0</th>\n",
       "      <td>0.851058</td>\n",
       "      <td>0.534559</td>\n",
       "      <td>0.168120</td>\n",
       "      <td>0.011578</td>\n",
       "      <td>0.046766</td>\n",
       "      <td>0.081729</td>\n",
       "      <td>0.149118</td>\n",
       "      <td>0.001147</td>\n",
       "      <td>0.005397</td>\n",
       "      <td>0.002196</td>\n",
       "      <td>...</td>\n",
       "      <td>0.000000</td>\n",
       "      <td>0.000000</td>\n",
       "      <td>0.108957</td>\n",
       "      <td>0.002891</td>\n",
       "      <td>0.064581</td>\n",
       "      <td>1.130369</td>\n",
       "      <td>0.036919</td>\n",
       "      <td>0.477293</td>\n",
       "      <td>0.254624</td>\n",
       "      <td>0.035668</td>\n",
       "    </tr>\n",
       "    <tr>\n",
       "      <th>1</th>\n",
       "      <td>0.273183</td>\n",
       "      <td>0.377056</td>\n",
       "      <td>0.032655</td>\n",
       "      <td>0.953597</td>\n",
       "      <td>0.006501</td>\n",
       "      <td>0.000000</td>\n",
       "      <td>0.000000</td>\n",
       "      <td>0.083926</td>\n",
       "      <td>0.000000</td>\n",
       "      <td>0.002928</td>\n",
       "      <td>...</td>\n",
       "      <td>0.000000</td>\n",
       "      <td>0.000000</td>\n",
       "      <td>0.000000</td>\n",
       "      <td>0.048215</td>\n",
       "      <td>0.006943</td>\n",
       "      <td>0.050562</td>\n",
       "      <td>0.011586</td>\n",
       "      <td>2.898155</td>\n",
       "      <td>0.025612</td>\n",
       "      <td>0.115990</td>\n",
       "    </tr>\n",
       "    <tr>\n",
       "      <th>2</th>\n",
       "      <td>0.773727</td>\n",
       "      <td>0.499619</td>\n",
       "      <td>0.482391</td>\n",
       "      <td>0.224194</td>\n",
       "      <td>0.166067</td>\n",
       "      <td>0.000000</td>\n",
       "      <td>0.021172</td>\n",
       "      <td>0.010604</td>\n",
       "      <td>0.000000</td>\n",
       "      <td>0.024432</td>\n",
       "      <td>...</td>\n",
       "      <td>0.000725</td>\n",
       "      <td>0.000000</td>\n",
       "      <td>0.000599</td>\n",
       "      <td>0.000000</td>\n",
       "      <td>0.000000</td>\n",
       "      <td>0.356096</td>\n",
       "      <td>0.003666</td>\n",
       "      <td>0.523456</td>\n",
       "      <td>0.066297</td>\n",
       "      <td>0.165208</td>\n",
       "    </tr>\n",
       "    <tr>\n",
       "      <th>3</th>\n",
       "      <td>0.258952</td>\n",
       "      <td>1.006318</td>\n",
       "      <td>0.348424</td>\n",
       "      <td>0.067091</td>\n",
       "      <td>0.014995</td>\n",
       "      <td>0.036087</td>\n",
       "      <td>0.003191</td>\n",
       "      <td>0.032351</td>\n",
       "      <td>0.000000</td>\n",
       "      <td>0.000000</td>\n",
       "      <td>...</td>\n",
       "      <td>0.035567</td>\n",
       "      <td>0.003120</td>\n",
       "      <td>0.024583</td>\n",
       "      <td>0.071973</td>\n",
       "      <td>0.082299</td>\n",
       "      <td>0.820550</td>\n",
       "      <td>0.022809</td>\n",
       "      <td>0.810718</td>\n",
       "      <td>0.054079</td>\n",
       "      <td>0.287897</td>\n",
       "    </tr>\n",
       "    <tr>\n",
       "      <th>4</th>\n",
       "      <td>0.834517</td>\n",
       "      <td>0.532984</td>\n",
       "      <td>0.098913</td>\n",
       "      <td>0.043069</td>\n",
       "      <td>0.082437</td>\n",
       "      <td>0.000629</td>\n",
       "      <td>0.134732</td>\n",
       "      <td>0.024592</td>\n",
       "      <td>0.000000</td>\n",
       "      <td>0.000000</td>\n",
       "      <td>...</td>\n",
       "      <td>0.000000</td>\n",
       "      <td>0.009285</td>\n",
       "      <td>0.018177</td>\n",
       "      <td>0.000000</td>\n",
       "      <td>0.160182</td>\n",
       "      <td>0.683553</td>\n",
       "      <td>0.001051</td>\n",
       "      <td>0.340110</td>\n",
       "      <td>0.153021</td>\n",
       "      <td>0.045013</td>\n",
       "    </tr>\n",
       "  </tbody>\n",
       "</table>\n",
       "<p>5 rows × 2048 columns</p>\n",
       "</div>"
      ],
      "text/plain": [
       "       0         1         2         3         4         5         6     \\\n",
       "0  0.851058  0.534559  0.168120  0.011578  0.046766  0.081729  0.149118   \n",
       "1  0.273183  0.377056  0.032655  0.953597  0.006501  0.000000  0.000000   \n",
       "2  0.773727  0.499619  0.482391  0.224194  0.166067  0.000000  0.021172   \n",
       "3  0.258952  1.006318  0.348424  0.067091  0.014995  0.036087  0.003191   \n",
       "4  0.834517  0.532984  0.098913  0.043069  0.082437  0.000629  0.134732   \n",
       "\n",
       "       7         8         9       ...         2038      2039      2040  \\\n",
       "0  0.001147  0.005397  0.002196    ...     0.000000  0.000000  0.108957   \n",
       "1  0.083926  0.000000  0.002928    ...     0.000000  0.000000  0.000000   \n",
       "2  0.010604  0.000000  0.024432    ...     0.000725  0.000000  0.000599   \n",
       "3  0.032351  0.000000  0.000000    ...     0.035567  0.003120  0.024583   \n",
       "4  0.024592  0.000000  0.000000    ...     0.000000  0.009285  0.018177   \n",
       "\n",
       "       2041      2042      2043      2044      2045      2046      2047  \n",
       "0  0.002891  0.064581  1.130369  0.036919  0.477293  0.254624  0.035668  \n",
       "1  0.048215  0.006943  0.050562  0.011586  2.898155  0.025612  0.115990  \n",
       "2  0.000000  0.000000  0.356096  0.003666  0.523456  0.066297  0.165208  \n",
       "3  0.071973  0.082299  0.820550  0.022809  0.810718  0.054079  0.287897  \n",
       "4  0.000000  0.160182  0.683553  0.001051  0.340110  0.153021  0.045013  \n",
       "\n",
       "[5 rows x 2048 columns]"
      ]
     },
     "execution_count": 297,
     "metadata": {},
     "output_type": "execute_result"
    }
   ],
   "source": [
    "pd.DataFrame(X).head()"
   ]
  },
  {
   "cell_type": "markdown",
   "metadata": {},
   "source": [
    "# 2. Predicting Continuous Indicator"
   ]
  },
  {
   "cell_type": "code",
   "execution_count": 20,
   "metadata": {
    "collapsed": true
   },
   "outputs": [],
   "source": [
    "alphas = np.array([0.01,0.1,1,5,10,20,30,40,50])"
   ]
  },
  {
   "cell_type": "code",
   "execution_count": 21,
   "metadata": {
    "collapsed": true
   },
   "outputs": [],
   "source": [
    "model=Ridge()"
   ]
  },
  {
   "cell_type": "code",
   "execution_count": 22,
   "metadata": {
    "collapsed": true
   },
   "outputs": [],
   "source": [
    "inner_cv = KFold(n_splits=5, shuffle=True, random_state=1673)\n",
    "outer_cv = KFold(n_splits=5, shuffle=True, random_state=75788)"
   ]
  },
  {
   "cell_type": "code",
   "execution_count": 23,
   "metadata": {
    "collapsed": true
   },
   "outputs": [],
   "source": [
    "def r2_pearson(ground_truth, predictions):\n",
    "    r2_pearson=stats.pearsonr(ground_truth, predictions)[0] ** 2\n",
    "    return r2_pearson\n",
    "r2_pearson = make_scorer(r2_pearson, greater_is_better=True)"
   ]
  },
  {
   "cell_type": "code",
   "execution_count": 24,
   "metadata": {
    "collapsed": true
   },
   "outputs": [],
   "source": [
    "#Inner cross-validation loop\n",
    "clf = GridSearchCV(estimator=model, param_grid=dict(alpha=alphas), cv=inner_cv, scoring=r2_pearson)"
   ]
  },
  {
   "cell_type": "markdown",
   "metadata": {},
   "source": [
    "## From PCA Components"
   ]
  },
  {
   "cell_type": "code",
   "execution_count": 25,
   "metadata": {
    "collapsed": true
   },
   "outputs": [],
   "source": [
    "pca = PCA(n_components=10)"
   ]
  },
  {
   "cell_type": "code",
   "execution_count": 26,
   "metadata": {},
   "outputs": [
    {
     "data": {
      "text/plain": [
       "PCA(copy=True, iterated_power='auto', n_components=10, random_state=None,\n",
       "  svd_solver='auto', tol=0.0, whiten=False)"
      ]
     },
     "execution_count": 26,
     "metadata": {},
     "output_type": "execute_result"
    }
   ],
   "source": [
    "pca.fit(data_features.transpose())"
   ]
  },
  {
   "cell_type": "code",
   "execution_count": 27,
   "metadata": {
    "collapsed": true
   },
   "outputs": [],
   "source": [
    "eigenvectors=pca.components_"
   ]
  },
  {
   "cell_type": "code",
   "execution_count": 28,
   "metadata": {},
   "outputs": [
    {
     "data": {
      "text/plain": [
       "(224, 10)"
      ]
     },
     "execution_count": 28,
     "metadata": {},
     "output_type": "execute_result"
    }
   ],
   "source": [
    "X2 = pd.DataFrame(np.transpose(eigenvectors))\n",
    "X2.shape"
   ]
  },
  {
   "cell_type": "code",
   "execution_count": 29,
   "metadata": {
    "collapsed": true
   },
   "outputs": [],
   "source": [
    "NDVI=data[\"mean_maxNDVI_2016_1km\"].values"
   ]
  },
  {
   "cell_type": "code",
   "execution_count": 30,
   "metadata": {
    "collapsed": true
   },
   "outputs": [],
   "source": [
    "X2_NDVI=pd.concat([pd.DataFrame(X2),pd.DataFrame(NDVI)],axis=1).values"
   ]
  },
  {
   "cell_type": "code",
   "execution_count": 33,
   "metadata": {},
   "outputs": [
    {
     "data": {
      "text/plain": [
       "(224, 11)"
      ]
     },
     "execution_count": 33,
     "metadata": {},
     "output_type": "execute_result"
    }
   ],
   "source": [
    "X2_NDVI.shape"
   ]
  },
  {
   "cell_type": "code",
   "execution_count": 34,
   "metadata": {},
   "outputs": [
    {
     "data": {
      "image/png": "[encoded data removed]",
      "text/plain": [
       "<matplotlib.figure.Figure at 0x1c1615e9b0>"
      ]
     },
     "metadata": {},
     "output_type": "display_data"
    },
    {
     "data": {
      "image/png": "[encoded data removed]",
      "text/plain": [
       "<matplotlib.figure.Figure at 0x1076e3dd8>"
      ]
     },
     "metadata": {},
     "output_type": "display_data"
    }
   ],
   "source": [
    "for i in range(2):\n",
    "    plt.figure()\n",
    "    plt.scatter(y, eigenvectors[i],  color='black')"
   ]
  },
  {
   "cell_type": "code",
   "execution_count": 42,
   "metadata": {},
   "outputs": [
    {
     "data": {
      "text/html": [
       "<div>\n",
       "<style>\n",
       "    .dataframe thead tr:only-child th {\n",
       "        text-align: right;\n",
       "    }\n",
       "\n",
       "    .dataframe thead th {\n",
       "        text-align: left;\n",
       "    }\n",
       "\n",
       "    .dataframe tbody tr th {\n",
       "        vertical-align: top;\n",
       "    }\n",
       "</style>\n",
       "<table border=\"1\" class=\"dataframe\">\n",
       "  <thead>\n",
       "    <tr style=\"text-align: right;\">\n",
       "      <th></th>\n",
       "      <th>0</th>\n",
       "      <th>1</th>\n",
       "      <th>2</th>\n",
       "      <th>3</th>\n",
       "      <th>4</th>\n",
       "      <th>5</th>\n",
       "      <th>6</th>\n",
       "      <th>7</th>\n",
       "      <th>8</th>\n",
       "      <th>9</th>\n",
       "    </tr>\n",
       "  </thead>\n",
       "  <tbody>\n",
       "    <tr>\n",
       "      <th>count</th>\n",
       "      <td>224.000000</td>\n",
       "      <td>224.000000</td>\n",
       "      <td>224.000000</td>\n",
       "      <td>224.000000</td>\n",
       "      <td>224.000000</td>\n",
       "      <td>224.000000</td>\n",
       "      <td>224.000000</td>\n",
       "      <td>224.000000</td>\n",
       "      <td>224.000000</td>\n",
       "      <td>224.000000</td>\n",
       "    </tr>\n",
       "    <tr>\n",
       "      <th>mean</th>\n",
       "      <td>0.066293</td>\n",
       "      <td>-0.004668</td>\n",
       "      <td>-0.000994</td>\n",
       "      <td>0.000357</td>\n",
       "      <td>-0.000346</td>\n",
       "      <td>0.002046</td>\n",
       "      <td>-0.002404</td>\n",
       "      <td>-0.000623</td>\n",
       "      <td>-0.000046</td>\n",
       "      <td>0.001309</td>\n",
       "    </tr>\n",
       "    <tr>\n",
       "      <th>std</th>\n",
       "      <td>0.008359</td>\n",
       "      <td>0.066801</td>\n",
       "      <td>0.066958</td>\n",
       "      <td>0.066964</td>\n",
       "      <td>0.066964</td>\n",
       "      <td>0.066934</td>\n",
       "      <td>0.066922</td>\n",
       "      <td>0.066962</td>\n",
       "      <td>0.066965</td>\n",
       "      <td>0.066952</td>\n",
       "    </tr>\n",
       "    <tr>\n",
       "      <th>min</th>\n",
       "      <td>0.029085</td>\n",
       "      <td>-0.098001</td>\n",
       "      <td>-0.190030</td>\n",
       "      <td>-0.147892</td>\n",
       "      <td>-0.134802</td>\n",
       "      <td>-0.137233</td>\n",
       "      <td>-0.236780</td>\n",
       "      <td>-0.173093</td>\n",
       "      <td>-0.210492</td>\n",
       "      <td>-0.193510</td>\n",
       "    </tr>\n",
       "    <tr>\n",
       "      <th>25%</th>\n",
       "      <td>0.061149</td>\n",
       "      <td>-0.062262</td>\n",
       "      <td>-0.044806</td>\n",
       "      <td>-0.048292</td>\n",
       "      <td>-0.049881</td>\n",
       "      <td>-0.045753</td>\n",
       "      <td>-0.045916</td>\n",
       "      <td>-0.045282</td>\n",
       "      <td>-0.045370</td>\n",
       "      <td>-0.042407</td>\n",
       "    </tr>\n",
       "    <tr>\n",
       "      <th>50%</th>\n",
       "      <td>0.067171</td>\n",
       "      <td>-0.020503</td>\n",
       "      <td>0.003092</td>\n",
       "      <td>-0.012852</td>\n",
       "      <td>-0.007670</td>\n",
       "      <td>0.003255</td>\n",
       "      <td>0.004311</td>\n",
       "      <td>-0.002620</td>\n",
       "      <td>0.003075</td>\n",
       "      <td>0.003256</td>\n",
       "    </tr>\n",
       "    <tr>\n",
       "      <th>75%</th>\n",
       "      <td>0.071675</td>\n",
       "      <td>0.036830</td>\n",
       "      <td>0.050572</td>\n",
       "      <td>0.052741</td>\n",
       "      <td>0.033324</td>\n",
       "      <td>0.045238</td>\n",
       "      <td>0.049226</td>\n",
       "      <td>0.040800</td>\n",
       "      <td>0.051299</td>\n",
       "      <td>0.043285</td>\n",
       "    </tr>\n",
       "    <tr>\n",
       "      <th>max</th>\n",
       "      <td>0.085792</td>\n",
       "      <td>0.166882</td>\n",
       "      <td>0.139552</td>\n",
       "      <td>0.171576</td>\n",
       "      <td>0.189515</td>\n",
       "      <td>0.168968</td>\n",
       "      <td>0.153747</td>\n",
       "      <td>0.249994</td>\n",
       "      <td>0.183146</td>\n",
       "      <td>0.219572</td>\n",
       "    </tr>\n",
       "  </tbody>\n",
       "</table>\n",
       "</div>"
      ],
      "text/plain": [
       "                0           1           2           3           4           5  \\\n",
       "count  224.000000  224.000000  224.000000  224.000000  224.000000  224.000000   \n",
       "mean     0.066293   -0.004668   -0.000994    0.000357   -0.000346    0.002046   \n",
       "std      0.008359    0.066801    0.066958    0.066964    0.066964    0.066934   \n",
       "min      0.029085   -0.098001   -0.190030   -0.147892   -0.134802   -0.137233   \n",
       "25%      0.061149   -0.062262   -0.044806   -0.048292   -0.049881   -0.045753   \n",
       "50%      0.067171   -0.020503    0.003092   -0.012852   -0.007670    0.003255   \n",
       "75%      0.071675    0.036830    0.050572    0.052741    0.033324    0.045238   \n",
       "max      0.085792    0.166882    0.139552    0.171576    0.189515    0.168968   \n",
       "\n",
       "                6           7           8           9  \n",
       "count  224.000000  224.000000  224.000000  224.000000  \n",
       "mean    -0.002404   -0.000623   -0.000046    0.001309  \n",
       "std      0.066922    0.066962    0.066965    0.066952  \n",
       "min     -0.236780   -0.173093   -0.210492   -0.193510  \n",
       "25%     -0.045916   -0.045282   -0.045370   -0.042407  \n",
       "50%      0.004311   -0.002620    0.003075    0.003256  \n",
       "75%      0.049226    0.040800    0.051299    0.043285  \n",
       "max      0.153747    0.249994    0.183146    0.219572  "
      ]
     },
     "execution_count": 42,
     "metadata": {},
     "output_type": "execute_result"
    }
   ],
   "source": [
    "X2.describe()"
   ]
  },
  {
   "cell_type": "code",
   "execution_count": 44,
   "metadata": {},
   "outputs": [
    {
     "data": {
      "text/html": [
       "<div>\n",
       "<style>\n",
       "    .dataframe thead tr:only-child th {\n",
       "        text-align: right;\n",
       "    }\n",
       "\n",
       "    .dataframe thead th {\n",
       "        text-align: left;\n",
       "    }\n",
       "\n",
       "    .dataframe tbody tr th {\n",
       "        vertical-align: top;\n",
       "    }\n",
       "</style>\n",
       "<table border=\"1\" class=\"dataframe\">\n",
       "  <thead>\n",
       "    <tr style=\"text-align: right;\">\n",
       "      <th></th>\n",
       "      <th>0</th>\n",
       "      <th>1</th>\n",
       "      <th>2</th>\n",
       "      <th>3</th>\n",
       "      <th>4</th>\n",
       "      <th>5</th>\n",
       "      <th>6</th>\n",
       "      <th>7</th>\n",
       "      <th>8</th>\n",
       "      <th>9</th>\n",
       "      <th>10</th>\n",
       "    </tr>\n",
       "  </thead>\n",
       "  <tbody>\n",
       "    <tr>\n",
       "      <th>count</th>\n",
       "      <td>224.000000</td>\n",
       "      <td>224.000000</td>\n",
       "      <td>224.000000</td>\n",
       "      <td>224.000000</td>\n",
       "      <td>224.000000</td>\n",
       "      <td>224.000000</td>\n",
       "      <td>224.000000</td>\n",
       "      <td>224.000000</td>\n",
       "      <td>224.000000</td>\n",
       "      <td>224.000000</td>\n",
       "      <td>224.000000</td>\n",
       "    </tr>\n",
       "    <tr>\n",
       "      <th>mean</th>\n",
       "      <td>0.066293</td>\n",
       "      <td>-0.004668</td>\n",
       "      <td>-0.000994</td>\n",
       "      <td>0.000357</td>\n",
       "      <td>-0.000346</td>\n",
       "      <td>0.002046</td>\n",
       "      <td>-0.002404</td>\n",
       "      <td>-0.000623</td>\n",
       "      <td>-0.000046</td>\n",
       "      <td>0.001309</td>\n",
       "      <td>0.533218</td>\n",
       "    </tr>\n",
       "    <tr>\n",
       "      <th>std</th>\n",
       "      <td>0.008359</td>\n",
       "      <td>0.066801</td>\n",
       "      <td>0.066958</td>\n",
       "      <td>0.066964</td>\n",
       "      <td>0.066964</td>\n",
       "      <td>0.066934</td>\n",
       "      <td>0.066922</td>\n",
       "      <td>0.066962</td>\n",
       "      <td>0.066965</td>\n",
       "      <td>0.066952</td>\n",
       "      <td>0.086130</td>\n",
       "    </tr>\n",
       "    <tr>\n",
       "      <th>min</th>\n",
       "      <td>0.029085</td>\n",
       "      <td>-0.098001</td>\n",
       "      <td>-0.190030</td>\n",
       "      <td>-0.147892</td>\n",
       "      <td>-0.134802</td>\n",
       "      <td>-0.137233</td>\n",
       "      <td>-0.236780</td>\n",
       "      <td>-0.173093</td>\n",
       "      <td>-0.210492</td>\n",
       "      <td>-0.193510</td>\n",
       "      <td>0.293702</td>\n",
       "    </tr>\n",
       "    <tr>\n",
       "      <th>25%</th>\n",
       "      <td>0.061149</td>\n",
       "      <td>-0.062262</td>\n",
       "      <td>-0.044806</td>\n",
       "      <td>-0.048292</td>\n",
       "      <td>-0.049881</td>\n",
       "      <td>-0.045753</td>\n",
       "      <td>-0.045916</td>\n",
       "      <td>-0.045282</td>\n",
       "      <td>-0.045370</td>\n",
       "      <td>-0.042407</td>\n",
       "      <td>0.466799</td>\n",
       "    </tr>\n",
       "    <tr>\n",
       "      <th>50%</th>\n",
       "      <td>0.067171</td>\n",
       "      <td>-0.020503</td>\n",
       "      <td>0.003092</td>\n",
       "      <td>-0.012852</td>\n",
       "      <td>-0.007670</td>\n",
       "      <td>0.003255</td>\n",
       "      <td>0.004311</td>\n",
       "      <td>-0.002620</td>\n",
       "      <td>0.003075</td>\n",
       "      <td>0.003256</td>\n",
       "      <td>0.532042</td>\n",
       "    </tr>\n",
       "    <tr>\n",
       "      <th>75%</th>\n",
       "      <td>0.071675</td>\n",
       "      <td>0.036830</td>\n",
       "      <td>0.050572</td>\n",
       "      <td>0.052741</td>\n",
       "      <td>0.033324</td>\n",
       "      <td>0.045238</td>\n",
       "      <td>0.049226</td>\n",
       "      <td>0.040800</td>\n",
       "      <td>0.051299</td>\n",
       "      <td>0.043285</td>\n",
       "      <td>0.592117</td>\n",
       "    </tr>\n",
       "    <tr>\n",
       "      <th>max</th>\n",
       "      <td>0.085792</td>\n",
       "      <td>0.166882</td>\n",
       "      <td>0.139552</td>\n",
       "      <td>0.171576</td>\n",
       "      <td>0.189515</td>\n",
       "      <td>0.168968</td>\n",
       "      <td>0.153747</td>\n",
       "      <td>0.249994</td>\n",
       "      <td>0.183146</td>\n",
       "      <td>0.219572</td>\n",
       "      <td>0.753296</td>\n",
       "    </tr>\n",
       "  </tbody>\n",
       "</table>\n",
       "</div>"
      ],
      "text/plain": [
       "               0           1           2           3           4           5   \\\n",
       "count  224.000000  224.000000  224.000000  224.000000  224.000000  224.000000   \n",
       "mean     0.066293   -0.004668   -0.000994    0.000357   -0.000346    0.002046   \n",
       "std      0.008359    0.066801    0.066958    0.066964    0.066964    0.066934   \n",
       "min      0.029085   -0.098001   -0.190030   -0.147892   -0.134802   -0.137233   \n",
       "25%      0.061149   -0.062262   -0.044806   -0.048292   -0.049881   -0.045753   \n",
       "50%      0.067171   -0.020503    0.003092   -0.012852   -0.007670    0.003255   \n",
       "75%      0.071675    0.036830    0.050572    0.052741    0.033324    0.045238   \n",
       "max      0.085792    0.166882    0.139552    0.171576    0.189515    0.168968   \n",
       "\n",
       "               6           7           8           9           10  \n",
       "count  224.000000  224.000000  224.000000  224.000000  224.000000  \n",
       "mean    -0.002404   -0.000623   -0.000046    0.001309    0.533218  \n",
       "std      0.066922    0.066962    0.066965    0.066952    0.086130  \n",
       "min     -0.236780   -0.173093   -0.210492   -0.193510    0.293702  \n",
       "25%     -0.045916   -0.045282   -0.045370   -0.042407    0.466799  \n",
       "50%      0.004311   -0.002620    0.003075    0.003256    0.532042  \n",
       "75%      0.049226    0.040800    0.051299    0.043285    0.592117  \n",
       "max      0.153747    0.249994    0.183146    0.219572    0.753296  "
      ]
     },
     "execution_count": 44,
     "metadata": {},
     "output_type": "execute_result"
    }
   ],
   "source": [
    "pd.DataFrame(X2_NDVI).describe()"
   ]
  },
  {
   "cell_type": "code",
   "execution_count": 48,
   "metadata": {
    "collapsed": true
   },
   "outputs": [],
   "source": [
    "from sklearn.preprocessing import normalize\n",
    "X2_NDVI = normalize(X2_NDVI)"
   ]
  },
  {
   "cell_type": "code",
   "execution_count": 49,
   "metadata": {},
   "outputs": [
    {
     "name": "stdout",
     "output_type": "stream",
     "text": [
      "r2 (pearson): 0.18 (+/- 0.16)\n"
     ]
    }
   ],
   "source": [
    "# Outer Loop with r2 (Pearson)\n",
    "r2 = cross_val_score(clf, X2, y, cv=outer_cv ,scoring=r2_pearson)\n",
    "print(\"r2 (pearson): %0.2f (+/- %0.2f)\" % (r2.mean(), r2.std() * 2)) "
   ]
  },
  {
   "cell_type": "code",
   "execution_count": 50,
   "metadata": {},
   "outputs": [
    {
     "name": "stdout",
     "output_type": "stream",
     "text": [
      "r2 (pearson): 0.17 (+/- 0.14)\n"
     ]
    }
   ],
   "source": [
    "# Outer Loop with r2 (Pearson)\n",
    "r2 = cross_val_score(clf, X2_NDVI, y, cv=outer_cv ,scoring=r2_pearson)\n",
    "print(\"r2 (pearson): %0.2f (+/- %0.2f)\" % (r2.mean(), r2.std() * 2)) "
   ]
  },
  {
   "cell_type": "code",
   "execution_count": 51,
   "metadata": {},
   "outputs": [
    {
     "name": "stdout",
     "output_type": "stream",
     "text": [
      "R2: 0.09 (+/- 0.26)\n"
     ]
    }
   ],
   "source": [
    "# Outer Loop with R2\n",
    "r2 = cross_val_score(clf, X2, y, cv=outer_cv ,scoring='r2')\n",
    "print(\"R2: %0.2f (+/- %0.2f)\" % (r2.mean(), r2.std() * 2))"
   ]
  },
  {
   "cell_type": "code",
   "execution_count": 52,
   "metadata": {},
   "outputs": [
    {
     "name": "stdout",
     "output_type": "stream",
     "text": [
      "R2: 0.08 (+/- 0.25)\n"
     ]
    }
   ],
   "source": [
    "# Outer Loop with R2\n",
    "r2 = cross_val_score(clf, X2_NDVI, y, cv=outer_cv ,scoring='r2')\n",
    "print(\"R2: %0.2f (+/- %0.2f)\" % (r2.mean(), r2.std() * 2))"
   ]
  },
  {
   "cell_type": "code",
   "execution_count": 310,
   "metadata": {},
   "outputs": [
    {
     "data": {
      "image/png": "[encoded data removed]",
      "text/plain": [
       "<matplotlib.figure.Figure at 0x115dfa7b8>"
      ]
     },
     "metadata": {},
     "output_type": "display_data"
    }
   ],
   "source": [
    "y_hat = cross_val_predict(clf, X2, y, cv=outer_cv)\n",
    "fig, ax = plt.subplots()\n",
    "ax.scatter(y, y_hat, edgecolors=(0, 0, 0))\n",
    "ax.plot([y.min(), y.max()], [y.min(), y.max()], 'k--')\n",
    "ax.set_xlabel('Log consumption expenditures')\n",
    "ax.set_ylabel('Model predictions')\n",
    "plt.show()"
   ]
  },
  {
   "cell_type": "markdown",
   "metadata": {},
   "source": [
    "## From all (4096) features"
   ]
  },
  {
   "cell_type": "code",
   "execution_count": 311,
   "metadata": {
    "collapsed": true
   },
   "outputs": [],
   "source": [
    "alphas = np.array([1,5,10,20,30,40,50])"
   ]
  },
  {
   "cell_type": "code",
   "execution_count": 312,
   "metadata": {},
   "outputs": [
    {
     "name": "stdout",
     "output_type": "stream",
     "text": [
      "r2 (pearson): 0.26 (+/- 0.15)\n"
     ]
    }
   ],
   "source": [
    "# Outer Loop with r2 (Pearson)\n",
    "r2 = cross_val_score(clf, X, y, cv=outer_cv ,scoring=r2_pearson)\n",
    "print(\"r2 (pearson): %0.2f (+/- %0.2f)\" % (r2.mean(), r2.std() * 2))"
   ]
  },
  {
   "cell_type": "code",
   "execution_count": 313,
   "metadata": {},
   "outputs": [
    {
     "name": "stdout",
     "output_type": "stream",
     "text": [
      "r2 (pearson): 0.26 (+/- 0.15)\n"
     ]
    }
   ],
   "source": [
    "# Outer Loop with r2 (Pearson)\n",
    "r2 = cross_val_score(clf, X_NDVI, y, cv=outer_cv ,scoring=r2_pearson)\n",
    "print(\"r2 (pearson): %0.2f (+/- %0.2f)\" % (r2.mean(), r2.std() * 2))"
   ]
  },
  {
   "cell_type": "code",
   "execution_count": 314,
   "metadata": {},
   "outputs": [
    {
     "data": {
      "text/plain": [
       "array([ 0.31800184,  0.1705986 ,  0.34122141,  0.16119973,  0.29420097])"
      ]
     },
     "execution_count": 314,
     "metadata": {},
     "output_type": "execute_result"
    }
   ],
   "source": [
    "r2"
   ]
  },
  {
   "cell_type": "code",
   "execution_count": 315,
   "metadata": {},
   "outputs": [
    {
     "name": "stdout",
     "output_type": "stream",
     "text": [
      "R2: 0.19 (+/- 0.14)\n"
     ]
    }
   ],
   "source": [
    "# Outer Loop with R2\n",
    "R2 = cross_val_score(clf, X, y, cv=outer_cv ,scoring='r2')\n",
    "print(\"R2: %0.2f (+/- %0.2f)\" % (R2.mean(), R2.std() * 2))"
   ]
  },
  {
   "cell_type": "code",
   "execution_count": 316,
   "metadata": {},
   "outputs": [
    {
     "name": "stdout",
     "output_type": "stream",
     "text": [
      "R2: 0.19 (+/- 0.14)\n"
     ]
    }
   ],
   "source": [
    "# Outer Loop with R2\n",
    "R2 = cross_val_score(clf, X_NDVI, y, cv=outer_cv ,scoring='r2')\n",
    "print(\"R2: %0.2f (+/- %0.2f)\" % (R2.mean(), R2.std() * 2))"
   ]
  },
  {
   "cell_type": "code",
   "execution_count": 317,
   "metadata": {},
   "outputs": [
    {
     "data": {
      "text/plain": [
       "array([ 0.25822371,  0.12174636,  0.20193324,  0.10557578,  0.28646075])"
      ]
     },
     "execution_count": 317,
     "metadata": {},
     "output_type": "execute_result"
    }
   ],
   "source": [
    "R2"
   ]
  },
  {
   "cell_type": "code",
   "execution_count": 318,
   "metadata": {},
   "outputs": [
    {
     "name": "stdout",
     "output_type": "stream",
     "text": [
      "neg_mean_squared_error: 93.96 (+/- 47.78)\n"
     ]
    }
   ],
   "source": [
    "neg_mean_squared_error = cross_val_score(clf, X, y, cv=outer_cv,scoring='neg_mean_squared_error')\n",
    "print(\"neg_mean_squared_error: %0.2f (+/- %0.2f)\" % (-neg_mean_squared_error.mean(), neg_mean_squared_error.std() * 2)) "
   ]
  },
  {
   "cell_type": "code",
   "execution_count": 319,
   "metadata": {},
   "outputs": [
    {
     "name": "stdout",
     "output_type": "stream",
     "text": [
      "neg_mean_squared_error: 93.97 (+/- 47.79)\n"
     ]
    }
   ],
   "source": [
    "neg_mean_squared_error = cross_val_score(clf, X_NDVI, y, cv=outer_cv,scoring='neg_mean_squared_error')\n",
    "print(\"neg_mean_squared_error: %0.2f (+/- %0.2f)\" % (-neg_mean_squared_error.mean(), neg_mean_squared_error.std() * 2)) "
   ]
  },
  {
   "cell_type": "code",
   "execution_count": 320,
   "metadata": {},
   "outputs": [
    {
     "data": {
      "text/plain": [
       "array([  90.98483623,  130.73597761,   55.6074132 ,   93.81179865,\n",
       "         98.69556776])"
      ]
     },
     "execution_count": 320,
     "metadata": {},
     "output_type": "execute_result"
    }
   ],
   "source": [
    "-neg_mean_squared_error"
   ]
  },
  {
   "cell_type": "code",
   "execution_count": 272,
   "metadata": {},
   "outputs": [
    {
     "data": {
      "image/png": "[encoded data removed]",
      "text/plain": [
       "<matplotlib.figure.Figure at 0x1c20fc59e8>"
      ]
     },
     "metadata": {},
     "output_type": "display_data"
    }
   ],
   "source": [
    "y_hat = cross_val_predict(clf, X, y, cv=outer_cv)\n",
    "fig, ax = plt.subplots()\n",
    "ax.scatter(y, y_hat, edgecolors=(0, 0, 0))\n",
    "ax.plot([y.min(), y.max()], [y.min(), y.max()], 'k--')\n",
    "ax.set_xlabel('Log consumption expenditures')\n",
    "ax.set_ylabel('Model predictions')\n",
    "plt.show()"
   ]
  },
  {
   "cell_type": "code",
   "execution_count": 273,
   "metadata": {},
   "outputs": [
    {
     "data": {
      "text/plain": [
       "0.23375146955068393"
      ]
     },
     "execution_count": 273,
     "metadata": {},
     "output_type": "execute_result"
    }
   ],
   "source": [
    "r2_score(y,y_hat)"
   ]
  },
  {
   "cell_type": "code",
   "execution_count": 274,
   "metadata": {},
   "outputs": [
    {
     "data": {
      "text/plain": [
       "0.2597462669470485"
      ]
     },
     "execution_count": 274,
     "metadata": {},
     "output_type": "execute_result"
    }
   ],
   "source": [
    "stats.pearsonr(y,y_hat)[0] ** 2"
   ]
  },
  {
   "cell_type": "markdown",
   "metadata": {},
   "source": [
    "# 3. Predicting Dummy Indicator from all features"
   ]
  },
  {
   "cell_type": "code",
   "execution_count": 40,
   "metadata": {},
   "outputs": [
    {
     "data": {
      "text/plain": [
       "LogisticRegression(C=1.0, class_weight=None, dual=False, fit_intercept=True,\n",
       "          intercept_scaling=1, max_iter=100, multi_class='ovr', n_jobs=1,\n",
       "          penalty='l2', random_state=None, solver='liblinear', tol=0.0001,\n",
       "          verbose=0, warm_start=False)"
      ]
     },
     "execution_count": 40,
     "metadata": {},
     "output_type": "execute_result"
    }
   ],
   "source": [
    "model = linear_model.LogisticRegression(penalty=\"l2\")\n",
    "model.fit(X, y2) "
   ]
  },
  {
   "cell_type": "code",
   "execution_count": 41,
   "metadata": {
    "collapsed": true
   },
   "outputs": [],
   "source": [
    "cv = KFold(n_splits=10, shuffle=True, random_state=167)"
   ]
  },
  {
   "cell_type": "code",
   "execution_count": 42,
   "metadata": {
    "collapsed": true
   },
   "outputs": [],
   "source": [
    "accuracy = cross_val_score(model, X, y2, cv=cv)\n",
    "f1 = cross_val_score(model, X, y2, cv=cv,scoring='f1')\n",
    "precision = cross_val_score(model, X, y2, cv=cv,scoring='precision')\n",
    "recall= cross_val_score(model, X, y2, cv=cv,scoring='recall')\n",
    "auc= cross_val_score(model, X, y2, cv=cv,scoring='roc_auc')\n",
    "confusion= cross_val_score(model, X, y2, cv=cv,scoring='roc_auc')"
   ]
  },
  {
   "cell_type": "code",
   "execution_count": 43,
   "metadata": {},
   "outputs": [
    {
     "name": "stdout",
     "output_type": "stream",
     "text": [
      "Accuracy: 0.79 (+/- 0.09)\n",
      "F1: 0.53 (+/- 0.26)\n",
      "Precision: 0.62 (+/- 0.37)\n",
      "Recall: 0.49 (+/- 0.30)\n",
      "AUC: 0.82 (+/- 0.14)\n"
     ]
    }
   ],
   "source": [
    "scores = cross_val_score(model, X, y2, cv=10,scoring='precision')\n",
    "accuracy_print=(\"Accuracy: %0.2f (+/- %0.2f)\" % (accuracy.mean(), accuracy.std() * 2))\n",
    "f1_print=(\"F1: %0.2f (+/- %0.2f)\" % (f1.mean(), f1.std() * 2))\n",
    "precision_print=(\"Precision: %0.2f (+/- %0.2f)\" % (precision.mean(), precision.std() * 2))\n",
    "recall_print=(\"Recall: %0.2f (+/- %0.2f)\" % (recall.mean(), recall.std() * 2))\n",
    "auc_print=(\"AUC: %0.2f (+/- %0.2f)\" % (auc.mean(), auc.std() * 2))\n",
    "print(os.linesep.join([accuracy_print,f1_print,precision_print,recall_print,auc_print]))"
   ]
  },
  {
   "cell_type": "code",
   "execution_count": 44,
   "metadata": {},
   "outputs": [
    {
     "data": {
      "text/plain": [
       "count    309.000000\n",
       "mean       0.258900\n",
       "std        0.438741\n",
       "min        0.000000\n",
       "25%        0.000000\n",
       "50%        0.000000\n",
       "75%        1.000000\n",
       "max        1.000000\n",
       "Name: poor_majority, dtype: float64"
      ]
     },
     "execution_count": 44,
     "metadata": {},
     "output_type": "execute_result"
    }
   ],
   "source": [
    "y2.describe()"
   ]
  },
  {
   "cell_type": "markdown",
   "metadata": {
    "collapsed": true
   },
   "source": [
    "# 4. Predicting Dummy Indicator from all features"
   ]
  },
  {
   "cell_type": "code",
   "execution_count": 86,
   "metadata": {
    "collapsed": true
   },
   "outputs": [],
   "source": [
    "clf.fit(X,y)\n",
    "y_hat = clf.predict(X)\n",
    "y_hat=pd.Series(y_hat,name='y_hat')"
   ]
  },
  {
   "cell_type": "code",
   "execution_count": 90,
   "metadata": {
    "collapsed": true
   },
   "outputs": [],
   "source": [
    "predictions=pd.concat([hh_data,y_hat],axis=1)"
   ]
  },
  {
   "cell_type": "code",
   "execution_count": 91,
   "metadata": {
    "collapsed": true
   },
   "outputs": [],
   "source": [
    "hh_data = predictions.to_csv(\"../Data/Results/pred_{}\".format(public_config[\"dataset\"][\"filename\"]))"
   ]
  },
  {
   "cell_type": "code",
   "execution_count": null,
   "metadata": {
    "collapsed": true
   },
   "outputs": [],
   "source": []
  }
 ],
 "metadata": {
  "kernelspec": {
   "display_name": "Python 3",
   "language": "python",
   "name": "python3"
  },
  "language_info": {
   "codemirror_mode": {
    "name": "ipython",
    "version": 3
   },
   "file_extension": ".py",
   "mimetype": "text/x-python",
   "name": "python",
   "nbconvert_exporter": "python",
   "pygments_lexer": "ipython3",
   "version": "3.5.4"
  }
 },
 "nbformat": 4,
 "nbformat_minor": 1
}
