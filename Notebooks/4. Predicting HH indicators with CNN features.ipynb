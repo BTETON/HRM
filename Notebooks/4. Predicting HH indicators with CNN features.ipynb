{
 "cells": [
  {
   "cell_type": "code",
   "execution_count": 1,
   "metadata": {},
   "outputs": [
    {
     "name": "stderr",
     "output_type": "stream",
     "text": [
      "/Users/pasquierjb/anaconda3/envs/hrm/lib/python3.5/site-packages/statsmodels/compat/pandas.py:56: FutureWarning: The pandas.core.datetools module is deprecated and will be removed in a future version. Please use the pandas.tseries module instead.\n",
      "  from pandas.core import datetools\n"
     ]
    }
   ],
   "source": [
    "import os\n",
    "import pandas as pd \n",
    "import numpy as np\n",
    "import matplotlib.pyplot as plt\n",
    "import statsmodels.api as sm\n",
    "from itertools import cycle\n",
    "from sklearn.linear_model import LinearRegression\n",
    "from sklearn.decomposition import PCA\n",
    "from sklearn.linear_model import Ridge\n",
    "from sklearn import linear_model\n",
    "from sklearn import metrics\n",
    "from sklearn.model_selection import GridSearchCV, cross_val_score, cross_val_predict, KFold, train_test_split\n",
    "from sklearn.metrics import r2_score, make_scorer\n",
    "from scipy import stats\n",
    "%matplotlib inline "
   ]
  },
  {
   "cell_type": "markdown",
   "metadata": {},
   "source": [
    "# 1. Preparing Data"
   ]
  },
  {
   "cell_type": "markdown",
   "metadata": {},
   "source": [
    "### Loading HH Data"
   ]
  },
  {
   "cell_type": "code",
   "execution_count": 2,
   "metadata": {
    "collapsed": true
   },
   "outputs": [],
   "source": [
    "#hh_data = pd.read_csv(\"../Data/Intermediate_files/hh_village_coord_fcs.csv\")"
   ]
  },
  {
   "cell_type": "code",
   "execution_count": 3,
   "metadata": {
    "collapsed": true
   },
   "outputs": [],
   "source": [
    "hh_data = pd.read_csv(\"../Data/Intermediate_files/hh_data_2011_cluster_minHH.csv\")"
   ]
  },
  {
   "cell_type": "markdown",
   "metadata": {},
   "source": [
    "### Loading CNN features"
   ]
  },
  {
   "cell_type": "code",
   "execution_count": 4,
   "metadata": {
    "collapsed": true
   },
   "outputs": [],
   "source": [
    "#CNN_features = pd.read_csv(\"../Data/Intermediate_files/google_sat_CNN_features.csv\")"
   ]
  },
  {
   "cell_type": "code",
   "execution_count": 5,
   "metadata": {
    "collapsed": true
   },
   "outputs": [],
   "source": [
    "#CNN_features = pd.read_csv(\"../Data/Intermediate_files/google_sat_CNN_features_lsms.csv\")"
   ]
  },
  {
   "cell_type": "code",
   "execution_count": 6,
   "metadata": {
    "collapsed": true
   },
   "outputs": [],
   "source": [
    "#CNN_features = pd.read_csv(\"../Data/Intermediate_files/google_sat_CNN_features_lsms_VGG16_block4_pool.csv\")"
   ]
  },
  {
   "cell_type": "code",
   "execution_count": 7,
   "metadata": {
    "collapsed": true
   },
   "outputs": [],
   "source": [
    "#CNN_features = pd.read_csv(\"../Data/Intermediate_files/google_sat_CNN_features_lsms_VGGF_caffe_conv7_mean.csv\")"
   ]
  },
  {
   "cell_type": "code",
   "execution_count": 8,
   "metadata": {
    "collapsed": true
   },
   "outputs": [],
   "source": [
    "#CNN_features = pd.read_csv(\"../Data/Intermediate_files/google_sat_CNN_features_lsms_VGGF_caffe_conv7_mean_100imagescluster.csv\")"
   ]
  },
  {
   "cell_type": "code",
   "execution_count": 34,
   "metadata": {
    "collapsed": true
   },
   "outputs": [],
   "source": [
    "CNN_features = pd.read_csv(\"../Data/Intermediate_files/google_sat_CNN_features_lsms_Resnet50_keras_avg_pool_3imagescluster.csv\")"
   ]
  },
  {
   "cell_type": "markdown",
   "metadata": {},
   "source": [
    "### Merging"
   ]
  },
  {
   "cell_type": "code",
   "execution_count": 35,
   "metadata": {
    "collapsed": true
   },
   "outputs": [],
   "source": [
    "data=hh_data.merge(CNN_features,on=[\"i\",\"j\"])"
   ]
  },
  {
   "cell_type": "code",
   "execution_count": 36,
   "metadata": {
    "collapsed": true
   },
   "outputs": [],
   "source": [
    "data = data.sample(frac=1, random_state=1783).reset_index(drop=True) #Shuffling the data"
   ]
  },
  {
   "cell_type": "code",
   "execution_count": 37,
   "metadata": {
    "collapsed": true
   },
   "outputs": [],
   "source": [
    "start_features=len(hh_data.columns)+2"
   ]
  },
  {
   "cell_type": "code",
   "execution_count": 38,
   "metadata": {
    "collapsed": true
   },
   "outputs": [],
   "source": [
    "data_features=data.iloc[:,start_features:]"
   ]
  },
  {
   "cell_type": "markdown",
   "metadata": {},
   "source": [
    "### Defining predictors and predicting variables"
   ]
  },
  {
   "cell_type": "code",
   "execution_count": 39,
   "metadata": {
    "collapsed": true
   },
   "outputs": [],
   "source": [
    "y = data[\"cons\"].values #Average normalized consumption per cluster\n",
    "y = y[y > 0]\n",
    "y = np.log(y) #Log-normal distribution"
   ]
  },
  {
   "cell_type": "code",
   "execution_count": 40,
   "metadata": {
    "collapsed": true
   },
   "outputs": [],
   "source": [
    "y2 = data[\"poor_majority\"] #Dummy variable for majority of poor in the cluster"
   ]
  },
  {
   "cell_type": "code",
   "execution_count": 41,
   "metadata": {
    "collapsed": true
   },
   "outputs": [],
   "source": [
    "X=data_features.values"
   ]
  },
  {
   "cell_type": "code",
   "execution_count": 42,
   "metadata": {},
   "outputs": [
    {
     "data": {
      "text/plain": [
       "(309, 2048)"
      ]
     },
     "execution_count": 42,
     "metadata": {},
     "output_type": "execute_result"
    }
   ],
   "source": [
    "X.shape"
   ]
  },
  {
   "cell_type": "code",
   "execution_count": 43,
   "metadata": {},
   "outputs": [
    {
     "data": {
      "text/plain": [
       "(309,)"
      ]
     },
     "execution_count": 43,
     "metadata": {},
     "output_type": "execute_result"
    }
   ],
   "source": [
    "y.shape"
   ]
  },
  {
   "cell_type": "code",
   "execution_count": 44,
   "metadata": {},
   "outputs": [
    {
     "data": {
      "text/plain": [
       "(array([  3.,  14.,  47.,  85.,  70.,  35.,  28.,  20.,   5.,   2.]),\n",
       " array([-0.40340905, -0.02670821,  0.34999262,  0.72669345,  1.10339428,\n",
       "         1.48009511,  1.85679595,  2.23349678,  2.61019761,  2.98689844,\n",
       "         3.36359927]),\n",
       " <a list of 10 Patch objects>)"
      ]
     },
     "execution_count": 44,
     "metadata": {},
     "output_type": "execute_result"
    },
    {
     "data": {
      "image/png": "[encoded data removed]",
      "text/plain": [
       "<matplotlib.figure.Figure at 0x1c13454438>"
      ]
     },
     "metadata": {},
     "output_type": "display_data"
    }
   ],
   "source": [
    "plt.hist(y)"
   ]
  },
  {
   "cell_type": "code",
   "execution_count": 45,
   "metadata": {},
   "outputs": [
    {
     "data": {
      "text/html": [
       "<div>\n",
       "<style>\n",
       "    .dataframe thead tr:only-child th {\n",
       "        text-align: right;\n",
       "    }\n",
       "\n",
       "    .dataframe thead th {\n",
       "        text-align: left;\n",
       "    }\n",
       "\n",
       "    .dataframe tbody tr th {\n",
       "        vertical-align: top;\n",
       "    }\n",
       "</style>\n",
       "<table border=\"1\" class=\"dataframe\">\n",
       "  <thead>\n",
       "    <tr style=\"text-align: right;\">\n",
       "      <th></th>\n",
       "      <th>0</th>\n",
       "      <th>1</th>\n",
       "      <th>2</th>\n",
       "      <th>3</th>\n",
       "      <th>4</th>\n",
       "      <th>5</th>\n",
       "      <th>6</th>\n",
       "      <th>7</th>\n",
       "      <th>8</th>\n",
       "      <th>9</th>\n",
       "      <th>...</th>\n",
       "      <th>2038</th>\n",
       "      <th>2039</th>\n",
       "      <th>2040</th>\n",
       "      <th>2041</th>\n",
       "      <th>2042</th>\n",
       "      <th>2043</th>\n",
       "      <th>2044</th>\n",
       "      <th>2045</th>\n",
       "      <th>2046</th>\n",
       "      <th>2047</th>\n",
       "    </tr>\n",
       "  </thead>\n",
       "  <tbody>\n",
       "    <tr>\n",
       "      <th>0</th>\n",
       "      <td>0.702923</td>\n",
       "      <td>0.495396</td>\n",
       "      <td>1.025385</td>\n",
       "      <td>0.314796</td>\n",
       "      <td>0.000000</td>\n",
       "      <td>0.000000</td>\n",
       "      <td>0.000000</td>\n",
       "      <td>0.000000</td>\n",
       "      <td>0.011628</td>\n",
       "      <td>0.005166</td>\n",
       "      <td>...</td>\n",
       "      <td>0.000000</td>\n",
       "      <td>0.000000</td>\n",
       "      <td>0.000000</td>\n",
       "      <td>0.104676</td>\n",
       "      <td>0.000000</td>\n",
       "      <td>0.284090</td>\n",
       "      <td>0.063676</td>\n",
       "      <td>0.351802</td>\n",
       "      <td>0.000000</td>\n",
       "      <td>0.033764</td>\n",
       "    </tr>\n",
       "    <tr>\n",
       "      <th>1</th>\n",
       "      <td>0.504995</td>\n",
       "      <td>0.058308</td>\n",
       "      <td>0.664449</td>\n",
       "      <td>0.237321</td>\n",
       "      <td>0.039581</td>\n",
       "      <td>0.005937</td>\n",
       "      <td>0.049166</td>\n",
       "      <td>0.000000</td>\n",
       "      <td>1.254678</td>\n",
       "      <td>0.078812</td>\n",
       "      <td>...</td>\n",
       "      <td>0.164999</td>\n",
       "      <td>0.000000</td>\n",
       "      <td>0.000000</td>\n",
       "      <td>0.083740</td>\n",
       "      <td>0.000000</td>\n",
       "      <td>0.406295</td>\n",
       "      <td>0.065145</td>\n",
       "      <td>0.221510</td>\n",
       "      <td>0.000000</td>\n",
       "      <td>0.002794</td>\n",
       "    </tr>\n",
       "    <tr>\n",
       "      <th>2</th>\n",
       "      <td>0.488179</td>\n",
       "      <td>0.631900</td>\n",
       "      <td>0.806425</td>\n",
       "      <td>0.002564</td>\n",
       "      <td>0.239646</td>\n",
       "      <td>0.000000</td>\n",
       "      <td>0.180585</td>\n",
       "      <td>0.000000</td>\n",
       "      <td>0.000000</td>\n",
       "      <td>0.005430</td>\n",
       "      <td>...</td>\n",
       "      <td>0.000000</td>\n",
       "      <td>0.000493</td>\n",
       "      <td>0.033078</td>\n",
       "      <td>0.222200</td>\n",
       "      <td>0.120360</td>\n",
       "      <td>1.212169</td>\n",
       "      <td>0.016469</td>\n",
       "      <td>0.199096</td>\n",
       "      <td>0.000000</td>\n",
       "      <td>0.221078</td>\n",
       "    </tr>\n",
       "    <tr>\n",
       "      <th>3</th>\n",
       "      <td>0.445076</td>\n",
       "      <td>0.589066</td>\n",
       "      <td>0.868678</td>\n",
       "      <td>1.001213</td>\n",
       "      <td>0.000000</td>\n",
       "      <td>0.000000</td>\n",
       "      <td>0.000000</td>\n",
       "      <td>0.000000</td>\n",
       "      <td>0.289268</td>\n",
       "      <td>0.056454</td>\n",
       "      <td>...</td>\n",
       "      <td>0.028041</td>\n",
       "      <td>0.000000</td>\n",
       "      <td>0.000000</td>\n",
       "      <td>0.015100</td>\n",
       "      <td>0.000000</td>\n",
       "      <td>0.851187</td>\n",
       "      <td>0.758568</td>\n",
       "      <td>0.920750</td>\n",
       "      <td>0.000000</td>\n",
       "      <td>0.049915</td>\n",
       "    </tr>\n",
       "    <tr>\n",
       "      <th>4</th>\n",
       "      <td>0.051571</td>\n",
       "      <td>0.134008</td>\n",
       "      <td>0.104889</td>\n",
       "      <td>0.003326</td>\n",
       "      <td>0.196793</td>\n",
       "      <td>0.000000</td>\n",
       "      <td>0.033260</td>\n",
       "      <td>0.060503</td>\n",
       "      <td>0.027409</td>\n",
       "      <td>0.030667</td>\n",
       "      <td>...</td>\n",
       "      <td>0.000000</td>\n",
       "      <td>0.000000</td>\n",
       "      <td>0.000000</td>\n",
       "      <td>0.002754</td>\n",
       "      <td>0.056166</td>\n",
       "      <td>0.047015</td>\n",
       "      <td>0.000000</td>\n",
       "      <td>0.162287</td>\n",
       "      <td>0.004386</td>\n",
       "      <td>0.002144</td>\n",
       "    </tr>\n",
       "  </tbody>\n",
       "</table>\n",
       "<p>5 rows × 2048 columns</p>\n",
       "</div>"
      ],
      "text/plain": [
       "       0         1         2         3         4         5         6     \\\n",
       "0  0.702923  0.495396  1.025385  0.314796  0.000000  0.000000  0.000000   \n",
       "1  0.504995  0.058308  0.664449  0.237321  0.039581  0.005937  0.049166   \n",
       "2  0.488179  0.631900  0.806425  0.002564  0.239646  0.000000  0.180585   \n",
       "3  0.445076  0.589066  0.868678  1.001213  0.000000  0.000000  0.000000   \n",
       "4  0.051571  0.134008  0.104889  0.003326  0.196793  0.000000  0.033260   \n",
       "\n",
       "       7         8         9       ...         2038      2039      2040  \\\n",
       "0  0.000000  0.011628  0.005166    ...     0.000000  0.000000  0.000000   \n",
       "1  0.000000  1.254678  0.078812    ...     0.164999  0.000000  0.000000   \n",
       "2  0.000000  0.000000  0.005430    ...     0.000000  0.000493  0.033078   \n",
       "3  0.000000  0.289268  0.056454    ...     0.028041  0.000000  0.000000   \n",
       "4  0.060503  0.027409  0.030667    ...     0.000000  0.000000  0.000000   \n",
       "\n",
       "       2041      2042      2043      2044      2045      2046      2047  \n",
       "0  0.104676  0.000000  0.284090  0.063676  0.351802  0.000000  0.033764  \n",
       "1  0.083740  0.000000  0.406295  0.065145  0.221510  0.000000  0.002794  \n",
       "2  0.222200  0.120360  1.212169  0.016469  0.199096  0.000000  0.221078  \n",
       "3  0.015100  0.000000  0.851187  0.758568  0.920750  0.000000  0.049915  \n",
       "4  0.002754  0.056166  0.047015  0.000000  0.162287  0.004386  0.002144  \n",
       "\n",
       "[5 rows x 2048 columns]"
      ]
     },
     "execution_count": 45,
     "metadata": {},
     "output_type": "execute_result"
    }
   ],
   "source": [
    "pd.DataFrame(X).head()"
   ]
  },
  {
   "cell_type": "markdown",
   "metadata": {},
   "source": [
    "# 2. Predicting Continuous Indicator"
   ]
  },
  {
   "cell_type": "code",
   "execution_count": 46,
   "metadata": {
    "collapsed": true
   },
   "outputs": [],
   "source": [
    "alphas = np.array([0.01,0.1,1,5,10,20,30,40,50])"
   ]
  },
  {
   "cell_type": "code",
   "execution_count": 47,
   "metadata": {
    "collapsed": true
   },
   "outputs": [],
   "source": [
    "model=Ridge()"
   ]
  },
  {
   "cell_type": "code",
   "execution_count": 48,
   "metadata": {
    "collapsed": true
   },
   "outputs": [],
   "source": [
    "inner_cv = KFold(n_splits=5, shuffle=True, random_state=1673)\n",
    "outer_cv = KFold(n_splits=5, shuffle=True, random_state=75788)"
   ]
  },
  {
   "cell_type": "code",
   "execution_count": 49,
   "metadata": {
    "collapsed": true
   },
   "outputs": [],
   "source": [
    "def r2_pearson(ground_truth, predictions):\n",
    "    r2_pearson=stats.pearsonr(ground_truth, predictions)[0] ** 2\n",
    "    return r2_pearson\n",
    "r2_pearson = make_scorer(r2_pearson, greater_is_better=True)"
   ]
  },
  {
   "cell_type": "code",
   "execution_count": 50,
   "metadata": {
    "collapsed": true
   },
   "outputs": [],
   "source": [
    "#Inner cross-validation loop\n",
    "clf = GridSearchCV(estimator=model, param_grid=dict(alpha=alphas), cv=inner_cv, scoring=r2_pearson)"
   ]
  },
  {
   "cell_type": "markdown",
   "metadata": {},
   "source": [
    "## From PCA Components"
   ]
  },
  {
   "cell_type": "code",
   "execution_count": 34,
   "metadata": {
    "collapsed": true
   },
   "outputs": [],
   "source": [
    "pca = PCA(n_components=10)"
   ]
  },
  {
   "cell_type": "code",
   "execution_count": 35,
   "metadata": {},
   "outputs": [
    {
     "data": {
      "text/plain": [
       "PCA(copy=True, iterated_power='auto', n_components=10, random_state=None,\n",
       "  svd_solver='auto', tol=0.0, whiten=False)"
      ]
     },
     "execution_count": 35,
     "metadata": {},
     "output_type": "execute_result"
    }
   ],
   "source": [
    "pca.fit(data_features.transpose())"
   ]
  },
  {
   "cell_type": "code",
   "execution_count": 36,
   "metadata": {
    "collapsed": true
   },
   "outputs": [],
   "source": [
    "eigenvectors=pca.components_"
   ]
  },
  {
   "cell_type": "code",
   "execution_count": 37,
   "metadata": {},
   "outputs": [
    {
     "data": {
      "text/plain": [
       "(309, 10)"
      ]
     },
     "execution_count": 37,
     "metadata": {},
     "output_type": "execute_result"
    }
   ],
   "source": [
    "X2 = pd.DataFrame(np.transpose(eigenvectors))\n",
    "X2.shape"
   ]
  },
  {
   "cell_type": "code",
   "execution_count": 38,
   "metadata": {},
   "outputs": [
    {
     "data": {
      "image/png": "[encoded data removed]",
      "text/plain": [
       "<matplotlib.figure.Figure at 0x10d9f36a0>"
      ]
     },
     "metadata": {},
     "output_type": "display_data"
    },
    {
     "data": {
      "image/png": "[encoded data removed]",
      "text/plain": [
       "<matplotlib.figure.Figure at 0x11385ec18>"
      ]
     },
     "metadata": {},
     "output_type": "display_data"
    }
   ],
   "source": [
    "for i in range(2):\n",
    "    plt.figure()\n",
    "    plt.scatter(y, eigenvectors[i],  color='black')"
   ]
  },
  {
   "cell_type": "code",
   "execution_count": 39,
   "metadata": {},
   "outputs": [
    {
     "name": "stdout",
     "output_type": "stream",
     "text": [
      "r2 (pearson): 0.44 (+/- 0.07)\n"
     ]
    }
   ],
   "source": [
    "# Outer Loop with r2 (Pearson)\n",
    "r2 = cross_val_score(clf, X, y, cv=outer_cv ,scoring=r2_pearson)\n",
    "print(\"r2 (pearson): %0.2f (+/- %0.2f)\" % (r2.mean(), r2.std() * 2)) "
   ]
  },
  {
   "cell_type": "code",
   "execution_count": 40,
   "metadata": {},
   "outputs": [
    {
     "name": "stdout",
     "output_type": "stream",
     "text": [
      "R2: 0.42 (+/- 0.08)\n"
     ]
    }
   ],
   "source": [
    "# Outer Loop with R2\n",
    "r2 = cross_val_score(clf, X, y, cv=outer_cv ,scoring='r2')\n",
    "print(\"R2: %0.2f (+/- %0.2f)\" % (r2.mean(), r2.std() * 2))"
   ]
  },
  {
   "cell_type": "code",
   "execution_count": 41,
   "metadata": {},
   "outputs": [
    {
     "data": {
      "image/png": "[encoded data removed]",
      "text/plain": [
       "<matplotlib.figure.Figure at 0x113282198>"
      ]
     },
     "metadata": {},
     "output_type": "display_data"
    }
   ],
   "source": [
    "y_hat = cross_val_predict(clf, X2, y, cv=outer_cv)\n",
    "fig, ax = plt.subplots()\n",
    "ax.scatter(y, y_hat, edgecolors=(0, 0, 0))\n",
    "ax.plot([y.min(), y.max()], [y.min(), y.max()], 'k--')\n",
    "ax.set_xlabel('Log consumption expenditures')\n",
    "ax.set_ylabel('Model predictions')\n",
    "plt.show()"
   ]
  },
  {
   "cell_type": "markdown",
   "metadata": {},
   "source": [
    "## From all (4096) features"
   ]
  },
  {
   "cell_type": "code",
   "execution_count": 51,
   "metadata": {
    "collapsed": true
   },
   "outputs": [],
   "source": [
    "alphas = np.array([1,5,10,20,30,40,50])"
   ]
  },
  {
   "cell_type": "code",
   "execution_count": 52,
   "metadata": {},
   "outputs": [
    {
     "name": "stdout",
     "output_type": "stream",
     "text": [
      "r2 (pearson): 0.27 (+/- 0.08)\n"
     ]
    }
   ],
   "source": [
    "# Outer Loop with r2 (Pearson)\n",
    "r2 = cross_val_score(clf, X, y, cv=outer_cv ,scoring=r2_pearson)\n",
    "print(\"r2 (pearson): %0.2f (+/- %0.2f)\" % (r2.mean(), r2.std() * 2))"
   ]
  },
  {
   "cell_type": "code",
   "execution_count": 53,
   "metadata": {},
   "outputs": [
    {
     "data": {
      "text/plain": [
       "array([ 0.32164875,  0.24431153,  0.29261055,  0.2027855 ,  0.26800015])"
      ]
     },
     "execution_count": 53,
     "metadata": {},
     "output_type": "execute_result"
    }
   ],
   "source": [
    "r2"
   ]
  },
  {
   "cell_type": "code",
   "execution_count": 54,
   "metadata": {},
   "outputs": [
    {
     "name": "stdout",
     "output_type": "stream",
     "text": [
      "R2: 0.19 (+/- 0.14)\n"
     ]
    }
   ],
   "source": [
    "# Outer Loop with R2\n",
    "R2 = cross_val_score(clf, X, y, cv=outer_cv ,scoring='r2')\n",
    "print(\"R2: %0.2f (+/- %0.2f)\" % (R2.mean(), R2.std() * 2))"
   ]
  },
  {
   "cell_type": "code",
   "execution_count": 55,
   "metadata": {},
   "outputs": [
    {
     "data": {
      "text/plain": [
       "array([ 0.28538672,  0.19973528,  0.22829268,  0.08810981,  0.13443399])"
      ]
     },
     "execution_count": 55,
     "metadata": {},
     "output_type": "execute_result"
    }
   ],
   "source": [
    "R2"
   ]
  },
  {
   "cell_type": "code",
   "execution_count": 56,
   "metadata": {},
   "outputs": [
    {
     "name": "stdout",
     "output_type": "stream",
     "text": [
      "neg_mean_squared_error: 0.32 (+/- 0.11)\n"
     ]
    }
   ],
   "source": [
    "neg_mean_squared_error = cross_val_score(clf, X, y, cv=outer_cv,scoring='neg_mean_squared_error')\n",
    "print(\"neg_mean_squared_error: %0.2f (+/- %0.2f)\" % (-neg_mean_squared_error.mean(), neg_mean_squared_error.std() * 2)) "
   ]
  },
  {
   "cell_type": "code",
   "execution_count": 57,
   "metadata": {},
   "outputs": [
    {
     "data": {
      "text/plain": [
       "array([ 0.29554184,  0.42182293,  0.28796173,  0.34340098,  0.27132857])"
      ]
     },
     "execution_count": 57,
     "metadata": {},
     "output_type": "execute_result"
    }
   ],
   "source": [
    "-neg_mean_squared_error"
   ]
  },
  {
   "cell_type": "code",
   "execution_count": 58,
   "metadata": {},
   "outputs": [
    {
     "data": {
      "image/png": "[encoded data removed]",
      "text/plain": [
       "<matplotlib.figure.Figure at 0x1077f9ef0>"
      ]
     },
     "metadata": {},
     "output_type": "display_data"
    }
   ],
   "source": [
    "y_hat = cross_val_predict(clf, X, y, cv=outer_cv)\n",
    "fig, ax = plt.subplots()\n",
    "ax.scatter(y, y_hat, edgecolors=(0, 0, 0))\n",
    "ax.plot([y.min(), y.max()], [y.min(), y.max()], 'k--')\n",
    "ax.set_xlabel('Log consumption expenditures')\n",
    "ax.set_ylabel('Model predictions')\n",
    "plt.show()"
   ]
  },
  {
   "cell_type": "code",
   "execution_count": 59,
   "metadata": {},
   "outputs": [
    {
     "data": {
      "text/plain": [
       "0.20208833981996588"
      ]
     },
     "execution_count": 59,
     "metadata": {},
     "output_type": "execute_result"
    }
   ],
   "source": [
    "r2_score(y,y_hat)"
   ]
  },
  {
   "cell_type": "code",
   "execution_count": 60,
   "metadata": {},
   "outputs": [
    {
     "data": {
      "text/plain": [
       "0.24859607770797726"
      ]
     },
     "execution_count": 60,
     "metadata": {},
     "output_type": "execute_result"
    }
   ],
   "source": [
    "stats.pearsonr(y,y_hat)[0] ** 2"
   ]
  },
  {
   "cell_type": "markdown",
   "metadata": {},
   "source": [
    "# 3. Predicting Dummy Indicator from all features"
   ]
  },
  {
   "cell_type": "code",
   "execution_count": 52,
   "metadata": {},
   "outputs": [
    {
     "data": {
      "text/plain": [
       "LogisticRegression(C=1.0, class_weight=None, dual=False, fit_intercept=True,\n",
       "          intercept_scaling=1, max_iter=100, multi_class='ovr', n_jobs=1,\n",
       "          penalty='l2', random_state=None, solver='liblinear', tol=0.0001,\n",
       "          verbose=0, warm_start=False)"
      ]
     },
     "execution_count": 52,
     "metadata": {},
     "output_type": "execute_result"
    }
   ],
   "source": [
    "model = linear_model.LogisticRegression(penalty=\"l2\")\n",
    "model.fit(X, y2) "
   ]
  },
  {
   "cell_type": "code",
   "execution_count": 53,
   "metadata": {
    "collapsed": true
   },
   "outputs": [],
   "source": [
    "cv = KFold(n_splits=10, shuffle=True, random_state=167)"
   ]
  },
  {
   "cell_type": "code",
   "execution_count": 54,
   "metadata": {
    "collapsed": true
   },
   "outputs": [],
   "source": [
    "accuracy = cross_val_score(model, X, y2, cv=cv)\n",
    "f1 = cross_val_score(model, X, y2, cv=cv,scoring='f1')\n",
    "precision = cross_val_score(model, X, y2, cv=cv,scoring='precision')\n",
    "recall= cross_val_score(model, X, y2, cv=cv,scoring='recall')\n",
    "auc= cross_val_score(model, X, y2, cv=cv,scoring='roc_auc')\n",
    "confusion= cross_val_score(model, X, y2, cv=cv,scoring='roc_auc')"
   ]
  },
  {
   "cell_type": "code",
   "execution_count": 55,
   "metadata": {},
   "outputs": [
    {
     "name": "stdout",
     "output_type": "stream",
     "text": [
      "Accuracy: 0.79 (+/- 0.12)\n",
      "F1: 0.47 (+/- 0.22)\n",
      "Precision: 0.68 (+/- 0.34)\n",
      "Recall: 0.38 (+/- 0.25)\n",
      "AUC: 0.80 (+/- 0.14)\n"
     ]
    }
   ],
   "source": [
    "scores = cross_val_score(model, X, y2, cv=10,scoring='precision')\n",
    "accuracy_print=(\"Accuracy: %0.2f (+/- %0.2f)\" % (accuracy.mean(), accuracy.std() * 2))\n",
    "f1_print=(\"F1: %0.2f (+/- %0.2f)\" % (f1.mean(), f1.std() * 2))\n",
    "precision_print=(\"Precision: %0.2f (+/- %0.2f)\" % (precision.mean(), precision.std() * 2))\n",
    "recall_print=(\"Recall: %0.2f (+/- %0.2f)\" % (recall.mean(), recall.std() * 2))\n",
    "auc_print=(\"AUC: %0.2f (+/- %0.2f)\" % (auc.mean(), auc.std() * 2))\n",
    "print(os.linesep.join([accuracy_print,f1_print,precision_print,recall_print,auc_print]))"
   ]
  },
  {
   "cell_type": "code",
   "execution_count": 56,
   "metadata": {},
   "outputs": [
    {
     "data": {
      "text/plain": [
       "count    309.000000\n",
       "mean       0.258900\n",
       "std        0.438741\n",
       "min        0.000000\n",
       "25%        0.000000\n",
       "50%        0.000000\n",
       "75%        1.000000\n",
       "max        1.000000\n",
       "Name: poor_majority, dtype: float64"
      ]
     },
     "execution_count": 56,
     "metadata": {},
     "output_type": "execute_result"
    }
   ],
   "source": [
    "y2.describe()"
   ]
  },
  {
   "cell_type": "code",
   "execution_count": null,
   "metadata": {
    "collapsed": true
   },
   "outputs": [],
   "source": []
  }
 ],
 "metadata": {
  "kernelspec": {
   "display_name": "Python 3",
   "language": "python",
   "name": "python3"
  },
  "language_info": {
   "codemirror_mode": {
    "name": "ipython",
    "version": 3
   },
   "file_extension": ".py",
   "mimetype": "text/x-python",
   "name": "python",
   "nbconvert_exporter": "python",
   "pygments_lexer": "ipython3",
   "version": "3.5.4"
  }
 },
 "nbformat": 4,
 "nbformat_minor": 1
}
