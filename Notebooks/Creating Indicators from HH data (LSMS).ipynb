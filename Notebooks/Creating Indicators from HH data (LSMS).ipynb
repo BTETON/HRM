{
 "cells": [
  {
   "cell_type": "code",
   "execution_count": 52,
   "metadata": {
    "collapsed": true
   },
   "outputs": [],
   "source": [
    "#https://github.com/nealjean/predicting-poverty/blob/master/scripts/ProcessSurveyData.R\n",
    "#https://github.com/nealjean/predicting-poverty/blob/master/scripts/Fig1.R"
   ]
  },
  {
   "cell_type": "code",
   "execution_count": 53,
   "metadata": {
    "collapsed": true
   },
   "outputs": [],
   "source": [
    "import pandas as pd\n",
    "import numpy as np\n",
    "import matplotlib.pyplot as plt\n",
    "%matplotlib inline\n",
    "import gdal\n",
    "import utils "
   ]
  },
  {
   "cell_type": "code",
   "execution_count": 54,
   "metadata": {
    "collapsed": true
   },
   "outputs": [],
   "source": [
    "hh_data_2013=pd.read_csv(\"../Data/HH/WB/UGA_2013_UNPS_v01_M_CSV/agsec1.csv\")"
   ]
  },
  {
   "cell_type": "code",
   "execution_count": 55,
   "metadata": {
    "collapsed": false
   },
   "outputs": [],
   "source": [
    "hh_data_2011_cons=pd.read_stata(\"../Data/HH/WB/UGA_2011_UNPS_v01_M_STATA/UNPS 2011-12 Consumption Aggregate.dta\")[[\"HHID\",\"welfare\",\"poor\"]]\n",
    "hh_data_2011_coords=pd.read_stata(\"../Data/HH/WB/UGA_2011_UNPS_v01_M_STATA/UNPS_Geovars_1112.dta\")[[\"HHID\",\"lat_mod\",\"lon_mod\",\"urban\"]]\n",
    "#http://microdata.worldbank.org/index.php/catalog/2059/datafile/F70\n",
    "hh_data_2011_weights=pd.read_stata(\"../Data/HH/WB/UGA_2011_UNPS_v01_M_STATA/GSEC1.dta\")[[\"HHID\",\"comm\",\"mult\"]]\n",
    "hh_data_2011_assets=pd.read_stata(\"../Data/HH/WB/UGA_2011_UNPS_v01_M_STATA/GSEC9A.dta\")[[\"HHID\",\"h9q3\",\"h9q4\"]]"
   ]
  },
  {
   "cell_type": "code",
   "execution_count": 56,
   "metadata": {
    "collapsed": false
   },
   "outputs": [],
   "source": [
    "hh_data_2011=hh_data_2011_cons.merge(hh_data_2011_coords).merge(hh_data_2011_weights).merge(hh_data_2011_assets)"
   ]
  },
  {
   "cell_type": "code",
   "execution_count": 57,
   "metadata": {
    "collapsed": true
   },
   "outputs": [],
   "source": [
    "hh_data_2011[\"cons\"] = hh_data_2011[\"welfare\"]*118.69/(30*946.89*np.mean([66.68, 71.55]))"
   ]
  },
  {
   "cell_type": "code",
   "execution_count": 58,
   "metadata": {
    "collapsed": false,
    "scrolled": true
   },
   "outputs": [
    {
     "data": {
      "text/html": [
       "<div>\n",
       "<style>\n",
       "    .dataframe thead tr:only-child th {\n",
       "        text-align: right;\n",
       "    }\n",
       "\n",
       "    .dataframe thead th {\n",
       "        text-align: left;\n",
       "    }\n",
       "\n",
       "    .dataframe tbody tr th {\n",
       "        vertical-align: top;\n",
       "    }\n",
       "</style>\n",
       "<table border=\"1\" class=\"dataframe\">\n",
       "  <thead>\n",
       "    <tr style=\"text-align: right;\">\n",
       "      <th></th>\n",
       "      <th>HHID</th>\n",
       "      <th>welfare</th>\n",
       "      <th>poor</th>\n",
       "      <th>lat_mod</th>\n",
       "      <th>lon_mod</th>\n",
       "      <th>urban</th>\n",
       "      <th>comm</th>\n",
       "      <th>mult</th>\n",
       "      <th>h9q3</th>\n",
       "      <th>h9q4</th>\n",
       "      <th>cons</th>\n",
       "    </tr>\n",
       "  </thead>\n",
       "  <tbody>\n",
       "    <tr>\n",
       "      <th>0</th>\n",
       "      <td>1013000201</td>\n",
       "      <td>134629.437500</td>\n",
       "      <td>0.0</td>\n",
       "      <td>-0.530627</td>\n",
       "      <td>32.327492</td>\n",
       "      <td>Rural</td>\n",
       "      <td>10130002</td>\n",
       "      <td>1329.515991</td>\n",
       "      <td>2.0</td>\n",
       "      <td>Iron sheets</td>\n",
       "      <td>8.138813</td>\n",
       "    </tr>\n",
       "    <tr>\n",
       "      <th>1</th>\n",
       "      <td>1013000202</td>\n",
       "      <td>27919.814453</td>\n",
       "      <td>1.0</td>\n",
       "      <td>NaN</td>\n",
       "      <td>NaN</td>\n",
       "      <td>Rural</td>\n",
       "      <td>10130002</td>\n",
       "      <td>7844.594727</td>\n",
       "      <td>1.0</td>\n",
       "      <td>Iron sheets</td>\n",
       "      <td>1.687849</td>\n",
       "    </tr>\n",
       "    <tr>\n",
       "      <th>2</th>\n",
       "      <td>1013000204</td>\n",
       "      <td>39011.269531</td>\n",
       "      <td>0.0</td>\n",
       "      <td>-0.530627</td>\n",
       "      <td>32.327492</td>\n",
       "      <td>Rural</td>\n",
       "      <td>10130002</td>\n",
       "      <td>2659.031982</td>\n",
       "      <td>1.0</td>\n",
       "      <td>Iron sheets</td>\n",
       "      <td>2.358365</td>\n",
       "    </tr>\n",
       "    <tr>\n",
       "      <th>3</th>\n",
       "      <td>1013000206</td>\n",
       "      <td>66898.429688</td>\n",
       "      <td>0.0</td>\n",
       "      <td>0.289081</td>\n",
       "      <td>32.560650</td>\n",
       "      <td>Rural</td>\n",
       "      <td>10130002</td>\n",
       "      <td>891.622498</td>\n",
       "      <td>1.0</td>\n",
       "      <td>Iron sheets</td>\n",
       "      <td>4.044240</td>\n",
       "    </tr>\n",
       "    <tr>\n",
       "      <th>4</th>\n",
       "      <td>1013000210</td>\n",
       "      <td>112471.296875</td>\n",
       "      <td>0.0</td>\n",
       "      <td>-0.530627</td>\n",
       "      <td>32.327492</td>\n",
       "      <td>Rural</td>\n",
       "      <td>10130002</td>\n",
       "      <td>1624.854736</td>\n",
       "      <td>1.0</td>\n",
       "      <td>Iron sheets</td>\n",
       "      <td>6.799277</td>\n",
       "    </tr>\n",
       "  </tbody>\n",
       "</table>\n",
       "</div>"
      ],
      "text/plain": [
       "         HHID        welfare  poor   lat_mod    lon_mod  urban      comm  \\\n",
       "0  1013000201  134629.437500   0.0 -0.530627  32.327492  Rural  10130002   \n",
       "1  1013000202   27919.814453   1.0       NaN        NaN  Rural  10130002   \n",
       "2  1013000204   39011.269531   0.0 -0.530627  32.327492  Rural  10130002   \n",
       "3  1013000206   66898.429688   0.0  0.289081  32.560650  Rural  10130002   \n",
       "4  1013000210  112471.296875   0.0 -0.530627  32.327492  Rural  10130002   \n",
       "\n",
       "          mult  h9q3         h9q4      cons  \n",
       "0  1329.515991   2.0  Iron sheets  8.138813  \n",
       "1  7844.594727   1.0  Iron sheets  1.687849  \n",
       "2  2659.031982   1.0  Iron sheets  2.358365  \n",
       "3   891.622498   1.0  Iron sheets  4.044240  \n",
       "4  1624.854736   1.0  Iron sheets  6.799277  "
      ]
     },
     "execution_count": 58,
     "metadata": {},
     "output_type": "execute_result"
    }
   ],
   "source": [
    "hh_data_2011.head()"
   ]
  },
  {
   "cell_type": "code",
   "execution_count": 59,
   "metadata": {
    "collapsed": false
   },
   "outputs": [
    {
     "data": {
      "text/plain": [
       "644"
      ]
     },
     "execution_count": 59,
     "metadata": {},
     "output_type": "execute_result"
    }
   ],
   "source": [
    "len(hh_data_2011[\"lat_mod\"].unique())"
   ]
  },
  {
   "cell_type": "code",
   "execution_count": 60,
   "metadata": {
    "collapsed": false
   },
   "outputs": [
    {
     "data": {
      "text/plain": [
       "320"
      ]
     },
     "execution_count": 60,
     "metadata": {},
     "output_type": "execute_result"
    }
   ],
   "source": [
    "len(hh_data_2011[\"comm\"].unique())"
   ]
  },
  {
   "cell_type": "code",
   "execution_count": 61,
   "metadata": {
    "collapsed": false
   },
   "outputs": [],
   "source": [
    "hh_data_2011_cluster=hh_data_2011.groupby([\"lat_mod\",\"lon_mod\"])[[\"cons\",\"poor\"]].agg([\"mean\",\"count\"]).reset_index()"
   ]
  },
  {
   "cell_type": "code",
   "execution_count": 62,
   "metadata": {
    "collapsed": false
   },
   "outputs": [
    {
     "data": {
      "text/html": [
       "<div>\n",
       "<style>\n",
       "    .dataframe thead tr:only-child th {\n",
       "        text-align: right;\n",
       "    }\n",
       "\n",
       "    .dataframe thead th {\n",
       "        text-align: left;\n",
       "    }\n",
       "\n",
       "    .dataframe tbody tr th {\n",
       "        vertical-align: top;\n",
       "    }\n",
       "</style>\n",
       "<table border=\"1\" class=\"dataframe\">\n",
       "  <thead>\n",
       "    <tr>\n",
       "      <th></th>\n",
       "      <th>lat_mod</th>\n",
       "      <th>lon_mod</th>\n",
       "      <th colspan=\"2\" halign=\"left\">cons</th>\n",
       "      <th colspan=\"2\" halign=\"left\">poor</th>\n",
       "    </tr>\n",
       "    <tr>\n",
       "      <th></th>\n",
       "      <th></th>\n",
       "      <th></th>\n",
       "      <th>mean</th>\n",
       "      <th>count</th>\n",
       "      <th>mean</th>\n",
       "      <th>count</th>\n",
       "    </tr>\n",
       "  </thead>\n",
       "  <tbody>\n",
       "    <tr>\n",
       "      <th>0</th>\n",
       "      <td>-1.467934</td>\n",
       "      <td>29.923145</td>\n",
       "      <td>2.801498</td>\n",
       "      <td>1</td>\n",
       "      <td>0.000000</td>\n",
       "      <td>1</td>\n",
       "    </tr>\n",
       "    <tr>\n",
       "      <th>1</th>\n",
       "      <td>-1.404995</td>\n",
       "      <td>29.949390</td>\n",
       "      <td>2.316352</td>\n",
       "      <td>12</td>\n",
       "      <td>0.250000</td>\n",
       "      <td>12</td>\n",
       "    </tr>\n",
       "    <tr>\n",
       "      <th>2</th>\n",
       "      <td>-1.380214</td>\n",
       "      <td>30.010633</td>\n",
       "      <td>2.361590</td>\n",
       "      <td>2</td>\n",
       "      <td>0.500000</td>\n",
       "      <td>2</td>\n",
       "    </tr>\n",
       "    <tr>\n",
       "      <th>3</th>\n",
       "      <td>-1.340851</td>\n",
       "      <td>29.768257</td>\n",
       "      <td>1.594851</td>\n",
       "      <td>11</td>\n",
       "      <td>0.545455</td>\n",
       "      <td>11</td>\n",
       "    </tr>\n",
       "    <tr>\n",
       "      <th>4</th>\n",
       "      <td>-1.255216</td>\n",
       "      <td>30.056820</td>\n",
       "      <td>3.852909</td>\n",
       "      <td>10</td>\n",
       "      <td>0.300000</td>\n",
       "      <td>10</td>\n",
       "    </tr>\n",
       "  </tbody>\n",
       "</table>\n",
       "</div>"
      ],
      "text/plain": [
       "    lat_mod    lon_mod      cons            poor      \n",
       "                            mean count      mean count\n",
       "0 -1.467934  29.923145  2.801498     1  0.000000     1\n",
       "1 -1.404995  29.949390  2.316352    12  0.250000    12\n",
       "2 -1.380214  30.010633  2.361590     2  0.500000     2\n",
       "3 -1.340851  29.768257  1.594851    11  0.545455    11\n",
       "4 -1.255216  30.056820  3.852909    10  0.300000    10"
      ]
     },
     "execution_count": 62,
     "metadata": {},
     "output_type": "execute_result"
    }
   ],
   "source": [
    "hh_data_2011_cluster.head()"
   ]
  },
  {
   "cell_type": "code",
   "execution_count": 63,
   "metadata": {
    "collapsed": false
   },
   "outputs": [],
   "source": [
    "hh_data_2011_cluster.columns=[\"gpsLatitude\",\"gpsLongitude\",\"cons\",\"n\",\"poor\",\"n2\"]"
   ]
  },
  {
   "cell_type": "code",
   "execution_count": 64,
   "metadata": {
    "collapsed": false
   },
   "outputs": [],
   "source": [
    "hh_data_2011_cluster_minHH=hh_data_2011_cluster[hh_data_2011_cluster[\"n\"]>2]"
   ]
  },
  {
   "cell_type": "code",
   "execution_count": 65,
   "metadata": {
    "collapsed": false
   },
   "outputs": [
    {
     "name": "stderr",
     "output_type": "stream",
     "text": [
      "/Users/pasquierjb/anaconda/lib/python2.7/site-packages/ipykernel/__main__.py:1: SettingWithCopyWarning: \n",
      "A value is trying to be set on a copy of a slice from a DataFrame.\n",
      "Try using .loc[row_indexer,col_indexer] = value instead\n",
      "\n",
      "See the caveats in the documentation: http://pandas.pydata.org/pandas-docs/stable/indexing.html#indexing-view-versus-copy\n",
      "  if __name__ == '__main__':\n"
     ]
    }
   ],
   "source": [
    "hh_data_2011_cluster_minHH[\"poor_majority\"]= np.where(hh_data_2011_cluster_minHH['poor']>=0.5, 1, 0)\n",
    "hh_data_2011_cluster[\"poor_majority\"]= np.where(hh_data_2011_cluster['poor']>=0.5, 1, 0)"
   ]
  },
  {
   "cell_type": "code",
   "execution_count": 66,
   "metadata": {
    "collapsed": false
   },
   "outputs": [
    {
     "data": {
      "text/html": [
       "<div>\n",
       "<style>\n",
       "    .dataframe thead tr:only-child th {\n",
       "        text-align: right;\n",
       "    }\n",
       "\n",
       "    .dataframe thead th {\n",
       "        text-align: left;\n",
       "    }\n",
       "\n",
       "    .dataframe tbody tr th {\n",
       "        vertical-align: top;\n",
       "    }\n",
       "</style>\n",
       "<table border=\"1\" class=\"dataframe\">\n",
       "  <thead>\n",
       "    <tr style=\"text-align: right;\">\n",
       "      <th></th>\n",
       "      <th>gpsLatitude</th>\n",
       "      <th>gpsLongitude</th>\n",
       "      <th>cons</th>\n",
       "      <th>n</th>\n",
       "      <th>poor</th>\n",
       "      <th>n2</th>\n",
       "      <th>poor_majority</th>\n",
       "    </tr>\n",
       "  </thead>\n",
       "  <tbody>\n",
       "    <tr>\n",
       "      <th>1</th>\n",
       "      <td>-1.404995</td>\n",
       "      <td>29.949390</td>\n",
       "      <td>2.316352</td>\n",
       "      <td>12</td>\n",
       "      <td>0.250000</td>\n",
       "      <td>12</td>\n",
       "      <td>0</td>\n",
       "    </tr>\n",
       "    <tr>\n",
       "      <th>3</th>\n",
       "      <td>-1.340851</td>\n",
       "      <td>29.768257</td>\n",
       "      <td>1.594851</td>\n",
       "      <td>11</td>\n",
       "      <td>0.545455</td>\n",
       "      <td>11</td>\n",
       "      <td>1</td>\n",
       "    </tr>\n",
       "    <tr>\n",
       "      <th>4</th>\n",
       "      <td>-1.255216</td>\n",
       "      <td>30.056820</td>\n",
       "      <td>3.852909</td>\n",
       "      <td>10</td>\n",
       "      <td>0.300000</td>\n",
       "      <td>10</td>\n",
       "      <td>0</td>\n",
       "    </tr>\n",
       "    <tr>\n",
       "      <th>5</th>\n",
       "      <td>-1.241430</td>\n",
       "      <td>29.961166</td>\n",
       "      <td>2.776385</td>\n",
       "      <td>8</td>\n",
       "      <td>0.500000</td>\n",
       "      <td>8</td>\n",
       "      <td>1</td>\n",
       "    </tr>\n",
       "    <tr>\n",
       "      <th>8</th>\n",
       "      <td>-1.166219</td>\n",
       "      <td>29.794294</td>\n",
       "      <td>2.971421</td>\n",
       "      <td>7</td>\n",
       "      <td>0.142857</td>\n",
       "      <td>7</td>\n",
       "      <td>0</td>\n",
       "    </tr>\n",
       "  </tbody>\n",
       "</table>\n",
       "</div>"
      ],
      "text/plain": [
       "   gpsLatitude  gpsLongitude      cons   n      poor  n2  poor_majority\n",
       "1    -1.404995     29.949390  2.316352  12  0.250000  12              0\n",
       "3    -1.340851     29.768257  1.594851  11  0.545455  11              1\n",
       "4    -1.255216     30.056820  3.852909  10  0.300000  10              0\n",
       "5    -1.241430     29.961166  2.776385   8  0.500000   8              1\n",
       "8    -1.166219     29.794294  2.971421   7  0.142857   7              0"
      ]
     },
     "execution_count": 66,
     "metadata": {},
     "output_type": "execute_result"
    }
   ],
   "source": [
    "hh_data_2011_cluster_minHH.head()"
   ]
  },
  {
   "cell_type": "code",
   "execution_count": 67,
   "metadata": {
    "collapsed": false
   },
   "outputs": [
    {
     "data": {
      "text/plain": [
       "count    309.000000\n",
       "mean       0.258900\n",
       "std        0.438741\n",
       "min        0.000000\n",
       "25%        0.000000\n",
       "50%        0.000000\n",
       "75%        1.000000\n",
       "max        1.000000\n",
       "Name: poor_majority, dtype: float64"
      ]
     },
     "execution_count": 67,
     "metadata": {},
     "output_type": "execute_result"
    }
   ],
   "source": [
    "hh_data_2011_cluster_minHH[\"poor_majority\"].describe()"
   ]
  },
  {
   "cell_type": "code",
   "execution_count": 68,
   "metadata": {
    "collapsed": false
   },
   "outputs": [
    {
     "data": {
      "text/html": [
       "<div>\n",
       "<style>\n",
       "    .dataframe thead tr:only-child th {\n",
       "        text-align: right;\n",
       "    }\n",
       "\n",
       "    .dataframe thead th {\n",
       "        text-align: left;\n",
       "    }\n",
       "\n",
       "    .dataframe tbody tr th {\n",
       "        vertical-align: top;\n",
       "    }\n",
       "</style>\n",
       "<table border=\"1\" class=\"dataframe\">\n",
       "  <thead>\n",
       "    <tr style=\"text-align: right;\">\n",
       "      <th></th>\n",
       "      <th>gpsLatitude</th>\n",
       "      <th>gpsLongitude</th>\n",
       "      <th>cons</th>\n",
       "      <th>n</th>\n",
       "      <th>poor</th>\n",
       "      <th>n2</th>\n",
       "      <th>poor_majority</th>\n",
       "    </tr>\n",
       "  </thead>\n",
       "  <tbody>\n",
       "    <tr>\n",
       "      <th>count</th>\n",
       "      <td>643.000000</td>\n",
       "      <td>643.000000</td>\n",
       "      <td>643.000000</td>\n",
       "      <td>643.000000</td>\n",
       "      <td>643.000000</td>\n",
       "      <td>643.000000</td>\n",
       "      <td>643.000000</td>\n",
       "    </tr>\n",
       "    <tr>\n",
       "      <th>mean</th>\n",
       "      <td>1.092666</td>\n",
       "      <td>32.301621</td>\n",
       "      <td>17.255239</td>\n",
       "      <td>4.245723</td>\n",
       "      <td>0.260105</td>\n",
       "      <td>4.245723</td>\n",
       "      <td>0.247278</td>\n",
       "    </tr>\n",
       "    <tr>\n",
       "      <th>std</th>\n",
       "      <td>1.186202</td>\n",
       "      <td>1.202996</td>\n",
       "      <td>300.837372</td>\n",
       "      <td>3.702145</td>\n",
       "      <td>0.349122</td>\n",
       "      <td>3.702145</td>\n",
       "      <td>0.431766</td>\n",
       "    </tr>\n",
       "    <tr>\n",
       "      <th>min</th>\n",
       "      <td>-1.467934</td>\n",
       "      <td>29.591431</td>\n",
       "      <td>0.550981</td>\n",
       "      <td>1.000000</td>\n",
       "      <td>0.000000</td>\n",
       "      <td>1.000000</td>\n",
       "      <td>0.000000</td>\n",
       "    </tr>\n",
       "    <tr>\n",
       "      <th>25%</th>\n",
       "      <td>0.323981</td>\n",
       "      <td>31.352619</td>\n",
       "      <td>2.038090</td>\n",
       "      <td>1.000000</td>\n",
       "      <td>0.000000</td>\n",
       "      <td>1.000000</td>\n",
       "      <td>0.000000</td>\n",
       "    </tr>\n",
       "    <tr>\n",
       "      <th>50%</th>\n",
       "      <td>0.721441</td>\n",
       "      <td>32.542141</td>\n",
       "      <td>3.094604</td>\n",
       "      <td>1.000000</td>\n",
       "      <td>0.000000</td>\n",
       "      <td>1.000000</td>\n",
       "      <td>0.000000</td>\n",
       "    </tr>\n",
       "    <tr>\n",
       "      <th>75%</th>\n",
       "      <td>2.141683</td>\n",
       "      <td>33.110289</td>\n",
       "      <td>5.089162</td>\n",
       "      <td>8.000000</td>\n",
       "      <td>0.449495</td>\n",
       "      <td>8.000000</td>\n",
       "      <td>0.000000</td>\n",
       "    </tr>\n",
       "    <tr>\n",
       "      <th>max</th>\n",
       "      <td>3.692567</td>\n",
       "      <td>34.857117</td>\n",
       "      <td>7594.117188</td>\n",
       "      <td>14.000000</td>\n",
       "      <td>1.000000</td>\n",
       "      <td>14.000000</td>\n",
       "      <td>1.000000</td>\n",
       "    </tr>\n",
       "  </tbody>\n",
       "</table>\n",
       "</div>"
      ],
      "text/plain": [
       "       gpsLatitude  gpsLongitude         cons           n        poor  \\\n",
       "count   643.000000    643.000000   643.000000  643.000000  643.000000   \n",
       "mean      1.092666     32.301621    17.255239    4.245723    0.260105   \n",
       "std       1.186202      1.202996   300.837372    3.702145    0.349122   \n",
       "min      -1.467934     29.591431     0.550981    1.000000    0.000000   \n",
       "25%       0.323981     31.352619     2.038090    1.000000    0.000000   \n",
       "50%       0.721441     32.542141     3.094604    1.000000    0.000000   \n",
       "75%       2.141683     33.110289     5.089162    8.000000    0.449495   \n",
       "max       3.692567     34.857117  7594.117188   14.000000    1.000000   \n",
       "\n",
       "               n2  poor_majority  \n",
       "count  643.000000     643.000000  \n",
       "mean     4.245723       0.247278  \n",
       "std      3.702145       0.431766  \n",
       "min      1.000000       0.000000  \n",
       "25%      1.000000       0.000000  \n",
       "50%      1.000000       0.000000  \n",
       "75%      8.000000       0.000000  \n",
       "max     14.000000       1.000000  "
      ]
     },
     "execution_count": 68,
     "metadata": {},
     "output_type": "execute_result"
    }
   ],
   "source": [
    "hh_data_2011_cluster.describe()"
   ]
  },
  {
   "cell_type": "code",
   "execution_count": 69,
   "metadata": {
    "collapsed": false
   },
   "outputs": [],
   "source": [
    "raster_file = '../Data/Satellite/NightLight/F182013.v4c_web.stable_lights.avg_vis.tif'\n",
    "x_size, top_left_x_coords, top_left_y_coords, centroid_x_coords, centroid_y_coords, bands_data = utils.read_raster(raster_file)"
   ]
  },
  {
   "cell_type": "code",
   "execution_count": 70,
   "metadata": {
    "collapsed": true
   },
   "outputs": [],
   "source": [
    "def get_lon_idx(lon):\n",
    "    lon_idx = np.where(top_left_x_coords < lon)[0][-1]\n",
    "    return lon_idx\n",
    "def get_lat_idx(lat):\n",
    "    lat_idx = np.where(top_left_y_coords > lat)[0][-1]\n",
    "    return lat_idx"
   ]
  },
  {
   "cell_type": "code",
   "execution_count": 71,
   "metadata": {
    "collapsed": false
   },
   "outputs": [
    {
     "name": "stderr",
     "output_type": "stream",
     "text": [
      "/Users/pasquierjb/anaconda/lib/python2.7/site-packages/ipykernel/__main__.py:1: SettingWithCopyWarning: \n",
      "A value is trying to be set on a copy of a slice from a DataFrame.\n",
      "Try using .loc[row_indexer,col_indexer] = value instead\n",
      "\n",
      "See the caveats in the documentation: http://pandas.pydata.org/pandas-docs/stable/indexing.html#indexing-view-versus-copy\n",
      "  if __name__ == '__main__':\n",
      "/Users/pasquierjb/anaconda/lib/python2.7/site-packages/ipykernel/__main__.py:2: SettingWithCopyWarning: \n",
      "A value is trying to be set on a copy of a slice from a DataFrame.\n",
      "Try using .loc[row_indexer,col_indexer] = value instead\n",
      "\n",
      "See the caveats in the documentation: http://pandas.pydata.org/pandas-docs/stable/indexing.html#indexing-view-versus-copy\n",
      "  from ipykernel import kernelapp as app\n"
     ]
    }
   ],
   "source": [
    "hh_data_2011_cluster_minHH[\"i\"]=hh_data_2011_cluster_minHH[\"gpsLongitude\"].apply(get_lon_idx)\n",
    "hh_data_2011_cluster_minHH[\"j\"]=hh_data_2011_cluster_minHH[\"gpsLatitude\"].apply(get_lat_idx)"
   ]
  },
  {
   "cell_type": "code",
   "execution_count": 72,
   "metadata": {
    "collapsed": false
   },
   "outputs": [],
   "source": [
    "hh_data_2011_cluster_minHH.to_csv(\"../Data/Intermediate_files/hh_data_2011_cluster_minHH.csv\")"
   ]
  },
  {
   "cell_type": "code",
   "execution_count": null,
   "metadata": {
    "collapsed": true
   },
   "outputs": [],
   "source": []
  }
 ],
 "metadata": {
  "kernelspec": {
   "display_name": "Python 2",
   "language": "python",
   "name": "python2"
  },
  "language_info": {
   "codemirror_mode": {
    "name": "ipython",
    "version": 2
   },
   "file_extension": ".py",
   "mimetype": "text/x-python",
   "name": "python",
   "nbconvert_exporter": "python",
   "pygments_lexer": "ipython2",
   "version": "2.7.13"
  }
 },
 "nbformat": 4,
 "nbformat_minor": 0
}
