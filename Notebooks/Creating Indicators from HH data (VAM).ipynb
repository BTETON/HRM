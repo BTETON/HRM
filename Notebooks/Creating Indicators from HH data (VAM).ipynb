{
 "cells": [
  {
   "cell_type": "code",
   "execution_count": 74,
   "metadata": {
    "collapsed": true
   },
   "outputs": [],
   "source": [
    "# https://github.com/jblumenstock/diid17/blob/master/DIID17-PS1.ipynb"
   ]
  },
  {
   "cell_type": "code",
   "execution_count": 102,
   "metadata": {
    "collapsed": true
   },
   "outputs": [],
   "source": [
    "import pandas as pd\n",
    "import numpy as np\n",
    "import matplotlib.pyplot as plt\n",
    "%matplotlib inline\n",
    "%run 'utils.ipynb'\n",
    "import gdal\n",
    "import utils "
   ]
  },
  {
   "cell_type": "code",
   "execution_count": 108,
   "metadata": {
    "collapsed": false
   },
   "outputs": [],
   "source": [
    "hh_data=pd.read_csv(\"../Data/HH/WFP/Food Security May 2016.csv\")"
   ]
  },
  {
   "cell_type": "code",
   "execution_count": 77,
   "metadata": {
    "collapsed": false
   },
   "outputs": [
    {
     "data": {
      "text/html": [
       "<div>\n",
       "<style>\n",
       "    .dataframe thead tr:only-child th {\n",
       "        text-align: right;\n",
       "    }\n",
       "\n",
       "    .dataframe thead th {\n",
       "        text-align: left;\n",
       "    }\n",
       "\n",
       "    .dataframe tbody tr th {\n",
       "        vertical-align: top;\n",
       "    }\n",
       "</style>\n",
       "<table border=\"1\" class=\"dataframe\">\n",
       "  <thead>\n",
       "    <tr style=\"text-align: right;\">\n",
       "      <th></th>\n",
       "      <th>Unnamed: 0</th>\n",
       "      <th>SubmissionDate</th>\n",
       "      <th>district</th>\n",
       "      <th>subcounty</th>\n",
       "      <th>parish</th>\n",
       "      <th>village</th>\n",
       "      <th>clusterID</th>\n",
       "      <th>hhID</th>\n",
       "      <th>A_hhage</th>\n",
       "      <th>A_education</th>\n",
       "      <th>...</th>\n",
       "      <th>Millet</th>\n",
       "      <th>Sorghum</th>\n",
       "      <th>Potato</th>\n",
       "      <th>Banana</th>\n",
       "      <th>Rice</th>\n",
       "      <th>OtherCrop</th>\n",
       "      <th>D_foodstocks</th>\n",
       "      <th>H_alcahol</th>\n",
       "      <th>MakesDecisionFood</th>\n",
       "      <th>DecisionCash</th>\n",
       "    </tr>\n",
       "  </thead>\n",
       "  <tbody>\n",
       "    <tr>\n",
       "      <th>0</th>\n",
       "      <td>1</td>\n",
       "      <td>13683967434</td>\n",
       "      <td>abim</td>\n",
       "      <td>Abim T.C.</td>\n",
       "      <td>oyaro</td>\n",
       "      <td>oliabong</td>\n",
       "      <td>1</td>\n",
       "      <td>11</td>\n",
       "      <td>45</td>\n",
       "      <td>10</td>\n",
       "      <td>...</td>\n",
       "      <td>No</td>\n",
       "      <td>No</td>\n",
       "      <td>No</td>\n",
       "      <td>No</td>\n",
       "      <td>No</td>\n",
       "      <td>Yes</td>\n",
       "      <td>No</td>\n",
       "      <td>No</td>\n",
       "      <td>NaN</td>\n",
       "      <td>NaN</td>\n",
       "    </tr>\n",
       "    <tr>\n",
       "      <th>1</th>\n",
       "      <td>2</td>\n",
       "      <td>13683837453</td>\n",
       "      <td>abim</td>\n",
       "      <td>Abim S/C</td>\n",
       "      <td>Aninata</td>\n",
       "      <td>Aninata South</td>\n",
       "      <td>2</td>\n",
       "      <td>1</td>\n",
       "      <td>32</td>\n",
       "      <td>11</td>\n",
       "      <td>...</td>\n",
       "      <td>No</td>\n",
       "      <td>Yes</td>\n",
       "      <td>No</td>\n",
       "      <td>No</td>\n",
       "      <td>No</td>\n",
       "      <td>Yes</td>\n",
       "      <td>Yes</td>\n",
       "      <td>No</td>\n",
       "      <td>NaN</td>\n",
       "      <td>NaN</td>\n",
       "    </tr>\n",
       "    <tr>\n",
       "      <th>2</th>\n",
       "      <td>3</td>\n",
       "      <td>13683837458</td>\n",
       "      <td>abim</td>\n",
       "      <td>Abim S/C</td>\n",
       "      <td>Aninata</td>\n",
       "      <td>Aninata South</td>\n",
       "      <td>2</td>\n",
       "      <td>2</td>\n",
       "      <td>39</td>\n",
       "      <td>5</td>\n",
       "      <td>...</td>\n",
       "      <td>No</td>\n",
       "      <td>Yes</td>\n",
       "      <td>No</td>\n",
       "      <td>No</td>\n",
       "      <td>No</td>\n",
       "      <td>No</td>\n",
       "      <td>No</td>\n",
       "      <td>No</td>\n",
       "      <td>NaN</td>\n",
       "      <td>NaN</td>\n",
       "    </tr>\n",
       "    <tr>\n",
       "      <th>3</th>\n",
       "      <td>4</td>\n",
       "      <td>13683837465</td>\n",
       "      <td>abim</td>\n",
       "      <td>Abim S/C</td>\n",
       "      <td>Aninata</td>\n",
       "      <td>Aninata South</td>\n",
       "      <td>2</td>\n",
       "      <td>3</td>\n",
       "      <td>63</td>\n",
       "      <td>0</td>\n",
       "      <td>...</td>\n",
       "      <td>No</td>\n",
       "      <td>Yes</td>\n",
       "      <td>Yes</td>\n",
       "      <td>No</td>\n",
       "      <td>No</td>\n",
       "      <td>Yes</td>\n",
       "      <td>Yes</td>\n",
       "      <td>No</td>\n",
       "      <td>NaN</td>\n",
       "      <td>NaN</td>\n",
       "    </tr>\n",
       "    <tr>\n",
       "      <th>4</th>\n",
       "      <td>5</td>\n",
       "      <td>13683837471</td>\n",
       "      <td>abim</td>\n",
       "      <td>Abim S/C</td>\n",
       "      <td>Aninata</td>\n",
       "      <td>Aninata South</td>\n",
       "      <td>2</td>\n",
       "      <td>4</td>\n",
       "      <td>38</td>\n",
       "      <td>0</td>\n",
       "      <td>...</td>\n",
       "      <td>No</td>\n",
       "      <td>Yes</td>\n",
       "      <td>Yes</td>\n",
       "      <td>No</td>\n",
       "      <td>No</td>\n",
       "      <td>No</td>\n",
       "      <td>Yes</td>\n",
       "      <td>Yes</td>\n",
       "      <td>NaN</td>\n",
       "      <td>NaN</td>\n",
       "    </tr>\n",
       "  </tbody>\n",
       "</table>\n",
       "<p>5 rows × 327 columns</p>\n",
       "</div>"
      ],
      "text/plain": [
       "   Unnamed: 0  SubmissionDate       district  subcounty  \\\n",
       "0           1     13683967434  abim           Abim T.C.   \n",
       "1           2     13683837453  abim            Abim S/C   \n",
       "2           3     13683837458  abim            Abim S/C   \n",
       "3           4     13683837465  abim            Abim S/C   \n",
       "4           5     13683837471  abim            Abim S/C   \n",
       "\n",
       "                       parish                     village  clusterID  hhID  \\\n",
       "0  oyaro                       oliabong                            1    11   \n",
       "1  Aninata                     Aninata South                       2     1   \n",
       "2  Aninata                     Aninata South                       2     2   \n",
       "3  Aninata                     Aninata South                       2     3   \n",
       "4  Aninata                     Aninata South                       2     4   \n",
       "\n",
       "   A_hhage  A_education      ...       Millet  Sorghum  Potato  Banana  Rice  \\\n",
       "0       45           10      ...           No       No      No      No    No   \n",
       "1       32           11      ...           No      Yes      No      No    No   \n",
       "2       39            5      ...           No      Yes      No      No    No   \n",
       "3       63            0      ...           No      Yes     Yes      No    No   \n",
       "4       38            0      ...           No      Yes     Yes      No    No   \n",
       "\n",
       "   OtherCrop  D_foodstocks  H_alcahol  MakesDecisionFood  DecisionCash  \n",
       "0        Yes            No         No                NaN           NaN  \n",
       "1        Yes           Yes         No                NaN           NaN  \n",
       "2         No            No         No                NaN           NaN  \n",
       "3        Yes           Yes         No                NaN           NaN  \n",
       "4         No           Yes        Yes                NaN           NaN  \n",
       "\n",
       "[5 rows x 327 columns]"
      ]
     },
     "execution_count": 77,
     "metadata": {},
     "output_type": "execute_result"
    }
   ],
   "source": [
    "hh_data.head()"
   ]
  },
  {
   "cell_type": "code",
   "execution_count": 78,
   "metadata": {
    "collapsed": false
   },
   "outputs": [
    {
     "data": {
      "text/plain": [
       "['Unnamed: 0',\n",
       " 'SubmissionDate',\n",
       " 'district',\n",
       " 'subcounty',\n",
       " 'parish',\n",
       " 'village',\n",
       " 'clusterID',\n",
       " 'hhID',\n",
       " 'A_hhage',\n",
       " 'A_education',\n",
       " 'hhmaleA_male',\n",
       " 'hhmaleA_male1',\n",
       " 'hhmaleA_male2',\n",
       " 'hhmaleA_male3',\n",
       " 'hhmaleA_male4',\n",
       " 'hhmaleA_male5',\n",
       " 'hhmaleA_male6',\n",
       " 'hhfemaleA_female',\n",
       " 'hhfemaleA_female1',\n",
       " 'hhfemaleA_female2',\n",
       " 'hhfemaleA_female3',\n",
       " 'hhfemaleA_female4',\n",
       " 'hhfemaleA_female5',\n",
       " 'hhfemaleA_female6',\n",
       " 'primarychildrenA_primarymale',\n",
       " 'primarychildrenA_primaryfemale',\n",
       " 'primaryattend1A_attendmale',\n",
       " 'primaryattend1A_attendfemale',\n",
       " 'primaryattend2A_notattendmale',\n",
       " 'primaryattend2A_notattendfemale',\n",
       " 'primarynotattendA_reasonmale',\n",
       " 'primarynotattendA_reasonfemale',\n",
       " 'A_reasonothermale',\n",
       " 'A_reasonotherfemale',\n",
       " 'A_programme_1',\n",
       " 'A_programme_2',\n",
       " 'A_programme_3',\n",
       " 'A_programme_4',\n",
       " 'A_programme_5',\n",
       " 'A_programmeother',\n",
       " 'A_death',\n",
       " 'A_deathb',\n",
       " 'A_death_5',\n",
       " 'A_death_5coz1',\n",
       " 'A_death_5coz2',\n",
       " 'A_death_Adultcoz',\n",
       " 'A_death_5coz1other',\n",
       " 'A_death_5coz2other',\n",
       " 'A_death_AdultcozOther',\n",
       " 'B_watersource',\n",
       " 'B_watertreatment',\n",
       " 'B_specifytreatment',\n",
       " 'B_wateramount',\n",
       " 'B_toilet',\n",
       " 'B_toiletshare',\n",
       " 'B_hc',\n",
       " 'B_hcother',\n",
       " 'B_fuel',\n",
       " 'B_fuelother',\n",
       " 'C_asset1C_Bed',\n",
       " 'C_asset1C_Table',\n",
       " 'C_asset1C_Chairs',\n",
       " 'C_asset1C_Matress',\n",
       " 'C_asset1C_Radio',\n",
       " 'C_asset1C_CellPhone',\n",
       " 'C_asset1C_SewingMachine',\n",
       " 'C_asset1C_Bicycle',\n",
       " 'C_asset1C_Car',\n",
       " 'C_asset1C_Motorcycle',\n",
       " 'C_asset1C_Television',\n",
       " 'C_asset2C_Axe',\n",
       " 'C_asset2C_Panga',\n",
       " 'C_asset2C_Hoe',\n",
       " 'C_asset2C_Oxplough',\n",
       " 'C_asset2C_watertank',\n",
       " 'C_asset2C_Seedstore',\n",
       " 'C_asset2C_Foodstore',\n",
       " 'C_asset2C_Beehives',\n",
       " 'C_asset2C_WateringCan',\n",
       " 'C_asset2C_Bucket',\n",
       " 'C_livestock',\n",
       " 'livestockC_cattle',\n",
       " 'livestockC_sheep',\n",
       " 'livestockC_goat',\n",
       " 'livestockC_pig',\n",
       " 'livestockC_poultry',\n",
       " 'livestockC_donkey',\n",
       " 'livestockC_other',\n",
       " 'C_livestockother',\n",
       " 'C_livestockconstraints',\n",
       " 'C_livestockconstraintsother',\n",
       " 'D_landtype_sizeD_Flatland',\n",
       " 'D_landtype_sizeD_Upland',\n",
       " 'D_landtype_sizeD_Swamp',\n",
       " 'D_landtype_sizeD_other',\n",
       " 'D_landother',\n",
       " 'D_Crops1D_Maize',\n",
       " 'D_Crops1D_Beans',\n",
       " 'D_Crops1D_Cassava',\n",
       " 'D_Crops1D_Millet',\n",
       " 'D_Crops1D_Sorghum',\n",
       " 'D_Crops1D_Potato',\n",
       " 'D_Crops1D_Banana',\n",
       " 'D_Crops1D_Rice',\n",
       " 'D_Crops1D_othercrop',\n",
       " 'D_cropotherb',\n",
       " 'D_Crops2D_Maize2',\n",
       " 'D_Crops2D_Beans2',\n",
       " 'D_Crops2D_Cassava2',\n",
       " 'D_Crops2D_Millet2',\n",
       " 'D_Crops2D_Sorghum2',\n",
       " 'D_Crops2D_Potato2',\n",
       " 'D_Crops2D_Banana2',\n",
       " 'D_Crops2D_Rice2',\n",
       " 'D_Crops2D_othercrop2',\n",
       " 'D_landconstraints',\n",
       " 'D_landconstraintother',\n",
       " 'D_maize_sorghum',\n",
       " 'D_foodstockssource',\n",
       " 'D_foodstockssourceother',\n",
       " 'D_foodstockslasting',\n",
       " 'E_incomeearners',\n",
       " 'E_income1',\n",
       " 'E_income1perc',\n",
       " 'E_income2',\n",
       " 'E_income2perc',\n",
       " 'E_income3',\n",
       " 'E_income3perc',\n",
       " 'E_remittances',\n",
       " 'E_remittancesother',\n",
       " 'foodboughtF_cereals',\n",
       " 'foodboughtF_tubers',\n",
       " 'foodboughtF_pulses',\n",
       " 'foodboughtF_fruveg',\n",
       " 'foodboughtF_protein',\n",
       " 'foodboughtF_oil',\n",
       " 'foodboughtF_dairy',\n",
       " 'foodboughtF_salt',\n",
       " 'foodboughtF_tea',\n",
       " 'foodboughtF_other',\n",
       " 'cerealsF_cerealcash',\n",
       " 'cerealsF_cerealcredit',\n",
       " 'cerealsF_cereal_nopurchase',\n",
       " 'tubersF_tubercash',\n",
       " 'tubersF_tubercredit',\n",
       " 'tubersF_tuber_nopurchase',\n",
       " 'pulsesF_pulsescash',\n",
       " 'pulsesF_pulsescredit',\n",
       " 'pulsesF_pulses_nopurchase',\n",
       " 'fruvegF_fruvegcash',\n",
       " 'fruvegF_fruvegcredit',\n",
       " 'fruvegF_fruveg_nopurchase',\n",
       " 'proteinF_proteincash',\n",
       " 'proteinF_proteincredit',\n",
       " 'proteinF_protein_nopurchase',\n",
       " 'oilF_oilcash',\n",
       " 'oilF_oilcredit',\n",
       " 'oilF_oil_nopurchase',\n",
       " 'dairyF_dairycash',\n",
       " 'dairyF_dairycredit',\n",
       " 'dairyF_dairy_nopurchase',\n",
       " 'saltF_saltcash',\n",
       " 'saltF_saltcredit',\n",
       " 'saltF_salt_nopurchase',\n",
       " 'teaF_teacash',\n",
       " 'teaF_teacredit',\n",
       " 'teaF_tea_nopurchase',\n",
       " 'otherF_othercash',\n",
       " 'otherF_othercredit',\n",
       " 'otherF_other_nopurchase',\n",
       " 'nonfoodbought1F_alcohol',\n",
       " 'nonfoodbought1F_soap',\n",
       " 'nonfoodbought1F_transport',\n",
       " 'nonfoodbought1F_fuel',\n",
       " 'nonfoodbought1F_water',\n",
       " 'nonfoodbought1F_electricity',\n",
       " 'nonfoodbought1F_communications',\n",
       " 'nonfoodbought1F_rent',\n",
       " 'F_alcoholcost',\n",
       " 'F_soapcost',\n",
       " 'F_transportcost',\n",
       " 'F_fuelcost',\n",
       " 'F_watercost',\n",
       " 'F_electricitycost',\n",
       " 'F_communicationcost',\n",
       " 'F_rentcost',\n",
       " 'nonfoodbought2F_health',\n",
       " 'nonfoodbought2F_cloth',\n",
       " 'nonfoodbought2F_education',\n",
       " 'nonfoodbought2F_debt',\n",
       " 'nonfoodbought2F_events',\n",
       " 'nonfoodbought2F_agrinputs',\n",
       " 'nonfoodbought2F_saving',\n",
       " 'nonfoodbought2F_construction',\n",
       " 'F_healthcost',\n",
       " 'F_clothcost',\n",
       " 'F_educationcost',\n",
       " 'F_debtcost',\n",
       " 'F_eventscost',\n",
       " 'F_agrinputscost',\n",
       " 'F_savingcost',\n",
       " 'F_constructioncost',\n",
       " 'F_havedebts',\n",
       " 'F_debtamount',\n",
       " 'F_interest',\n",
       " 'F_interestamount',\n",
       " 'F_reasondebt',\n",
       " 'F_reasondebtother',\n",
       " 'F_sourcedebt',\n",
       " 'F_sourcedebtother',\n",
       " 'foodconsumptionG_cereals',\n",
       " 'foodconsumptionG_roots',\n",
       " 'foodconsumptionG_pulses',\n",
       " 'foodconsumptionG_veg',\n",
       " 'foodconsumptionG_fruits',\n",
       " 'foodconsumptionG_meat',\n",
       " 'foodconsumptionG_fish',\n",
       " 'foodconsumptionG_eggs',\n",
       " 'foodconsumptionG_milk',\n",
       " 'foodconsumptionG_oil',\n",
       " 'foodconsumptionG_sugar',\n",
       " 'foodconsumptionG_condiments',\n",
       " 'groupresultsG1',\n",
       " 'groupresultsG2',\n",
       " 'groupresultsG3',\n",
       " 'groupresultsG4',\n",
       " 'groupresultsG5',\n",
       " 'groupresultsG6',\n",
       " 'groupresultsG7',\n",
       " 'groupresultsG8',\n",
       " 'groupresultsG_FCS',\n",
       " 'groupresultsG_FCG',\n",
       " 'G_sourcecereals',\n",
       " 'G_sourceroots',\n",
       " 'G_sourcepulses',\n",
       " 'G_sourceveg',\n",
       " 'G_sourcefruits',\n",
       " 'G_sourcemeat',\n",
       " 'G_sourcefish',\n",
       " 'G_sourceeggs',\n",
       " 'G_sourcemilk',\n",
       " 'G_sourceoil',\n",
       " 'G_sourcesugar',\n",
       " 'G_sourcecondiments',\n",
       " 'H_shock_1',\n",
       " 'H_shock_1other',\n",
       " 'H_shock_2',\n",
       " 'H_shock_2other',\n",
       " 'shocks1H_strategy1',\n",
       " 'shocks1H_strategy2',\n",
       " 'shocks1H_strategy3',\n",
       " 'shocks1H_strategy4',\n",
       " 'shocks1H_strategy5',\n",
       " 'H_stress1',\n",
       " 'H_stress2',\n",
       " 'H_stress3',\n",
       " 'H_stress4',\n",
       " 'H_emergencies1',\n",
       " 'H_emergencies2',\n",
       " 'H_emergencies3',\n",
       " 'H_crisis1',\n",
       " 'H_crisis2',\n",
       " 'H_crisis3',\n",
       " 'M_wfp',\n",
       " 'M_decisionfood',\n",
       " 'M_decisioncash',\n",
       " 'M_membersgoing',\n",
       " 'M_safetyproblems',\n",
       " 'gpsLatitude',\n",
       " 'gpsLongitude',\n",
       " 'gpsAltitude',\n",
       " 'date',\n",
       " 'start_test_output',\n",
       " 'end',\n",
       " 'end_test_output',\n",
       " 'supervisor',\n",
       " 'deviceid_test_output',\n",
       " 'simserial_test_output',\n",
       " 'phonenumber',\n",
       " 'phonenumber_test_output',\n",
       " 'metainstanceID',\n",
       " 'KEY',\n",
       " 'EVH',\n",
       " 'EVHcard',\n",
       " 'NUSAF',\n",
       " 'A_hhgender',\n",
       " 'A_polygamy',\n",
       " 'A_verification',\n",
       " 'A_hhstatus',\n",
       " 'B_watertreat',\n",
       " 'B_toilet11',\n",
       " 'OwnBed',\n",
       " 'OwnTable',\n",
       " 'OwnChairs',\n",
       " 'OwnMatress',\n",
       " 'OwnRadio',\n",
       " 'OwnCellPhone',\n",
       " 'OwnSewingMachine',\n",
       " 'OwnBicycle',\n",
       " 'OwnCar',\n",
       " 'OwnMotorcycle',\n",
       " 'OwnTelevision',\n",
       " 'OwnAxe',\n",
       " 'OwnPanga',\n",
       " 'OwnHoe',\n",
       " 'OwnOxplough',\n",
       " 'OwnWatertank',\n",
       " 'OwnSeedstore',\n",
       " 'OwnFoodstore',\n",
       " 'OwnBeehive',\n",
       " 'OwnWateringcan',\n",
       " 'OwnBucket',\n",
       " 'OwnLivestock',\n",
       " 'D_access',\n",
       " 'Maize',\n",
       " 'Beans',\n",
       " 'Cassava',\n",
       " 'Millet',\n",
       " 'Sorghum',\n",
       " 'Potato',\n",
       " 'Banana',\n",
       " 'Rice',\n",
       " 'OtherCrop',\n",
       " 'D_foodstocks',\n",
       " 'H_alcahol',\n",
       " 'MakesDecisionFood',\n",
       " 'DecisionCash']"
      ]
     },
     "execution_count": 78,
     "metadata": {},
     "output_type": "execute_result"
    }
   ],
   "source": [
    "hh_data.columns.tolist()"
   ]
  },
  {
   "cell_type": "code",
   "execution_count": 79,
   "metadata": {
    "collapsed": false
   },
   "outputs": [
    {
     "data": {
      "text/plain": [
       "No     2237\n",
       "Yes    2092\n",
       "Name: OwnLivestock, dtype: int64"
      ]
     },
     "execution_count": 79,
     "metadata": {},
     "output_type": "execute_result"
    }
   ],
   "source": [
    "hh_data[\"OwnLivestock\"].value_counts()"
   ]
  },
  {
   "cell_type": "code",
   "execution_count": 80,
   "metadata": {
    "collapsed": false
   },
   "outputs": [
    {
     "data": {
      "text/plain": [
       "No     3792\n",
       "Yes     537\n",
       "Name: OwnRadio, dtype: int64"
      ]
     },
     "execution_count": 80,
     "metadata": {},
     "output_type": "execute_result"
    }
   ],
   "source": [
    "hh_data[\"OwnRadio\"].value_counts()"
   ]
  },
  {
   "cell_type": "code",
   "execution_count": 81,
   "metadata": {
    "collapsed": false
   },
   "outputs": [],
   "source": [
    "hh_data[\"Assets_score\"]=hh_data[\"OwnRadio\"].map({'Yes': 1, 'No': 0})+hh_data[\"OwnBicycle\"].map({'Yes': 1, 'No': 0})+ \\\n",
    "hh_data[\"OwnBed\"].map({'Yes': 1, 'No': 0})+ hh_data[\"OwnTable\"].map({'Yes': 1, 'No': 0})+hh_data[\"OwnLivestock\"].map({'Yes': 1, 'No': 0})"
   ]
  },
  {
   "cell_type": "code",
   "execution_count": 82,
   "metadata": {
    "collapsed": false
   },
   "outputs": [
    {
     "data": {
      "text/plain": [
       "0       1\n",
       "1       1\n",
       "2       3\n",
       "3       5\n",
       "4       1\n",
       "5       1\n",
       "6       2\n",
       "7       0\n",
       "8       0\n",
       "9       1\n",
       "10      4\n",
       "11      1\n",
       "12      2\n",
       "13      2\n",
       "14      0\n",
       "15      1\n",
       "16      0\n",
       "17      1\n",
       "18      1\n",
       "19      0\n",
       "20      0\n",
       "21      0\n",
       "22      0\n",
       "23      3\n",
       "24      3\n",
       "25      3\n",
       "26      0\n",
       "27      3\n",
       "28      0\n",
       "29      2\n",
       "       ..\n",
       "4299    0\n",
       "4300    0\n",
       "4301    0\n",
       "4302    0\n",
       "4303    1\n",
       "4304    0\n",
       "4305    1\n",
       "4306    0\n",
       "4307    1\n",
       "4308    0\n",
       "4309    2\n",
       "4310    1\n",
       "4311    0\n",
       "4312    0\n",
       "4313    0\n",
       "4314    0\n",
       "4315    0\n",
       "4316    0\n",
       "4317    0\n",
       "4318    1\n",
       "4319    1\n",
       "4320    2\n",
       "4321    1\n",
       "4322    0\n",
       "4323    1\n",
       "4324    0\n",
       "4325    0\n",
       "4326    0\n",
       "4327    1\n",
       "4328    2\n",
       "Name: Assets_score, Length: 4329, dtype: int64"
      ]
     },
     "execution_count": 82,
     "metadata": {},
     "output_type": "execute_result"
    }
   ],
   "source": [
    "hh_data[\"Assets_score\"]"
   ]
  },
  {
   "cell_type": "code",
   "execution_count": 83,
   "metadata": {
    "collapsed": false
   },
   "outputs": [
    {
     "data": {
      "text/plain": [
       "abim             708\n",
       "kaabong          677\n",
       "kotido           627\n",
       "amudat           613\n",
       "napak            608\n",
       "moroto           552\n",
       "nakapiripirit    544\n",
       "Name: district, dtype: int64"
      ]
     },
     "execution_count": 83,
     "metadata": {},
     "output_type": "execute_result"
    }
   ],
   "source": [
    "hh_data[\"district\"].value_counts()"
   ]
  },
  {
   "cell_type": "code",
   "execution_count": 84,
   "metadata": {
    "collapsed": true
   },
   "outputs": [],
   "source": [
    "matching_table_dict={\n",
    "\"foodconsumptionG_cereals\" : \"FCSStapCere\",\n",
    "\"foodconsumptionG_roots\" : \"FCSStapRoo\",\n",
    "\"foodconsumptionG_pulses\" : \"FCSPulse\",\n",
    "\"foodconsumptionG_veg\" : \"FCSVeg\",\n",
    "\"foodconsumptionG_fruits\" : \"FCSFruit\",\n",
    "\"foodconsumptionG_meat\" : \"FCSProtMeat\",\n",
    "\"foodconsumptionG_fish\" : \"FCSProtFish\",\n",
    "\"foodconsumptionG_eggs\" : \"FCSProtEgg\",\n",
    "\"foodconsumptionG_milk\" : \"FCSDairy\",\n",
    "\"foodconsumptionG_oil\" : \"FCSFat\",\n",
    "\"foodconsumptionG_sugar\" : \"FSCSugar\",\n",
    "\"foodconsumptionG_condiments\" : \"FCSCond\"}"
   ]
  },
  {
   "cell_type": "code",
   "execution_count": 85,
   "metadata": {
    "collapsed": true
   },
   "outputs": [],
   "source": [
    "hh_data.rename(columns=matching_table_dict,inplace=True)"
   ]
  },
  {
   "cell_type": "code",
   "execution_count": 86,
   "metadata": {
    "collapsed": true
   },
   "outputs": [],
   "source": [
    "hh_data[\"FCSStap\"]=hh_data[\"FCSStapCere\"]+hh_data[\"FCSStapRoo\"]\n",
    "hh_data.loc[hh_data[\"FCSStap\"]>7,\"FCSStap\"] =7"
   ]
  },
  {
   "cell_type": "code",
   "execution_count": 87,
   "metadata": {
    "collapsed": true
   },
   "outputs": [],
   "source": [
    "hh_data[\"FCSProt\"]=hh_data[\"FCSProtMeat\"]+hh_data[\"FCSProtFish\"]+hh_data[\"FCSProtEgg\"]\n",
    "#hh_data.loc[data[\"FCSProt\"]>7,\"FCSProt\"] =7"
   ]
  },
  {
   "cell_type": "code",
   "execution_count": 88,
   "metadata": {
    "collapsed": true
   },
   "outputs": [],
   "source": [
    "hh_data[\"FCS\"]=2*hh_data[\"FCSStap\"]+3*hh_data[\"FCSPulse\"]+1*hh_data[\"FCSVeg\"]+1*hh_data[\"FCSFruit\"]+4*hh_data[\"FCSProt\"]+4*hh_data[\"FCSDairy\"]+0.5*hh_data[\"FSCSugar\"]+0.5*hh_data[\"FCSFat\"]"
   ]
  },
  {
   "cell_type": "code",
   "execution_count": 89,
   "metadata": {
    "collapsed": false
   },
   "outputs": [
    {
     "data": {
      "text/plain": [
       "<matplotlib.axes._subplots.AxesSubplot at 0x12155fc50>"
      ]
     },
     "execution_count": 89,
     "metadata": {},
     "output_type": "execute_result"
    },
    {
     "data": {
      "image/png": "[encoded data removed]",
      "text/plain": [
       "<matplotlib.figure.Figure at 0x129d0fb90>"
      ]
     },
     "metadata": {},
     "output_type": "display_data"
    }
   ],
   "source": [
    "hh_data[\"FCS\"].hist(bins=20)"
   ]
  },
  {
   "cell_type": "code",
   "execution_count": 90,
   "metadata": {
    "collapsed": true
   },
   "outputs": [],
   "source": [
    "hh_cluster_coord_fcs=hh_data.groupby(\"clusterID\")[\"gpsLatitude\",\"gpsLongitude\",\"FCS\"].mean()"
   ]
  },
  {
   "cell_type": "code",
   "execution_count": 107,
   "metadata": {
    "collapsed": false
   },
   "outputs": [
    {
     "data": {
      "text/html": [
       "<div>\n",
       "<style>\n",
       "    .dataframe thead tr:only-child th {\n",
       "        text-align: right;\n",
       "    }\n",
       "\n",
       "    .dataframe thead th {\n",
       "        text-align: left;\n",
       "    }\n",
       "\n",
       "    .dataframe tbody tr th {\n",
       "        vertical-align: top;\n",
       "    }\n",
       "</style>\n",
       "<table border=\"1\" class=\"dataframe\">\n",
       "  <thead>\n",
       "    <tr style=\"text-align: right;\">\n",
       "      <th></th>\n",
       "      <th>gpsLatitude</th>\n",
       "      <th>gpsLongitude</th>\n",
       "      <th>FCS</th>\n",
       "      <th>Assets_score</th>\n",
       "    </tr>\n",
       "    <tr>\n",
       "      <th>village</th>\n",
       "      <th></th>\n",
       "      <th></th>\n",
       "      <th></th>\n",
       "      <th></th>\n",
       "    </tr>\n",
       "  </thead>\n",
       "  <tbody>\n",
       "    <tr>\n",
       "      <th>Abim East</th>\n",
       "      <td>2.708589</td>\n",
       "      <td>33.665483</td>\n",
       "      <td>44.050000</td>\n",
       "      <td>3.100000</td>\n",
       "    </tr>\n",
       "    <tr>\n",
       "      <th>Acan Penino</th>\n",
       "      <td>2.848594</td>\n",
       "      <td>33.694574</td>\n",
       "      <td>35.750000</td>\n",
       "      <td>2.111111</td>\n",
       "    </tr>\n",
       "    <tr>\n",
       "      <th>Acek Abuk</th>\n",
       "      <td>2.746334</td>\n",
       "      <td>33.673905</td>\n",
       "      <td>41.111111</td>\n",
       "      <td>2.000000</td>\n",
       "    </tr>\n",
       "    <tr>\n",
       "      <th>Adipala</th>\n",
       "      <td>2.450002</td>\n",
       "      <td>34.322738</td>\n",
       "      <td>26.525000</td>\n",
       "      <td>0.300000</td>\n",
       "    </tr>\n",
       "    <tr>\n",
       "      <th>Agule</th>\n",
       "      <td>2.493331</td>\n",
       "      <td>33.897964</td>\n",
       "      <td>22.842105</td>\n",
       "      <td>1.947368</td>\n",
       "    </tr>\n",
       "  </tbody>\n",
       "</table>\n",
       "</div>"
      ],
      "text/plain": [
       "                            gpsLatitude  gpsLongitude        FCS  Assets_score\n",
       "village                                                                       \n",
       "Abim East                      2.708589     33.665483  44.050000      3.100000\n",
       "Acan Penino                    2.848594     33.694574  35.750000      2.111111\n",
       "Acek Abuk                      2.746334     33.673905  41.111111      2.000000\n",
       "Adipala                        2.450002     34.322738  26.525000      0.300000\n",
       "Agule                          2.493331     33.897964  22.842105      1.947368"
      ]
     },
     "execution_count": 107,
     "metadata": {},
     "output_type": "execute_result"
    }
   ],
   "source": [
    "hh_village_coord_fcs=hh_data.groupby(\"village\")[\"gpsLatitude\",\"gpsLongitude\",\"FCS\",\"Assets_score\"].mean()\n",
    "hh_village_coord_fcs=hh_village_coord_fcs.dropna(axis=0, how='any')\n",
    "hh_village_coord_fcs.head()"
   ]
  },
  {
   "cell_type": "code",
   "execution_count": 106,
   "metadata": {
    "collapsed": false
   },
   "outputs": [
    {
     "data": {
      "text/plain": [
       "(251, 6)"
      ]
     },
     "execution_count": 106,
     "metadata": {},
     "output_type": "execute_result"
    }
   ],
   "source": [
    "hh_village_coord_fcs.shape"
   ]
  },
  {
   "cell_type": "code",
   "execution_count": 104,
   "metadata": {
    "collapsed": false
   },
   "outputs": [
    {
     "data": {
      "text/plain": [
       "<matplotlib.collections.PathCollection at 0x12b1e07d0>"
      ]
     },
     "execution_count": 104,
     "metadata": {},
     "output_type": "execute_result"
    },
    {
     "data": {
      "image/png": "[encoded data removed]",
      "text/plain": [
       "<matplotlib.figure.Figure at 0x129d1dcd0>"
      ]
     },
     "metadata": {},
     "output_type": "display_data"
    }
   ],
   "source": [
    " plt.scatter(hh_village_coord_fcs[\"FCS\"], hh_village_coord_fcs[\"Assets_score\"])"
   ]
  },
  {
   "cell_type": "markdown",
   "metadata": {},
   "source": [
    "### Assign the coordinates to a grid system"
   ]
  },
  {
   "cell_type": "code",
   "execution_count": 97,
   "metadata": {
    "collapsed": false
   },
   "outputs": [],
   "source": [
    "# this illustrates how you can read the nightlight image\n",
    "raster_file = '../Data/Satellite/NightLight/F182013.v4c_web.stable_lights.avg_vis.tif'\n",
    "x_size, top_left_x_coords, top_left_y_coords, centroid_x_coords, centroid_y_coords, bands_data = read_raster(raster_file)"
   ]
  },
  {
   "cell_type": "code",
   "execution_count": 98,
   "metadata": {
    "collapsed": true
   },
   "outputs": [],
   "source": [
    "def get_lon_idx(lon):\n",
    "    lon_idx = np.where(top_left_x_coords < lon)[0][-1]\n",
    "    return lon_idx\n",
    "def get_lat_idx(lat):\n",
    "    lat_idx = np.where(top_left_y_coords > lat)[0][-1]\n",
    "    return lat_idx"
   ]
  },
  {
   "cell_type": "code",
   "execution_count": 99,
   "metadata": {
    "collapsed": false
   },
   "outputs": [],
   "source": [
    "hh_village_coord_fcs[\"i\"]=hh_village_coord_fcs[\"gpsLongitude\"].apply(get_lon_idx)\n",
    "hh_village_coord_fcs[\"j\"]=hh_village_coord_fcs[\"gpsLatitude\"].apply(get_lat_idx)"
   ]
  },
  {
   "cell_type": "code",
   "execution_count": 100,
   "metadata": {
    "collapsed": true
   },
   "outputs": [],
   "source": [
    "hh_village_coord_fcs.to_csv(\"../Data/Intermediate_files/hh_village_coord_fcs.csv\")"
   ]
  },
  {
   "cell_type": "code",
   "execution_count": null,
   "metadata": {
    "collapsed": true
   },
   "outputs": [],
   "source": []
  },
  {
   "cell_type": "code",
   "execution_count": null,
   "metadata": {
    "collapsed": true
   },
   "outputs": [],
   "source": []
  }
 ],
 "metadata": {
  "kernelspec": {
   "display_name": "Python 2",
   "language": "python",
   "name": "python2"
  },
  "language_info": {
   "codemirror_mode": {
    "name": "ipython",
    "version": 2
   },
   "file_extension": ".py",
   "mimetype": "text/x-python",
   "name": "python",
   "nbconvert_exporter": "python",
   "pygments_lexer": "ipython2",
   "version": "2.7.13"
  }
 },
 "nbformat": 4,
 "nbformat_minor": 0
}
