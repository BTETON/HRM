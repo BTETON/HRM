{
 "cells": [
  {
   "cell_type": "code",
   "execution_count": 2,
   "metadata": {
    "collapsed": false
   },
   "outputs": [],
   "source": [
    "import pandas as pd \n",
    "import numpy as np\n",
    "import matplotlib.pyplot as plt\n",
    "import statsmodels.api as sm\n",
    "from sklearn.linear_model import LinearRegression\n",
    "from sklearn.model_selection import train_test_split\n",
    "from sklearn.model_selection import cross_val_score\n",
    "%matplotlib inline "
   ]
  },
  {
   "cell_type": "code",
   "execution_count": 3,
   "metadata": {
    "collapsed": false
   },
   "outputs": [],
   "source": [
    "hh_village_coord_fcs = pd.read_csv(\"../Data/Intermediate_files/hh_village_coord_fcs.csv\")"
   ]
  },
  {
   "cell_type": "code",
   "execution_count": 4,
   "metadata": {
    "collapsed": true
   },
   "outputs": [],
   "source": [
    "google_sat_features = pd.read_csv(\"../Data/Intermediate_files/google_sat_features.csv\")"
   ]
  },
  {
   "cell_type": "code",
   "execution_count": 5,
   "metadata": {
    "collapsed": true
   },
   "outputs": [],
   "source": [
    "data=hh_village_coord_fcs.merge(google_sat_features,on=[\"i\",\"j\"])"
   ]
  },
  {
   "cell_type": "code",
   "execution_count": 6,
   "metadata": {
    "collapsed": false
   },
   "outputs": [
    {
     "data": {
      "text/html": [
       "<div>\n",
       "<style>\n",
       "    .dataframe thead tr:only-child th {\n",
       "        text-align: right;\n",
       "    }\n",
       "\n",
       "    .dataframe thead th {\n",
       "        text-align: left;\n",
       "    }\n",
       "\n",
       "    .dataframe tbody tr th {\n",
       "        vertical-align: top;\n",
       "    }\n",
       "</style>\n",
       "<table border=\"1\" class=\"dataframe\">\n",
       "  <thead>\n",
       "    <tr style=\"text-align: right;\">\n",
       "      <th></th>\n",
       "      <th>Unnamed: 0_x</th>\n",
       "      <th>level_0</th>\n",
       "      <th>index</th>\n",
       "      <th>village</th>\n",
       "      <th>gpsLatitude</th>\n",
       "      <th>gpsLongitude</th>\n",
       "      <th>FCS</th>\n",
       "      <th>i</th>\n",
       "      <th>j</th>\n",
       "      <th>Unnamed: 0_y</th>\n",
       "      <th>...</th>\n",
       "      <th>G_mean</th>\n",
       "      <th>G_median</th>\n",
       "      <th>G_min</th>\n",
       "      <th>G_max</th>\n",
       "      <th>G_std</th>\n",
       "      <th>B_mean</th>\n",
       "      <th>B_median</th>\n",
       "      <th>B_min</th>\n",
       "      <th>B_max</th>\n",
       "      <th>B_std</th>\n",
       "    </tr>\n",
       "  </thead>\n",
       "  <tbody>\n",
       "    <tr>\n",
       "      <th>0</th>\n",
       "      <td>0</td>\n",
       "      <td>0</td>\n",
       "      <td>0</td>\n",
       "      <td>Abim East</td>\n",
       "      <td>2.708589</td>\n",
       "      <td>33.665483</td>\n",
       "      <td>44.050000</td>\n",
       "      <td>25640</td>\n",
       "      <td>8675</td>\n",
       "      <td>11</td>\n",
       "      <td>...</td>\n",
       "      <td>103.00890</td>\n",
       "      <td>104.0</td>\n",
       "      <td>5.0</td>\n",
       "      <td>255.0</td>\n",
       "      <td>24.953076</td>\n",
       "      <td>81.533706</td>\n",
       "      <td>82.0</td>\n",
       "      <td>0.0</td>\n",
       "      <td>234.0</td>\n",
       "      <td>23.652383</td>\n",
       "    </tr>\n",
       "    <tr>\n",
       "      <th>1</th>\n",
       "      <td>1</td>\n",
       "      <td>1</td>\n",
       "      <td>1</td>\n",
       "      <td>Acan Penino</td>\n",
       "      <td>2.848594</td>\n",
       "      <td>33.694574</td>\n",
       "      <td>35.750000</td>\n",
       "      <td>25643</td>\n",
       "      <td>8658</td>\n",
       "      <td>17</td>\n",
       "      <td>...</td>\n",
       "      <td>107.43185</td>\n",
       "      <td>107.0</td>\n",
       "      <td>19.0</td>\n",
       "      <td>189.0</td>\n",
       "      <td>27.745441</td>\n",
       "      <td>88.665950</td>\n",
       "      <td>89.0</td>\n",
       "      <td>1.0</td>\n",
       "      <td>177.0</td>\n",
       "      <td>25.915987</td>\n",
       "    </tr>\n",
       "    <tr>\n",
       "      <th>2</th>\n",
       "      <td>2</td>\n",
       "      <td>2</td>\n",
       "      <td>2</td>\n",
       "      <td>Acek Abuk</td>\n",
       "      <td>2.746334</td>\n",
       "      <td>33.673905</td>\n",
       "      <td>41.111111</td>\n",
       "      <td>25641</td>\n",
       "      <td>8670</td>\n",
       "      <td>14</td>\n",
       "      <td>...</td>\n",
       "      <td>126.94960</td>\n",
       "      <td>127.0</td>\n",
       "      <td>6.0</td>\n",
       "      <td>241.0</td>\n",
       "      <td>27.425678</td>\n",
       "      <td>99.232481</td>\n",
       "      <td>99.0</td>\n",
       "      <td>0.0</td>\n",
       "      <td>214.0</td>\n",
       "      <td>25.965138</td>\n",
       "    </tr>\n",
       "    <tr>\n",
       "      <th>3</th>\n",
       "      <td>228</td>\n",
       "      <td>228</td>\n",
       "      <td>228</td>\n",
       "      <td>Ocek Abuk</td>\n",
       "      <td>2.746577</td>\n",
       "      <td>33.675476</td>\n",
       "      <td>45.000000</td>\n",
       "      <td>25641</td>\n",
       "      <td>8670</td>\n",
       "      <td>14</td>\n",
       "      <td>...</td>\n",
       "      <td>126.94960</td>\n",
       "      <td>127.0</td>\n",
       "      <td>6.0</td>\n",
       "      <td>241.0</td>\n",
       "      <td>27.425678</td>\n",
       "      <td>99.232481</td>\n",
       "      <td>99.0</td>\n",
       "      <td>0.0</td>\n",
       "      <td>214.0</td>\n",
       "      <td>25.965138</td>\n",
       "    </tr>\n",
       "    <tr>\n",
       "      <th>4</th>\n",
       "      <td>229</td>\n",
       "      <td>229</td>\n",
       "      <td>229</td>\n",
       "      <td>Ocek abuk</td>\n",
       "      <td>2.746066</td>\n",
       "      <td>33.674411</td>\n",
       "      <td>34.100000</td>\n",
       "      <td>25641</td>\n",
       "      <td>8670</td>\n",
       "      <td>14</td>\n",
       "      <td>...</td>\n",
       "      <td>126.94960</td>\n",
       "      <td>127.0</td>\n",
       "      <td>6.0</td>\n",
       "      <td>241.0</td>\n",
       "      <td>27.425678</td>\n",
       "      <td>99.232481</td>\n",
       "      <td>99.0</td>\n",
       "      <td>0.0</td>\n",
       "      <td>214.0</td>\n",
       "      <td>25.965138</td>\n",
       "    </tr>\n",
       "  </tbody>\n",
       "</table>\n",
       "<p>5 rows × 25 columns</p>\n",
       "</div>"
      ],
      "text/plain": [
       "   Unnamed: 0_x  level_0  index                     village  gpsLatitude  \\\n",
       "0             0        0      0  Abim East                      2.708589   \n",
       "1             1        1      1  Acan Penino                    2.848594   \n",
       "2             2        2      2  Acek Abuk                      2.746334   \n",
       "3           228      228    228  Ocek Abuk                      2.746577   \n",
       "4           229      229    229  Ocek abuk                      2.746066   \n",
       "\n",
       "   gpsLongitude        FCS      i     j  Unnamed: 0_y    ...         G_mean  \\\n",
       "0     33.665483  44.050000  25640  8675            11    ...      103.00890   \n",
       "1     33.694574  35.750000  25643  8658            17    ...      107.43185   \n",
       "2     33.673905  41.111111  25641  8670            14    ...      126.94960   \n",
       "3     33.675476  45.000000  25641  8670            14    ...      126.94960   \n",
       "4     33.674411  34.100000  25641  8670            14    ...      126.94960   \n",
       "\n",
       "   G_median  G_min  G_max      G_std     B_mean  B_median  B_min  B_max  \\\n",
       "0     104.0    5.0  255.0  24.953076  81.533706      82.0    0.0  234.0   \n",
       "1     107.0   19.0  189.0  27.745441  88.665950      89.0    1.0  177.0   \n",
       "2     127.0    6.0  241.0  27.425678  99.232481      99.0    0.0  214.0   \n",
       "3     127.0    6.0  241.0  27.425678  99.232481      99.0    0.0  214.0   \n",
       "4     127.0    6.0  241.0  27.425678  99.232481      99.0    0.0  214.0   \n",
       "\n",
       "       B_std  \n",
       "0  23.652383  \n",
       "1  25.915987  \n",
       "2  25.965138  \n",
       "3  25.965138  \n",
       "4  25.965138  \n",
       "\n",
       "[5 rows x 25 columns]"
      ]
     },
     "execution_count": 6,
     "metadata": {},
     "output_type": "execute_result"
    }
   ],
   "source": [
    "data.head()"
   ]
  },
  {
   "cell_type": "markdown",
   "metadata": {},
   "source": [
    "# Univariate linear regression"
   ]
  },
  {
   "cell_type": "code",
   "execution_count": 7,
   "metadata": {
    "collapsed": true
   },
   "outputs": [],
   "source": [
    "Y = data[\"FCS\"].to_frame()\n",
    "X = data['G_mean'].to_frame()"
   ]
  },
  {
   "cell_type": "code",
   "execution_count": 8,
   "metadata": {
    "collapsed": false
   },
   "outputs": [
    {
     "data": {
      "text/plain": [
       "LinearRegression(copy_X=True, fit_intercept=True, n_jobs=1, normalize=False)"
      ]
     },
     "execution_count": 8,
     "metadata": {},
     "output_type": "execute_result"
    }
   ],
   "source": [
    "regr = LinearRegression()\n",
    "regr.fit(X, Y)"
   ]
  },
  {
   "cell_type": "code",
   "execution_count": 9,
   "metadata": {
    "collapsed": false
   },
   "outputs": [
    {
     "name": "stdout",
     "output_type": "stream",
     "text": [
      "('Coefficients: \\n', array([[ 0.01823629]]))\n",
      "Mean squared error: 145.61\n",
      "Variance score: 0.00\n"
     ]
    },
    {
     "data": {
      "image/png": "[encoded data removed]",
      "text/plain": [
       "<matplotlib.figure.Figure at 0x11c1fd810>"
      ]
     },
     "metadata": {},
     "output_type": "display_data"
    }
   ],
   "source": [
    "# The coefficients\n",
    "print('Coefficients: \\n', regr.coef_)\n",
    "# The mean squared error\n",
    "print(\"Mean squared error: %.2f\"\n",
    "      % np.mean((regr.predict(X) - Y) ** 2))\n",
    "# Explained variance score: 1 is perfect prediction\n",
    "print('Variance score: %.2f' % regr.score(X, Y))\n",
    "\n",
    "# Plot outputs\n",
    "plt.scatter(X, Y,  color='black')\n",
    "plt.plot(X, regr.predict(X), color='blue',\n",
    "         linewidth=3)\n",
    "\n",
    "plt.xticks(())\n",
    "plt.yticks(())\n",
    "\n",
    "plt.show()"
   ]
  },
  {
   "cell_type": "markdown",
   "metadata": {},
   "source": [
    "# Multivariate linear regression"
   ]
  },
  {
   "cell_type": "code",
   "execution_count": 10,
   "metadata": {
    "collapsed": false
   },
   "outputs": [],
   "source": [
    "Y = data[\"FCS\"]\n",
    "X = data[['R_mean',\n",
    " 'R_median',\n",
    " 'R_min',\n",
    " 'R_max',\n",
    " 'R_std',\n",
    " 'G_mean',\n",
    " 'G_median',\n",
    " 'G_min',\n",
    " 'G_max',\n",
    " 'G_std',\n",
    " 'B_mean',\n",
    " 'B_median',\n",
    " 'B_min',\n",
    " 'B_max',\n",
    " 'B_std']]"
   ]
  },
  {
   "cell_type": "code",
   "execution_count": 11,
   "metadata": {
    "collapsed": false
   },
   "outputs": [
    {
     "data": {
      "text/plain": [
       "LinearRegression(copy_X=True, fit_intercept=True, n_jobs=1, normalize=False)"
      ]
     },
     "execution_count": 11,
     "metadata": {},
     "output_type": "execute_result"
    }
   ],
   "source": [
    "regr = LinearRegression()\n",
    "regr.fit(X, Y)"
   ]
  },
  {
   "cell_type": "code",
   "execution_count": 12,
   "metadata": {
    "collapsed": false
   },
   "outputs": [
    {
     "name": "stdout",
     "output_type": "stream",
     "text": [
      "('Coefficients: \\n', array([-0.37217713,  0.40240681, -0.27328547,  0.16922488,  0.06903464,\n",
      "        0.15715198,  0.00513357, -0.14020837, -0.46315741,  0.64517101,\n",
      "        0.17637381, -0.497922  ,  0.53404402,  0.38336219, -0.51462358]))\n",
      "Mean squared error: 116.31\n",
      "Variance score: 0.20\n"
     ]
    }
   ],
   "source": [
    "# The coefficients\n",
    "print('Coefficients: \\n', regr.coef_)\n",
    "# The mean squared error\n",
    "print(\"Mean squared error: %.2f\"\n",
    "      % np.mean((regr.predict(X) - Y) ** 2))\n",
    "# Explained variance score: 1 is perfect prediction\n",
    "print('Variance score: %.2f' % regr.score(X, Y))"
   ]
  },
  {
   "cell_type": "code",
   "execution_count": 13,
   "metadata": {
    "collapsed": false
   },
   "outputs": [
    {
     "name": "stdout",
     "output_type": "stream",
     "text": [
      "                            OLS Regression Results                            \n",
      "==============================================================================\n",
      "Dep. Variable:                    FCS   R-squared:                       0.202\n",
      "Model:                            OLS   Adj. R-squared:                  0.152\n",
      "Method:                 Least Squares   F-statistic:                     3.976\n",
      "Date:                Fri, 02 Jun 2017   Prob (F-statistic):           2.10e-06\n",
      "Time:                        11:11:01   Log-Likelihood:                -953.07\n",
      "No. Observations:                 251   AIC:                             1938.\n",
      "Df Residuals:                     235   BIC:                             1995.\n",
      "Df Model:                          15                                         \n",
      "Covariance Type:            nonrobust                                         \n",
      "==============================================================================\n",
      "                 coef    std err          t      P>|t|      [0.025      0.975]\n",
      "------------------------------------------------------------------------------\n",
      "const         27.9774      5.717      4.893      0.000      16.714      39.241\n",
      "R_mean        -0.3722      0.550     -0.676      0.499      -1.456       0.712\n",
      "R_median       0.4024      0.466      0.863      0.389      -0.516       1.321\n",
      "R_min         -0.2733      0.141     -1.934      0.054      -0.552       0.005\n",
      "R_max          0.1692      0.094      1.807      0.072      -0.015       0.354\n",
      "R_std          0.0690      0.335      0.206      0.837      -0.591       0.729\n",
      "G_mean         0.1572      0.849      0.185      0.853      -1.516       1.830\n",
      "G_median       0.0051      0.742      0.007      0.994      -1.457       1.468\n",
      "G_min         -0.1402      0.179     -0.785      0.433      -0.492       0.212\n",
      "G_max         -0.4632      0.183     -2.529      0.012      -0.824      -0.102\n",
      "G_std          0.6452      0.534      1.207      0.229      -0.408       1.698\n",
      "B_mean         0.1764      0.631      0.280      0.780      -1.066       1.419\n",
      "B_median      -0.4979      0.558     -0.892      0.374      -1.598       0.602\n",
      "B_min          0.5340      0.156      3.422      0.001       0.227       0.842\n",
      "B_max          0.3834      0.160      2.397      0.017       0.068       0.698\n",
      "B_std         -0.5146      0.475     -1.083      0.280      -1.451       0.422\n",
      "==============================================================================\n",
      "Omnibus:                       55.506   Durbin-Watson:                   1.517\n",
      "Prob(Omnibus):                  0.000   Jarque-Bera (JB):              143.005\n",
      "Skew:                           0.996   Prob(JB):                     8.85e-32\n",
      "Kurtosis:                       6.115   Cond. No.                     4.09e+03\n",
      "==============================================================================\n",
      "\n",
      "Warnings:\n",
      "[1] Standard Errors assume that the covariance matrix of the errors is correctly specified.\n",
      "[2] The condition number is large, 4.09e+03. This might indicate that there are\n",
      "strong multicollinearity or other numerical problems.\n"
     ]
    }
   ],
   "source": [
    "X2 = sm.add_constant(X)\n",
    "est = sm.OLS(Y, X2)\n",
    "est2 = est.fit()\n",
    "print(est2.summary())"
   ]
  },
  {
   "cell_type": "markdown",
   "metadata": {},
   "source": [
    "# Multivariate regression with out-of-sample prediction"
   ]
  },
  {
   "cell_type": "markdown",
   "metadata": {},
   "source": [
    "### 1 - Splitting Train-Test : 80%/20%"
   ]
  },
  {
   "cell_type": "code",
   "execution_count": 14,
   "metadata": {
    "collapsed": false
   },
   "outputs": [
    {
     "name": "stdout",
     "output_type": "stream",
     "text": [
      "('Coefficients: \\n', array([-0.18403733,  0.21398079, -0.29600399,  0.21250023,  0.02186936,\n",
      "       -0.02995901,  0.27300311, -0.12388285, -0.56505257,  0.64359765,\n",
      "        0.08662308, -0.5067167 ,  0.56224837,  0.44272877, -0.39999707]))\n",
      "Mean squared error: 118.19\n",
      "Variance score: -0.14\n"
     ]
    }
   ],
   "source": [
    "Y = data[\"FCS\"]\n",
    "X = data[['R_mean',\n",
    " 'R_median',\n",
    " 'R_min',\n",
    " 'R_max',\n",
    " 'R_std',\n",
    " 'G_mean',\n",
    " 'G_median',\n",
    " 'G_min',\n",
    " 'G_max',\n",
    " 'G_std',\n",
    " 'B_mean',\n",
    " 'B_median',\n",
    " 'B_min',\n",
    " 'B_max',\n",
    " 'B_std']]\n",
    "\n",
    "\n",
    "# Split the data into training/testing sets\n",
    "X_train = X[:-20]\n",
    "X_test = X[-20:]\n",
    "\n",
    "# Split the targets into training/testing sets\n",
    "Y_train = Y[:-20]\n",
    "Y_test = Y[-20:]\n",
    "\n",
    "# Create linear regression object\n",
    "regr = LinearRegression()\n",
    "\n",
    "# Train the model using the training sets\n",
    "regr.fit(X_train, Y_train)\n",
    "\n",
    "# The coefficients\n",
    "print('Coefficients: \\n', regr.coef_)\n",
    "# The mean squared error\n",
    "print(\"Mean squared error: %.2f\"\n",
    "      % np.mean((regr.predict(X_test) - Y_test) ** 2))\n",
    "# Explained variance score: 1 is perfect prediction\n",
    "print('Variance score: %.2f' % regr.score(X_test, Y_test))"
   ]
  },
  {
   "cell_type": "code",
   "execution_count": 15,
   "metadata": {
    "collapsed": false
   },
   "outputs": [
    {
     "name": "stdout",
     "output_type": "stream",
     "text": [
      "                            OLS Regression Results                            \n",
      "==============================================================================\n",
      "Dep. Variable:                    FCS   R-squared:                       0.215\n",
      "Model:                            OLS   Adj. R-squared:                  0.160\n",
      "Method:                 Least Squares   F-statistic:                     3.926\n",
      "Date:                Fri, 02 Jun 2017   Prob (F-statistic):           3.09e-06\n",
      "Time:                        11:11:03   Log-Likelihood:                -877.61\n",
      "No. Observations:                 231   AIC:                             1787.\n",
      "Df Residuals:                     215   BIC:                             1842.\n",
      "Df Model:                          15                                         \n",
      "Covariance Type:            nonrobust                                         \n",
      "==============================================================================\n",
      "                 coef    std err          t      P>|t|      [0.025      0.975]\n",
      "------------------------------------------------------------------------------\n",
      "const         27.6983      5.859      4.727      0.000      16.150      39.247\n",
      "R_mean        -0.1840      0.587     -0.314      0.754      -1.341       0.973\n",
      "R_median       0.2140      0.498      0.429      0.668      -0.769       1.196\n",
      "R_min         -0.2960      0.151     -1.966      0.051      -0.593       0.001\n",
      "R_max          0.2125      0.101      2.097      0.037       0.013       0.412\n",
      "R_std          0.0219      0.356      0.062      0.951      -0.679       0.723\n",
      "G_mean        -0.0300      0.889     -0.034      0.973      -1.783       1.723\n",
      "G_median       0.2730      0.773      0.353      0.724      -1.250       1.796\n",
      "G_min         -0.1239      0.193     -0.642      0.522      -0.504       0.257\n",
      "G_max         -0.5651      0.199     -2.839      0.005      -0.957      -0.173\n",
      "G_std          0.6436      0.554      1.161      0.247      -0.449       1.736\n",
      "B_mean         0.0866      0.649      0.134      0.894      -1.192       1.365\n",
      "B_median      -0.5067      0.568     -0.892      0.373      -1.626       0.612\n",
      "B_min          0.5622      0.163      3.445      0.001       0.241       0.884\n",
      "B_max          0.4427      0.172      2.581      0.011       0.105       0.781\n",
      "B_std         -0.4000      0.497     -0.806      0.421      -1.379       0.579\n",
      "==============================================================================\n",
      "Omnibus:                       47.793   Durbin-Watson:                   1.558\n",
      "Prob(Omnibus):                  0.000   Jarque-Bera (JB):              118.911\n",
      "Skew:                           0.930   Prob(JB):                     1.51e-26\n",
      "Kurtosis:                       5.983   Cond. No.                     4.02e+03\n",
      "==============================================================================\n",
      "\n",
      "Warnings:\n",
      "[1] Standard Errors assume that the covariance matrix of the errors is correctly specified.\n",
      "[2] The condition number is large, 4.02e+03. This might indicate that there are\n",
      "strong multicollinearity or other numerical problems.\n"
     ]
    }
   ],
   "source": [
    "X2 = sm.add_constant(X_train)\n",
    "est = sm.OLS(Y_train, X2)\n",
    "est2 = est.fit()\n",
    "print(est2.summary())"
   ]
  },
  {
   "cell_type": "markdown",
   "metadata": {},
   "source": [
    "### 2 - 10-Fold Cross validation"
   ]
  },
  {
   "cell_type": "code",
   "execution_count": 16,
   "metadata": {
    "collapsed": false
   },
   "outputs": [
    {
     "data": {
      "text/plain": [
       "array([-0.61105138,  0.33689545,  0.09585033, -0.29831742, -0.44400657,\n",
       "       -0.07974677,  0.18028375,  0.33575871, -0.42828561, -0.04370011])"
      ]
     },
     "execution_count": 16,
     "metadata": {},
     "output_type": "execute_result"
    }
   ],
   "source": [
    "\n",
    "# Create linear regression object\n",
    "regr = LinearRegression()\n",
    "\n",
    "# Train the model using the training sets\n",
    "regr.fit(X_train, Y_train)\n",
    "\n",
    "scores = cross_val_score(regr, X, Y, cv=10)\n",
    "scores                                              "
   ]
  },
  {
   "cell_type": "code",
   "execution_count": 18,
   "metadata": {
    "collapsed": false
   },
   "outputs": [
    {
     "name": "stdout",
     "output_type": "stream",
     "text": [
      "Accuracy: -0.10 (+/- 0.64)\n"
     ]
    }
   ],
   "source": [
    "print(\"Accuracy: %0.2f (+/- %0.2f)\" % (scores.mean(), scores.std() * 2))"
   ]
  },
  {
   "cell_type": "markdown",
   "metadata": {
    "collapsed": true
   },
   "source": [
    "# Ridge regression"
   ]
  },
  {
   "cell_type": "code",
   "execution_count": 17,
   "metadata": {
    "collapsed": false
   },
   "outputs": [],
   "source": [
    "from sklearn.model_selection import KFold\n",
    "from sklearn.linear_model import Ridge\n"
   ]
  },
  {
   "cell_type": "code",
   "execution_count": null,
   "metadata": {
    "collapsed": true
   },
   "outputs": [],
   "source": []
  }
 ],
 "metadata": {
  "kernelspec": {
   "display_name": "Python 2",
   "language": "python",
   "name": "python2"
  },
  "language_info": {
   "codemirror_mode": {
    "name": "ipython",
    "version": 2
   },
   "file_extension": ".py",
   "mimetype": "text/x-python",
   "name": "python",
   "nbconvert_exporter": "python",
   "pygments_lexer": "ipython2",
   "version": "2.7.13"
  }
 },
 "nbformat": 4,
 "nbformat_minor": 0
}
