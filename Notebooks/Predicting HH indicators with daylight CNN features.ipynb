{
 "cells": [
  {
   "cell_type": "code",
   "execution_count": 89,
   "metadata": {
    "collapsed": false
   },
   "outputs": [],
   "source": [
    "import pandas as pd \n",
    "import numpy as np\n",
    "import matplotlib.pyplot as plt\n",
    "import statsmodels.api as sm\n",
    "from sklearn.linear_model import LinearRegression\n",
    "from sklearn.model_selection import train_test_split\n",
    "from sklearn.model_selection import cross_val_score\n",
    "from sklearn.decomposition import PCA\n",
    "from sklearn.linear_model import Ridge\n",
    "from sklearn import linear_model\n",
    "%matplotlib inline "
   ]
  },
  {
   "cell_type": "markdown",
   "metadata": {},
   "source": [
    "### Loading HH Data"
   ]
  },
  {
   "cell_type": "code",
   "execution_count": 90,
   "metadata": {
    "collapsed": true
   },
   "outputs": [],
   "source": [
    "hh_village_coord_fcs = pd.read_csv(\"../Data/Intermediate_files/hh_village_coord_fcs.csv\")"
   ]
  },
  {
   "cell_type": "code",
   "execution_count": 91,
   "metadata": {
    "collapsed": true
   },
   "outputs": [],
   "source": [
    "hh_data_2011_cluster_minHH = pd.read_csv(\"../Data/Intermediate_files/hh_data_2011_cluster_minHH.csv\")"
   ]
  },
  {
   "cell_type": "markdown",
   "metadata": {},
   "source": [
    "### Loading CNN features"
   ]
  },
  {
   "cell_type": "code",
   "execution_count": 92,
   "metadata": {
    "collapsed": true
   },
   "outputs": [],
   "source": [
    "google_sat_CNN_features = pd.read_csv(\"../Data/Intermediate_files/google_sat_CNN_features.csv\")"
   ]
  },
  {
   "cell_type": "code",
   "execution_count": 93,
   "metadata": {
    "collapsed": false
   },
   "outputs": [],
   "source": [
    "google_sat_CNN_features_lsms = pd.read_csv(\"../Data/Intermediate_files/google_sat_CNN_features_lsms.csv\")"
   ]
  },
  {
   "cell_type": "markdown",
   "metadata": {},
   "source": [
    "### Merging"
   ]
  },
  {
   "cell_type": "code",
   "execution_count": 94,
   "metadata": {
    "collapsed": false
   },
   "outputs": [],
   "source": [
    "data=hh_data_2011_cluster_minHH.merge(google_sat_CNN_features_lsms,on=[\"i\",\"j\"])"
   ]
  },
  {
   "cell_type": "code",
   "execution_count": 95,
   "metadata": {
    "collapsed": false
   },
   "outputs": [],
   "source": [
    "start_features=len(hh_data_2011_cluster_minHH.columns)+6"
   ]
  },
  {
   "cell_type": "code",
   "execution_count": 96,
   "metadata": {
    "collapsed": false
   },
   "outputs": [],
   "source": [
    "data_features=data.iloc[:,start_features:].transpose()"
   ]
  },
  {
   "cell_type": "code",
   "execution_count": 97,
   "metadata": {
    "collapsed": false
   },
   "outputs": [
    {
     "data": {
      "text/html": [
       "<div>\n",
       "<style>\n",
       "    .dataframe thead tr:only-child th {\n",
       "        text-align: right;\n",
       "    }\n",
       "\n",
       "    .dataframe thead th {\n",
       "        text-align: left;\n",
       "    }\n",
       "\n",
       "    .dataframe tbody tr th {\n",
       "        vertical-align: top;\n",
       "    }\n",
       "</style>\n",
       "<table border=\"1\" class=\"dataframe\">\n",
       "  <thead>\n",
       "    <tr style=\"text-align: right;\">\n",
       "      <th></th>\n",
       "      <th>Unnamed: 0_x</th>\n",
       "      <th>gpsLatitude</th>\n",
       "      <th>gpsLongitude</th>\n",
       "      <th>cons</th>\n",
       "      <th>n</th>\n",
       "      <th>poor</th>\n",
       "      <th>n2</th>\n",
       "      <th>poor_majority</th>\n",
       "      <th>i</th>\n",
       "      <th>j</th>\n",
       "      <th>...</th>\n",
       "      <th>2038</th>\n",
       "      <th>2039</th>\n",
       "      <th>2040</th>\n",
       "      <th>2041</th>\n",
       "      <th>2042</th>\n",
       "      <th>2043</th>\n",
       "      <th>2044</th>\n",
       "      <th>2045</th>\n",
       "      <th>2046</th>\n",
       "      <th>2047</th>\n",
       "    </tr>\n",
       "  </thead>\n",
       "  <tbody>\n",
       "    <tr>\n",
       "      <th>0</th>\n",
       "      <td>1</td>\n",
       "      <td>-1.404995</td>\n",
       "      <td>29.949390</td>\n",
       "      <td>2.316352</td>\n",
       "      <td>12</td>\n",
       "      <td>0.250000</td>\n",
       "      <td>12</td>\n",
       "      <td>0</td>\n",
       "      <td>25194</td>\n",
       "      <td>9169</td>\n",
       "      <td>...</td>\n",
       "      <td>0.000000</td>\n",
       "      <td>0.000000</td>\n",
       "      <td>0.218186</td>\n",
       "      <td>0.001699</td>\n",
       "      <td>0.062874</td>\n",
       "      <td>2.291909</td>\n",
       "      <td>0.000000</td>\n",
       "      <td>0.047095</td>\n",
       "      <td>0.005236</td>\n",
       "      <td>0.000000</td>\n",
       "    </tr>\n",
       "    <tr>\n",
       "      <th>1</th>\n",
       "      <td>3</td>\n",
       "      <td>-1.340851</td>\n",
       "      <td>29.768257</td>\n",
       "      <td>1.594851</td>\n",
       "      <td>11</td>\n",
       "      <td>0.545455</td>\n",
       "      <td>11</td>\n",
       "      <td>1</td>\n",
       "      <td>25172</td>\n",
       "      <td>9161</td>\n",
       "      <td>...</td>\n",
       "      <td>0.000000</td>\n",
       "      <td>0.067413</td>\n",
       "      <td>0.240615</td>\n",
       "      <td>0.256114</td>\n",
       "      <td>0.309066</td>\n",
       "      <td>0.254673</td>\n",
       "      <td>0.075453</td>\n",
       "      <td>0.115074</td>\n",
       "      <td>0.000000</td>\n",
       "      <td>0.554650</td>\n",
       "    </tr>\n",
       "    <tr>\n",
       "      <th>2</th>\n",
       "      <td>4</td>\n",
       "      <td>-1.255216</td>\n",
       "      <td>30.056820</td>\n",
       "      <td>3.852909</td>\n",
       "      <td>10</td>\n",
       "      <td>0.300000</td>\n",
       "      <td>10</td>\n",
       "      <td>0</td>\n",
       "      <td>25207</td>\n",
       "      <td>9151</td>\n",
       "      <td>...</td>\n",
       "      <td>0.119368</td>\n",
       "      <td>0.002062</td>\n",
       "      <td>0.082190</td>\n",
       "      <td>0.035535</td>\n",
       "      <td>0.000000</td>\n",
       "      <td>1.572245</td>\n",
       "      <td>0.000000</td>\n",
       "      <td>0.070199</td>\n",
       "      <td>0.001174</td>\n",
       "      <td>0.178640</td>\n",
       "    </tr>\n",
       "    <tr>\n",
       "      <th>3</th>\n",
       "      <td>5</td>\n",
       "      <td>-1.241430</td>\n",
       "      <td>29.961166</td>\n",
       "      <td>2.776385</td>\n",
       "      <td>8</td>\n",
       "      <td>0.500000</td>\n",
       "      <td>8</td>\n",
       "      <td>1</td>\n",
       "      <td>25195</td>\n",
       "      <td>9149</td>\n",
       "      <td>...</td>\n",
       "      <td>0.000000</td>\n",
       "      <td>0.069473</td>\n",
       "      <td>0.000000</td>\n",
       "      <td>0.913471</td>\n",
       "      <td>0.495166</td>\n",
       "      <td>0.474202</td>\n",
       "      <td>0.000000</td>\n",
       "      <td>0.574797</td>\n",
       "      <td>0.236084</td>\n",
       "      <td>0.133874</td>\n",
       "    </tr>\n",
       "    <tr>\n",
       "      <th>4</th>\n",
       "      <td>8</td>\n",
       "      <td>-1.166219</td>\n",
       "      <td>29.794294</td>\n",
       "      <td>2.971421</td>\n",
       "      <td>7</td>\n",
       "      <td>0.142857</td>\n",
       "      <td>7</td>\n",
       "      <td>0</td>\n",
       "      <td>25175</td>\n",
       "      <td>9140</td>\n",
       "      <td>...</td>\n",
       "      <td>0.293005</td>\n",
       "      <td>0.000000</td>\n",
       "      <td>0.000000</td>\n",
       "      <td>0.000000</td>\n",
       "      <td>0.000000</td>\n",
       "      <td>1.318193</td>\n",
       "      <td>0.115472</td>\n",
       "      <td>0.065177</td>\n",
       "      <td>0.000000</td>\n",
       "      <td>0.222454</td>\n",
       "    </tr>\n",
       "  </tbody>\n",
       "</table>\n",
       "<p>5 rows × 2060 columns</p>\n",
       "</div>"
      ],
      "text/plain": [
       "   Unnamed: 0_x  gpsLatitude  gpsLongitude      cons   n      poor  n2  \\\n",
       "0             1    -1.404995     29.949390  2.316352  12  0.250000  12   \n",
       "1             3    -1.340851     29.768257  1.594851  11  0.545455  11   \n",
       "2             4    -1.255216     30.056820  3.852909  10  0.300000  10   \n",
       "3             5    -1.241430     29.961166  2.776385   8  0.500000   8   \n",
       "4             8    -1.166219     29.794294  2.971421   7  0.142857   7   \n",
       "\n",
       "   poor_majority      i     j    ...         2038      2039      2040  \\\n",
       "0              0  25194  9169    ...     0.000000  0.000000  0.218186   \n",
       "1              1  25172  9161    ...     0.000000  0.067413  0.240615   \n",
       "2              0  25207  9151    ...     0.119368  0.002062  0.082190   \n",
       "3              1  25195  9149    ...     0.000000  0.069473  0.000000   \n",
       "4              0  25175  9140    ...     0.293005  0.000000  0.000000   \n",
       "\n",
       "       2041      2042      2043      2044      2045      2046      2047  \n",
       "0  0.001699  0.062874  2.291909  0.000000  0.047095  0.005236  0.000000  \n",
       "1  0.256114  0.309066  0.254673  0.075453  0.115074  0.000000  0.554650  \n",
       "2  0.035535  0.000000  1.572245  0.000000  0.070199  0.001174  0.178640  \n",
       "3  0.913471  0.495166  0.474202  0.000000  0.574797  0.236084  0.133874  \n",
       "4  0.000000  0.000000  1.318193  0.115472  0.065177  0.000000  0.222454  \n",
       "\n",
       "[5 rows x 2060 columns]"
      ]
     },
     "execution_count": 97,
     "metadata": {},
     "output_type": "execute_result"
    }
   ],
   "source": [
    "data.head()"
   ]
  },
  {
   "cell_type": "markdown",
   "metadata": {},
   "source": [
    "### PCA components vs HH Indicators"
   ]
  },
  {
   "cell_type": "code",
   "execution_count": 98,
   "metadata": {
    "collapsed": false
   },
   "outputs": [],
   "source": [
    "pca = PCA(n_components=3)"
   ]
  },
  {
   "cell_type": "code",
   "execution_count": 99,
   "metadata": {
    "collapsed": false
   },
   "outputs": [
    {
     "data": {
      "text/plain": [
       "PCA(copy=True, iterated_power='auto', n_components=3, random_state=None,\n",
       "  svd_solver='auto', tol=0.0, whiten=False)"
      ]
     },
     "execution_count": 99,
     "metadata": {},
     "output_type": "execute_result"
    }
   ],
   "source": [
    "pca.fit(data_features)"
   ]
  },
  {
   "cell_type": "code",
   "execution_count": 100,
   "metadata": {
    "collapsed": false
   },
   "outputs": [],
   "source": [
    "eigenvectors=pca.components_"
   ]
  },
  {
   "cell_type": "code",
   "execution_count": 101,
   "metadata": {
    "collapsed": false
   },
   "outputs": [
    {
     "data": {
      "image/png": "[encoded data removed]",
      "text/plain": [
       "<matplotlib.figure.Figure at 0x11fcc68d0>"
      ]
     },
     "metadata": {},
     "output_type": "display_data"
    },
    {
     "data": {
      "image/png": "[encoded data removed]",
      "text/plain": [
       "<matplotlib.figure.Figure at 0x11fbbdd50>"
      ]
     },
     "metadata": {},
     "output_type": "display_data"
    },
    {
     "data": {
      "image/png": "[encoded data removed]",
      "text/plain": [
       "<matplotlib.figure.Figure at 0x1239e9b10>"
      ]
     },
     "metadata": {},
     "output_type": "display_data"
    }
   ],
   "source": [
    "for i in range(3):\n",
    "    plt.figure()\n",
    "    plt.scatter(data[\"cons\"], eigenvectors[i],  color='black')"
   ]
  },
  {
   "cell_type": "markdown",
   "metadata": {},
   "source": [
    "### Fit and evaluate prediction model"
   ]
  },
  {
   "cell_type": "code",
   "execution_count": 102,
   "metadata": {
    "collapsed": false
   },
   "outputs": [],
   "source": [
    "X=data.iloc[:,start_features:]\n",
    "y=data[\"poor\"]"
   ]
  },
  {
   "cell_type": "code",
   "execution_count": 103,
   "metadata": {
    "collapsed": false
   },
   "outputs": [
    {
     "data": {
      "text/plain": [
       "Ridge(alpha=1.0, copy_X=True, fit_intercept=True, max_iter=None,\n",
       "   normalize=False, random_state=None, solver='auto', tol=0.001)"
      ]
     },
     "execution_count": 103,
     "metadata": {},
     "output_type": "execute_result"
    }
   ],
   "source": [
    "clf = Ridge(alpha=1.0)\n",
    "clf.fit(X, y) "
   ]
  },
  {
   "cell_type": "code",
   "execution_count": 104,
   "metadata": {
    "collapsed": false
   },
   "outputs": [
    {
     "name": "stdout",
     "output_type": "stream",
     "text": [
      "Mean squared error: 0.00\n",
      "Variance score: 1.00\n"
     ]
    }
   ],
   "source": [
    "print(\"Mean squared error: %.2f\"\n",
    "      % np.mean((clf.predict(X) - y) ** 2))\n",
    "# Explained variance score: 1 is perfect prediction\n",
    "print('Variance score: %.2f' % clf.score(X, y))"
   ]
  },
  {
   "cell_type": "code",
   "execution_count": 105,
   "metadata": {
    "collapsed": false
   },
   "outputs": [
    {
     "data": {
      "text/plain": [
       "array([-1.58521016, -2.20441459, -2.87105925, -1.08001576, -0.04512601,\n",
       "       -0.58710248, -0.91258946, -1.57871425,  0.05459371, -0.72160995])"
      ]
     },
     "execution_count": 105,
     "metadata": {},
     "output_type": "execute_result"
    }
   ],
   "source": [
    "scores = cross_val_score(clf, X, y, cv=10)\n",
    "scores   "
   ]
  },
  {
   "cell_type": "code",
   "execution_count": 106,
   "metadata": {
    "collapsed": false
   },
   "outputs": [
    {
     "name": "stdout",
     "output_type": "stream",
     "text": [
      "Accuracy: -1.15 (+/- 1.75)\n"
     ]
    }
   ],
   "source": [
    "print(\"Accuracy: %0.2f (+/- %0.2f)\" % (scores.mean(), scores.std() * 2))"
   ]
  },
  {
   "cell_type": "markdown",
   "metadata": {},
   "source": [
    "### Poverty dummy"
   ]
  },
  {
   "cell_type": "code",
   "execution_count": 110,
   "metadata": {
    "collapsed": false
   },
   "outputs": [],
   "source": [
    "X=data.iloc[:,start_features:]\n",
    "y=data[\"poor_majority\"]"
   ]
  },
  {
   "cell_type": "code",
   "execution_count": 111,
   "metadata": {
    "collapsed": false
   },
   "outputs": [
    {
     "data": {
      "text/plain": [
       "LogisticRegression(C=1.0, class_weight=None, dual=False, fit_intercept=True,\n",
       "          intercept_scaling=1, max_iter=100, multi_class='ovr', n_jobs=1,\n",
       "          penalty='l2', random_state=None, solver='liblinear', tol=0.0001,\n",
       "          verbose=0, warm_start=False)"
      ]
     },
     "execution_count": 111,
     "metadata": {},
     "output_type": "execute_result"
    }
   ],
   "source": [
    "model = linear_model.LogisticRegression(penalty=\"l2\")\n",
    "model.fit(X, y) "
   ]
  },
  {
   "cell_type": "code",
   "execution_count": null,
   "metadata": {
    "collapsed": true
   },
   "outputs": [],
   "source": [
    "model."
   ]
  },
  {
   "cell_type": "code",
   "execution_count": 112,
   "metadata": {
    "collapsed": false
   },
   "outputs": [
    {
     "name": "stdout",
     "output_type": "stream",
     "text": [
      "Accuracy: 0.71 (+/- 0.25)\n"
     ]
    }
   ],
   "source": [
    "scores = cross_val_score(model, X, y, cv=10)\n",
    "scores   \n",
    "print(\"Accuracy: %0.2f (+/- %0.2f)\" % (scores.mean(), scores.std() * 2))"
   ]
  },
  {
   "cell_type": "code",
   "execution_count": 113,
   "metadata": {
    "collapsed": false
   },
   "outputs": [
    {
     "data": {
      "text/plain": [
       "array([ 0.67741935,  0.64516129,  0.87096774,  0.67741935,  0.93548387,\n",
       "        0.83870968,  0.58064516,  0.77419355,  0.58064516,  0.56666667])"
      ]
     },
     "execution_count": 113,
     "metadata": {},
     "output_type": "execute_result"
    }
   ],
   "source": [
    "scores   "
   ]
  },
  {
   "cell_type": "code",
   "execution_count": 114,
   "metadata": {
    "collapsed": false
   },
   "outputs": [
    {
     "data": {
      "text/plain": [
       "count    309.000000\n",
       "mean       0.258900\n",
       "std        0.438741\n",
       "min        0.000000\n",
       "25%        0.000000\n",
       "50%        0.000000\n",
       "75%        1.000000\n",
       "max        1.000000\n",
       "Name: poor_majority, dtype: float64"
      ]
     },
     "execution_count": 114,
     "metadata": {},
     "output_type": "execute_result"
    }
   ],
   "source": [
    "y.describe()"
   ]
  },
  {
   "cell_type": "code",
   "execution_count": null,
   "metadata": {
    "collapsed": true
   },
   "outputs": [],
   "source": []
  }
 ],
 "metadata": {
  "kernelspec": {
   "display_name": "Python 2",
   "language": "python",
   "name": "python2"
  },
  "language_info": {
   "codemirror_mode": {
    "name": "ipython",
    "version": 2
   },
   "file_extension": ".py",
   "mimetype": "text/x-python",
   "name": "python",
   "nbconvert_exporter": "python",
   "pygments_lexer": "ipython2",
   "version": "2.7.13"
  }
 },
 "nbformat": 4,
 "nbformat_minor": 0
}
